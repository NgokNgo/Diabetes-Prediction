{
 "cells": [
  {
   "cell_type": "code",
   "execution_count": 1,
   "metadata": {
    "vscode": {
     "languageId": "r"
    }
   },
   "outputs": [
    {
     "name": "stderr",
     "output_type": "stream",
     "text": [
      "\n",
      "Attaching package: 'dplyr'\n",
      "\n",
      "\n",
      "The following objects are masked from 'package:stats':\n",
      "\n",
      "    filter, lag\n",
      "\n",
      "\n",
      "The following objects are masked from 'package:base':\n",
      "\n",
      "    intersect, setdiff, setequal, union\n",
      "\n",
      "\n",
      "\n",
      "Attaching package: 'reshape2'\n",
      "\n",
      "\n",
      "The following object is masked from 'package:tidyr':\n",
      "\n",
      "    smiths\n",
      "\n",
      "\n"
     ]
    }
   ],
   "source": [
    "library(ggplot2)\n",
    "library(dplyr)\n",
    "library(readr)\n",
    "library(tidyr)\n",
    "library(reshape2)"
   ]
  },
  {
   "cell_type": "code",
   "execution_count": 3,
   "metadata": {
    "vscode": {
     "languageId": "r"
    }
   },
   "outputs": [
    {
     "name": "stderr",
     "output_type": "stream",
     "text": [
      "\u001b[1mRows: \u001b[22m\u001b[34m253680\u001b[39m \u001b[1mColumns: \u001b[22m\u001b[34m22\u001b[39m\n",
      "\u001b[36m──\u001b[39m \u001b[1mColumn specification\u001b[22m \u001b[36m────────────────────────────────────────────────────────\u001b[39m\n",
      "\u001b[1mDelimiter:\u001b[22m \",\"\n",
      "\u001b[32mdbl\u001b[39m (22): Diabetes_012, HighBP, HighChol, CholCheck, BMI, Smoker, Stroke, He...\n",
      "\n",
      "\u001b[36mℹ\u001b[39m Use `spec()` to retrieve the full column specification for this data.\n",
      "\u001b[36mℹ\u001b[39m Specify the column types or set `show_col_types = FALSE` to quiet this message.\n"
     ]
    },
    {
     "data": {
      "text/html": [
       "<table class=\"dataframe\">\n",
       "<caption>A tibble: 10 × 22</caption>\n",
       "<thead>\n",
       "\t<tr><th scope=col>Diabetes_012</th><th scope=col>HighBP</th><th scope=col>HighChol</th><th scope=col>CholCheck</th><th scope=col>BMI</th><th scope=col>Smoker</th><th scope=col>Stroke</th><th scope=col>HeartDiseaseorAttack</th><th scope=col>PhysActivity</th><th scope=col>Fruits</th><th scope=col>⋯</th><th scope=col>AnyHealthcare</th><th scope=col>NoDocbcCost</th><th scope=col>GenHlth</th><th scope=col>MentHlth</th><th scope=col>PhysHlth</th><th scope=col>DiffWalk</th><th scope=col>Sex</th><th scope=col>Age</th><th scope=col>Education</th><th scope=col>Income</th></tr>\n",
       "\t<tr><th scope=col>&lt;dbl&gt;</th><th scope=col>&lt;dbl&gt;</th><th scope=col>&lt;dbl&gt;</th><th scope=col>&lt;dbl&gt;</th><th scope=col>&lt;dbl&gt;</th><th scope=col>&lt;dbl&gt;</th><th scope=col>&lt;dbl&gt;</th><th scope=col>&lt;dbl&gt;</th><th scope=col>&lt;dbl&gt;</th><th scope=col>&lt;dbl&gt;</th><th scope=col>⋯</th><th scope=col>&lt;dbl&gt;</th><th scope=col>&lt;dbl&gt;</th><th scope=col>&lt;dbl&gt;</th><th scope=col>&lt;dbl&gt;</th><th scope=col>&lt;dbl&gt;</th><th scope=col>&lt;dbl&gt;</th><th scope=col>&lt;dbl&gt;</th><th scope=col>&lt;dbl&gt;</th><th scope=col>&lt;dbl&gt;</th><th scope=col>&lt;dbl&gt;</th></tr>\n",
       "</thead>\n",
       "<tbody>\n",
       "\t<tr><td>0</td><td>1</td><td>1</td><td>1</td><td>40</td><td>1</td><td>0</td><td>0</td><td>0</td><td>0</td><td>⋯</td><td>1</td><td>0</td><td>5</td><td>18</td><td>15</td><td>1</td><td>0</td><td> 9</td><td>4</td><td>3</td></tr>\n",
       "\t<tr><td>0</td><td>0</td><td>0</td><td>0</td><td>25</td><td>1</td><td>0</td><td>0</td><td>1</td><td>0</td><td>⋯</td><td>0</td><td>1</td><td>3</td><td> 0</td><td> 0</td><td>0</td><td>0</td><td> 7</td><td>6</td><td>1</td></tr>\n",
       "\t<tr><td>0</td><td>1</td><td>1</td><td>1</td><td>28</td><td>0</td><td>0</td><td>0</td><td>0</td><td>1</td><td>⋯</td><td>1</td><td>1</td><td>5</td><td>30</td><td>30</td><td>1</td><td>0</td><td> 9</td><td>4</td><td>8</td></tr>\n",
       "\t<tr><td>0</td><td>1</td><td>0</td><td>1</td><td>27</td><td>0</td><td>0</td><td>0</td><td>1</td><td>1</td><td>⋯</td><td>1</td><td>0</td><td>2</td><td> 0</td><td> 0</td><td>0</td><td>0</td><td>11</td><td>3</td><td>6</td></tr>\n",
       "\t<tr><td>0</td><td>1</td><td>1</td><td>1</td><td>24</td><td>0</td><td>0</td><td>0</td><td>1</td><td>1</td><td>⋯</td><td>1</td><td>0</td><td>2</td><td> 3</td><td> 0</td><td>0</td><td>0</td><td>11</td><td>5</td><td>4</td></tr>\n",
       "\t<tr><td>0</td><td>1</td><td>1</td><td>1</td><td>25</td><td>1</td><td>0</td><td>0</td><td>1</td><td>1</td><td>⋯</td><td>1</td><td>0</td><td>2</td><td> 0</td><td> 2</td><td>0</td><td>1</td><td>10</td><td>6</td><td>8</td></tr>\n",
       "\t<tr><td>0</td><td>1</td><td>0</td><td>1</td><td>30</td><td>1</td><td>0</td><td>0</td><td>0</td><td>0</td><td>⋯</td><td>1</td><td>0</td><td>3</td><td> 0</td><td>14</td><td>0</td><td>0</td><td> 9</td><td>6</td><td>7</td></tr>\n",
       "\t<tr><td>0</td><td>1</td><td>1</td><td>1</td><td>25</td><td>1</td><td>0</td><td>0</td><td>1</td><td>0</td><td>⋯</td><td>1</td><td>0</td><td>3</td><td> 0</td><td> 0</td><td>1</td><td>0</td><td>11</td><td>4</td><td>4</td></tr>\n",
       "\t<tr><td>2</td><td>1</td><td>1</td><td>1</td><td>30</td><td>1</td><td>0</td><td>1</td><td>0</td><td>1</td><td>⋯</td><td>1</td><td>0</td><td>5</td><td>30</td><td>30</td><td>1</td><td>0</td><td> 9</td><td>5</td><td>1</td></tr>\n",
       "\t<tr><td>0</td><td>0</td><td>0</td><td>1</td><td>24</td><td>0</td><td>0</td><td>0</td><td>0</td><td>0</td><td>⋯</td><td>1</td><td>0</td><td>2</td><td> 0</td><td> 0</td><td>0</td><td>1</td><td> 8</td><td>4</td><td>3</td></tr>\n",
       "</tbody>\n",
       "</table>\n"
      ],
      "text/latex": [
       "A tibble: 10 × 22\n",
       "\\begin{tabular}{lllllllllllllllllllll}\n",
       " Diabetes\\_012 & HighBP & HighChol & CholCheck & BMI & Smoker & Stroke & HeartDiseaseorAttack & PhysActivity & Fruits & ⋯ & AnyHealthcare & NoDocbcCost & GenHlth & MentHlth & PhysHlth & DiffWalk & Sex & Age & Education & Income\\\\\n",
       " <dbl> & <dbl> & <dbl> & <dbl> & <dbl> & <dbl> & <dbl> & <dbl> & <dbl> & <dbl> & ⋯ & <dbl> & <dbl> & <dbl> & <dbl> & <dbl> & <dbl> & <dbl> & <dbl> & <dbl> & <dbl>\\\\\n",
       "\\hline\n",
       "\t 0 & 1 & 1 & 1 & 40 & 1 & 0 & 0 & 0 & 0 & ⋯ & 1 & 0 & 5 & 18 & 15 & 1 & 0 &  9 & 4 & 3\\\\\n",
       "\t 0 & 0 & 0 & 0 & 25 & 1 & 0 & 0 & 1 & 0 & ⋯ & 0 & 1 & 3 &  0 &  0 & 0 & 0 &  7 & 6 & 1\\\\\n",
       "\t 0 & 1 & 1 & 1 & 28 & 0 & 0 & 0 & 0 & 1 & ⋯ & 1 & 1 & 5 & 30 & 30 & 1 & 0 &  9 & 4 & 8\\\\\n",
       "\t 0 & 1 & 0 & 1 & 27 & 0 & 0 & 0 & 1 & 1 & ⋯ & 1 & 0 & 2 &  0 &  0 & 0 & 0 & 11 & 3 & 6\\\\\n",
       "\t 0 & 1 & 1 & 1 & 24 & 0 & 0 & 0 & 1 & 1 & ⋯ & 1 & 0 & 2 &  3 &  0 & 0 & 0 & 11 & 5 & 4\\\\\n",
       "\t 0 & 1 & 1 & 1 & 25 & 1 & 0 & 0 & 1 & 1 & ⋯ & 1 & 0 & 2 &  0 &  2 & 0 & 1 & 10 & 6 & 8\\\\\n",
       "\t 0 & 1 & 0 & 1 & 30 & 1 & 0 & 0 & 0 & 0 & ⋯ & 1 & 0 & 3 &  0 & 14 & 0 & 0 &  9 & 6 & 7\\\\\n",
       "\t 0 & 1 & 1 & 1 & 25 & 1 & 0 & 0 & 1 & 0 & ⋯ & 1 & 0 & 3 &  0 &  0 & 1 & 0 & 11 & 4 & 4\\\\\n",
       "\t 2 & 1 & 1 & 1 & 30 & 1 & 0 & 1 & 0 & 1 & ⋯ & 1 & 0 & 5 & 30 & 30 & 1 & 0 &  9 & 5 & 1\\\\\n",
       "\t 0 & 0 & 0 & 1 & 24 & 0 & 0 & 0 & 0 & 0 & ⋯ & 1 & 0 & 2 &  0 &  0 & 0 & 1 &  8 & 4 & 3\\\\\n",
       "\\end{tabular}\n"
      ],
      "text/markdown": [
       "\n",
       "A tibble: 10 × 22\n",
       "\n",
       "| Diabetes_012 &lt;dbl&gt; | HighBP &lt;dbl&gt; | HighChol &lt;dbl&gt; | CholCheck &lt;dbl&gt; | BMI &lt;dbl&gt; | Smoker &lt;dbl&gt; | Stroke &lt;dbl&gt; | HeartDiseaseorAttack &lt;dbl&gt; | PhysActivity &lt;dbl&gt; | Fruits &lt;dbl&gt; | ⋯ ⋯ | AnyHealthcare &lt;dbl&gt; | NoDocbcCost &lt;dbl&gt; | GenHlth &lt;dbl&gt; | MentHlth &lt;dbl&gt; | PhysHlth &lt;dbl&gt; | DiffWalk &lt;dbl&gt; | Sex &lt;dbl&gt; | Age &lt;dbl&gt; | Education &lt;dbl&gt; | Income &lt;dbl&gt; |\n",
       "|---|---|---|---|---|---|---|---|---|---|---|---|---|---|---|---|---|---|---|---|---|\n",
       "| 0 | 1 | 1 | 1 | 40 | 1 | 0 | 0 | 0 | 0 | ⋯ | 1 | 0 | 5 | 18 | 15 | 1 | 0 |  9 | 4 | 3 |\n",
       "| 0 | 0 | 0 | 0 | 25 | 1 | 0 | 0 | 1 | 0 | ⋯ | 0 | 1 | 3 |  0 |  0 | 0 | 0 |  7 | 6 | 1 |\n",
       "| 0 | 1 | 1 | 1 | 28 | 0 | 0 | 0 | 0 | 1 | ⋯ | 1 | 1 | 5 | 30 | 30 | 1 | 0 |  9 | 4 | 8 |\n",
       "| 0 | 1 | 0 | 1 | 27 | 0 | 0 | 0 | 1 | 1 | ⋯ | 1 | 0 | 2 |  0 |  0 | 0 | 0 | 11 | 3 | 6 |\n",
       "| 0 | 1 | 1 | 1 | 24 | 0 | 0 | 0 | 1 | 1 | ⋯ | 1 | 0 | 2 |  3 |  0 | 0 | 0 | 11 | 5 | 4 |\n",
       "| 0 | 1 | 1 | 1 | 25 | 1 | 0 | 0 | 1 | 1 | ⋯ | 1 | 0 | 2 |  0 |  2 | 0 | 1 | 10 | 6 | 8 |\n",
       "| 0 | 1 | 0 | 1 | 30 | 1 | 0 | 0 | 0 | 0 | ⋯ | 1 | 0 | 3 |  0 | 14 | 0 | 0 |  9 | 6 | 7 |\n",
       "| 0 | 1 | 1 | 1 | 25 | 1 | 0 | 0 | 1 | 0 | ⋯ | 1 | 0 | 3 |  0 |  0 | 1 | 0 | 11 | 4 | 4 |\n",
       "| 2 | 1 | 1 | 1 | 30 | 1 | 0 | 1 | 0 | 1 | ⋯ | 1 | 0 | 5 | 30 | 30 | 1 | 0 |  9 | 5 | 1 |\n",
       "| 0 | 0 | 0 | 1 | 24 | 0 | 0 | 0 | 0 | 0 | ⋯ | 1 | 0 | 2 |  0 |  0 | 0 | 1 |  8 | 4 | 3 |\n",
       "\n"
      ],
      "text/plain": [
       "   Diabetes_012 HighBP HighChol CholCheck BMI Smoker Stroke\n",
       "1  0            1      1        1         40  1      0     \n",
       "2  0            0      0        0         25  1      0     \n",
       "3  0            1      1        1         28  0      0     \n",
       "4  0            1      0        1         27  0      0     \n",
       "5  0            1      1        1         24  0      0     \n",
       "6  0            1      1        1         25  1      0     \n",
       "7  0            1      0        1         30  1      0     \n",
       "8  0            1      1        1         25  1      0     \n",
       "9  2            1      1        1         30  1      0     \n",
       "10 0            0      0        1         24  0      0     \n",
       "   HeartDiseaseorAttack PhysActivity Fruits ⋯ AnyHealthcare NoDocbcCost GenHlth\n",
       "1  0                    0            0      ⋯ 1             0           5      \n",
       "2  0                    1            0      ⋯ 0             1           3      \n",
       "3  0                    0            1      ⋯ 1             1           5      \n",
       "4  0                    1            1      ⋯ 1             0           2      \n",
       "5  0                    1            1      ⋯ 1             0           2      \n",
       "6  0                    1            1      ⋯ 1             0           2      \n",
       "7  0                    0            0      ⋯ 1             0           3      \n",
       "8  0                    1            0      ⋯ 1             0           3      \n",
       "9  1                    0            1      ⋯ 1             0           5      \n",
       "10 0                    0            0      ⋯ 1             0           2      \n",
       "   MentHlth PhysHlth DiffWalk Sex Age Education Income\n",
       "1  18       15       1        0    9  4         3     \n",
       "2   0        0       0        0    7  6         1     \n",
       "3  30       30       1        0    9  4         8     \n",
       "4   0        0       0        0   11  3         6     \n",
       "5   3        0       0        0   11  5         4     \n",
       "6   0        2       0        1   10  6         8     \n",
       "7   0       14       0        0    9  6         7     \n",
       "8   0        0       1        0   11  4         4     \n",
       "9  30       30       1        0    9  5         1     \n",
       "10  0        0       0        1    8  4         3     "
      ]
     },
     "metadata": {},
     "output_type": "display_data"
    }
   ],
   "source": [
    "df <- read_csv('diabetes_012_health_indicators_BRFSS2015.csv')\n",
    "head(df,10)"
   ]
  },
  {
   "cell_type": "code",
   "execution_count": 4,
   "metadata": {
    "vscode": {
     "languageId": "r"
    }
   },
   "outputs": [
    {
     "name": "stdout",
     "output_type": "stream",
     "text": [
      "spc_tbl_ [253,680 × 22] (S3: spec_tbl_df/tbl_df/tbl/data.frame)\n",
      " $ Diabetes_012        : num [1:253680] 0 0 0 0 0 0 0 0 2 0 ...\n",
      " $ HighBP              : num [1:253680] 1 0 1 1 1 1 1 1 1 0 ...\n",
      " $ HighChol            : num [1:253680] 1 0 1 0 1 1 0 1 1 0 ...\n",
      " $ CholCheck           : num [1:253680] 1 0 1 1 1 1 1 1 1 1 ...\n",
      " $ BMI                 : num [1:253680] 40 25 28 27 24 25 30 25 30 24 ...\n",
      " $ Smoker              : num [1:253680] 1 1 0 0 0 1 1 1 1 0 ...\n",
      " $ Stroke              : num [1:253680] 0 0 0 0 0 0 0 0 0 0 ...\n",
      " $ HeartDiseaseorAttack: num [1:253680] 0 0 0 0 0 0 0 0 1 0 ...\n",
      " $ PhysActivity        : num [1:253680] 0 1 0 1 1 1 0 1 0 0 ...\n",
      " $ Fruits              : num [1:253680] 0 0 1 1 1 1 0 0 1 0 ...\n",
      " $ Veggies             : num [1:253680] 1 0 0 1 1 1 0 1 1 1 ...\n",
      " $ HvyAlcoholConsump   : num [1:253680] 0 0 0 0 0 0 0 0 0 0 ...\n",
      " $ AnyHealthcare       : num [1:253680] 1 0 1 1 1 1 1 1 1 1 ...\n",
      " $ NoDocbcCost         : num [1:253680] 0 1 1 0 0 0 0 0 0 0 ...\n",
      " $ GenHlth             : num [1:253680] 5 3 5 2 2 2 3 3 5 2 ...\n",
      " $ MentHlth            : num [1:253680] 18 0 30 0 3 0 0 0 30 0 ...\n",
      " $ PhysHlth            : num [1:253680] 15 0 30 0 0 2 14 0 30 0 ...\n",
      " $ DiffWalk            : num [1:253680] 1 0 1 0 0 0 0 1 1 0 ...\n",
      " $ Sex                 : num [1:253680] 0 0 0 0 0 1 0 0 0 1 ...\n",
      " $ Age                 : num [1:253680] 9 7 9 11 11 10 9 11 9 8 ...\n",
      " $ Education           : num [1:253680] 4 6 4 3 5 6 6 4 5 4 ...\n",
      " $ Income              : num [1:253680] 3 1 8 6 4 8 7 4 1 3 ...\n",
      " - attr(*, \"spec\")=\n",
      "  .. cols(\n",
      "  ..   Diabetes_012 = \u001b[32mcol_double()\u001b[39m,\n",
      "  ..   HighBP = \u001b[32mcol_double()\u001b[39m,\n",
      "  ..   HighChol = \u001b[32mcol_double()\u001b[39m,\n",
      "  ..   CholCheck = \u001b[32mcol_double()\u001b[39m,\n",
      "  ..   BMI = \u001b[32mcol_double()\u001b[39m,\n",
      "  ..   Smoker = \u001b[32mcol_double()\u001b[39m,\n",
      "  ..   Stroke = \u001b[32mcol_double()\u001b[39m,\n",
      "  ..   HeartDiseaseorAttack = \u001b[32mcol_double()\u001b[39m,\n",
      "  ..   PhysActivity = \u001b[32mcol_double()\u001b[39m,\n",
      "  ..   Fruits = \u001b[32mcol_double()\u001b[39m,\n",
      "  ..   Veggies = \u001b[32mcol_double()\u001b[39m,\n",
      "  ..   HvyAlcoholConsump = \u001b[32mcol_double()\u001b[39m,\n",
      "  ..   AnyHealthcare = \u001b[32mcol_double()\u001b[39m,\n",
      "  ..   NoDocbcCost = \u001b[32mcol_double()\u001b[39m,\n",
      "  ..   GenHlth = \u001b[32mcol_double()\u001b[39m,\n",
      "  ..   MentHlth = \u001b[32mcol_double()\u001b[39m,\n",
      "  ..   PhysHlth = \u001b[32mcol_double()\u001b[39m,\n",
      "  ..   DiffWalk = \u001b[32mcol_double()\u001b[39m,\n",
      "  ..   Sex = \u001b[32mcol_double()\u001b[39m,\n",
      "  ..   Age = \u001b[32mcol_double()\u001b[39m,\n",
      "  ..   Education = \u001b[32mcol_double()\u001b[39m,\n",
      "  ..   Income = \u001b[32mcol_double()\u001b[39m\n",
      "  .. )\n",
      " - attr(*, \"problems\")=<externalptr> \n"
     ]
    }
   ],
   "source": [
    "str(df)"
   ]
  },
  {
   "cell_type": "code",
   "execution_count": 7,
   "metadata": {
    "vscode": {
     "languageId": "r"
    }
   },
   "outputs": [
    {
     "data": {
      "text/html": [
       "23899"
      ],
      "text/latex": [
       "23899"
      ],
      "text/markdown": [
       "23899"
      ],
      "text/plain": [
       "[1] 23899"
      ]
     },
     "metadata": {},
     "output_type": "display_data"
    }
   ],
   "source": [
    "# Check for duplicated rows\n",
    "sum(duplicated(df))"
   ]
  },
  {
   "cell_type": "code",
   "execution_count": 9,
   "metadata": {
    "vscode": {
     "languageId": "r"
    }
   },
   "outputs": [
    {
     "name": "stdout",
     "output_type": "stream",
     "text": [
      "        Diabetes_012               HighBP             HighChol \n",
      "                   3                    2                    2 \n",
      "           CholCheck                  BMI               Smoker \n",
      "                   2                   84                    2 \n",
      "              Stroke HeartDiseaseorAttack         PhysActivity \n",
      "                   2                    2                    2 \n",
      "              Fruits              Veggies    HvyAlcoholConsump \n",
      "                   2                    2                    2 \n",
      "       AnyHealthcare          NoDocbcCost              GenHlth \n",
      "                   2                    2                    5 \n",
      "            MentHlth             PhysHlth             DiffWalk \n",
      "                  31                   31                    2 \n",
      "                 Sex                  Age            Education \n",
      "                   2                   13                    6 \n",
      "              Income \n",
      "                   8 \n"
     ]
    }
   ],
   "source": [
    "# Count unique values in each column\n",
    "print(sapply(df, n_distinct))"
   ]
  },
  {
   "cell_type": "code",
   "execution_count": 11,
   "metadata": {
    "vscode": {
     "languageId": "r"
    }
   },
   "outputs": [
    {
     "data": {
      "image/png": "[encoded data removed]",
      "text/plain": [
       "Plot with title \"BMI Histogram\""
      ]
     },
     "metadata": {
      "image/png": {
       "height": 420,
       "width": 420
      }
     },
     "output_type": "display_data"
    }
   ],
   "source": [
    "# Plot histograms for quantitative variables\n",
    "par(mfrow=c(3,1), bg='white')\n",
    "hist(df$MentHlth, breaks=31, col='green', main='MentHlth Histogram')\n",
    "hist(df$PhysHlth, breaks=31, col='blue', main='PhysHlth Histogram')\n",
    "hist(df$BMI, breaks=84, col='red', main='BMI Histogram')"
   ]
  },
  {
   "cell_type": "code",
   "execution_count": 25,
   "metadata": {
    "vscode": {
     "languageId": "r"
    }
   },
   "outputs": [
    {
     "data": {
      "image/png": "[encoded data removed]",
      "text/plain": [
       "plot without title"
      ]
     },
     "metadata": {
      "image/png": {
       "height": 300,
       "width": 600
      }
     },
     "output_type": "display_data"
    }
   ],
   "source": [
    "# Increase the width of the plot\n",
    "options(repr.plot.width=10, repr.plot.height=5)\n",
    "\n",
    "# Boxplot for BMI with horizontal axis\n",
    "ggplot(df, aes(x = factor(0), y = BMI, fill= factor(0))) + \n",
    "    geom_boxplot() + \n",
    "    labs(title = \"BMI Boxplot\") + \n",
    "    theme_minimal() + \n",
    "    coord_flip()"
   ]
  },
  {
   "cell_type": "code",
   "execution_count": 14,
   "metadata": {
    "vscode": {
     "languageId": "r"
    }
   },
   "outputs": [
    {
     "data": {
      "text/plain": [
       "   Min. 1st Qu.  Median    Mean 3rd Qu.    Max. \n",
       "  12.00   24.00   27.00   28.38   31.00   98.00 "
      ]
     },
     "metadata": {},
     "output_type": "display_data"
    }
   ],
   "source": [
    "# summary for BMI\n",
    "summary(df$BMI)"
   ]
  },
  {
   "cell_type": "code",
   "execution_count": 15,
   "metadata": {
    "vscode": {
     "languageId": "r"
    }
   },
   "outputs": [
    {
     "name": "stderr",
     "output_type": "stream",
     "text": [
      "No id variables; using all as measure variables\n",
      "\n"
     ]
    }
   ],
   "source": [
    "# Frequency plots for categorical variables\n",
    "df2 <- df %>% select(-BMI, -MentHlth, -PhysHlth)\n",
    "\n",
    "# Reshape data for plotting\n",
    "df2_melt <- melt(df2)"
   ]
  },
  {
   "cell_type": "code",
   "execution_count": 21,
   "metadata": {
    "vscode": {
     "languageId": "r"
    }
   },
   "outputs": [
    {
     "data": {
      "image/png": "[encoded data removed]",
      "text/plain": [
       "plot without title"
      ]
     },
     "metadata": {
      "image/png": {
       "height": 480,
       "width": 600
      }
     },
     "output_type": "display_data"
    }
   ],
   "source": [
    "# Increase the width of the plot\n",
    "options(repr.plot.width=10, repr.plot.height=8)\n",
    "\n",
    "# Plot frequency for each categorical variable\n",
    "ggplot(df2_melt, aes(x = value, fill = variable)) + \n",
    "    geom_bar() + \n",
    "    facet_wrap(~variable, scales = 'free_x') + \n",
    "    theme_minimal()"
   ]
  },
  {
   "cell_type": "code",
   "execution_count": 24,
   "metadata": {
    "vscode": {
     "languageId": "r"
    }
   },
   "outputs": [
    {
     "data": {
      "image/png": "[encoded data removed]",
      "text/plain": [
       "plot without title"
      ]
     },
     "metadata": {
      "image/png": {
       "height": 300,
       "width": 600
      }
     },
     "output_type": "display_data"
    }
   ],
   "source": [
    "options(repr.plot.width=10, repr.plot.height=5)\n",
    "\n",
    "# Boxplot for Age with color\n",
    "ggplot(df, aes(x = factor(0), y = Age, fill = factor(0))) + \n",
    "  geom_boxplot() + \n",
    "  labs(title = \"Age Boxplot\") + \n",
    "  theme_minimal() +\n",
    "  coord_flip()"
   ]
  },
  {
   "cell_type": "code",
   "execution_count": 31,
   "metadata": {
    "vscode": {
     "languageId": "r"
    }
   },
   "outputs": [
    {
     "data": {
      "image/png": "[encoded data removed]",
      "text/plain": [
       "Plot with title \"\""
      ]
     },
     "metadata": {
      "image/png": {
       "height": 300,
       "width": 600
      }
     },
     "output_type": "display_data"
    }
   ],
   "source": [
    "library(corrplot)\n",
    "# Correlation matrix\n",
    "corr <- cor(df, use = \"complete.obs\")\n",
    "corrplot(corr)"
   ]
  },
  {
   "cell_type": "markdown",
   "metadata": {},
   "source": [
    "#### Summary"
   ]
  },
  {
   "cell_type": "markdown",
   "metadata": {},
   "source": [
    "1 số biến có tương quan với nhau => có thể dẫn đến đa cộng tuyến, cần có quá trình lựa chọn biến cho mô hình hồi quy\n",
    "\n",
    "giả định về mức sống và lối sống của các quan sát quyết định có khả năng mắc bệnh tiểu đường hay không. (không bao gồm các yếu tố bệnh lí huyết áp cao, cholesterol cao, hút thuốc và giới tính)\n",
    "\n",
    "dữ liệu về số lượng người mắc bệnh tiểu đường và không mắc bệnh không cân bằng => xử lí imbalanced data \n"
   ]
  }
 ],
 "metadata": {
  "kernelspec": {
   "display_name": "R",
   "language": "R",
   "name": "ir"
  },
  "language_info": {
   "codemirror_mode": "r",
   "file_extension": ".r",
   "mimetype": "text/x-r-source",
   "name": "R",
   "pygments_lexer": "r",
   "version": "4.4.2"
  }
 },
 "nbformat": 4,
 "nbformat_minor": 2
}
