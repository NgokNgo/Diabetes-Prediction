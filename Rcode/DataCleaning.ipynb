{
 "cells": [
  {
   "cell_type": "code",
   "execution_count": 1,
   "metadata": {
    "vscode": {
     "languageId": "r"
    }
   },
   "outputs": [
    {
     "name": "stderr",
     "output_type": "stream",
     "text": [
      "\n",
      "Attaching package: 'dplyr'\n",
      "\n",
      "\n",
      "The following objects are masked from 'package:stats':\n",
      "\n",
      "    filter, lag\n",
      "\n",
      "\n",
      "The following objects are masked from 'package:base':\n",
      "\n",
      "    intersect, setdiff, setequal, union\n",
      "\n",
      "\n"
     ]
    }
   ],
   "source": [
    "library(ggplot2)\n",
    "library(dplyr)\n",
    "library(readr)\n",
    "library(tidyr)"
   ]
  },
  {
   "cell_type": "code",
   "execution_count": 2,
   "metadata": {
    "vscode": {
     "languageId": "r"
    }
   },
   "outputs": [
    {
     "name": "stderr",
     "output_type": "stream",
     "text": [
      "\u001b[1mRows: \u001b[22m\u001b[34m253680\u001b[39m \u001b[1mColumns: \u001b[22m\u001b[34m22\u001b[39m\n",
      "\u001b[36m──\u001b[39m \u001b[1mColumn specification\u001b[22m \u001b[36m────────────────────────────────────────────────────────\u001b[39m\n",
      "\u001b[1mDelimiter:\u001b[22m \",\"\n",
      "\u001b[32mdbl\u001b[39m (22): Diabetes_012, HighBP, HighChol, CholCheck, BMI, Smoker, Stroke, He...\n",
      "\n",
      "\u001b[36mℹ\u001b[39m Use `spec()` to retrieve the full column specification for this data.\n",
      "\u001b[36mℹ\u001b[39m Specify the column types or set `show_col_types = FALSE` to quiet this message.\n"
     ]
    }
   ],
   "source": [
    "df <- read_csv('../data/diabetes_012_health_indicators_BRFSS2015.csv')"
   ]
  },
  {
   "cell_type": "markdown",
   "metadata": {},
   "source": [
    "### Outliers"
   ]
  },
  {
   "cell_type": "markdown",
   "metadata": {},
   "source": [
    "gom nhóm nhãn hiếm cho Education.       \n",
    "1: Less than high school.       \n",
    "2: High School.     \n",
    "3: College.     \n",
    "4: College gradute. "
   ]
  },
  {
   "cell_type": "code",
   "execution_count": 3,
   "metadata": {
    "vscode": {
     "languageId": "r"
    }
   },
   "outputs": [],
   "source": [
    "df <- df %>%\n",
    "  mutate(Education = case_when(\n",
    "    Education %in% c(1,2,3) ~ 1,\n",
    "    Education %in% c(4,5,6) ~ Education\n",
    "  )) %>%\n",
    "  mutate(Education = factor(Education, levels = c(1,4,5,6), labels = c(1,2,3,4)))\n",
    "\n",
    "df$Education <- as.double(as.character(df$Education))"
   ]
  },
  {
   "cell_type": "code",
   "execution_count": 4,
   "metadata": {
    "vscode": {
     "languageId": "r"
    }
   },
   "outputs": [
    {
     "data": {
      "image/png": "[encoded data removed]",
      "text/plain": [
       "plot without title"
      ]
     },
     "metadata": {
      "image/png": {
       "height": 420,
       "width": 420
      }
     },
     "output_type": "display_data"
    }
   ],
   "source": [
    "ggplot(df, aes(x=as.factor(Education), fill=Education)) +\n",
    "    geom_bar() +\n",
    "    labs(title = \"Education Distribution\",\n",
    "         x = \"Education Level\",\n",
    "         y = \"Count\") +\n",
    "    theme_minimal() "
   ]
  },
  {
   "cell_type": "markdown",
   "metadata": {},
   "source": [
    "Scale lại toàn bộ dữ liệu cho các biến định lượng để giảm ảnh hưởng của outliers trong quá trình kiểm định giả thuyết. "
   ]
  },
  {
   "cell_type": "code",
   "execution_count": 5,
   "metadata": {
    "vscode": {
     "languageId": "r"
    }
   },
   "outputs": [],
   "source": [
    "robust_scaler <- function(x) {\n",
    "  Q1 <- quantile(x, 0.25) \n",
    "  Q3 <- quantile(x, 0.75) \n",
    "  IQR <- Q3 - Q1          \n",
    "  median_x <- median(x)   \n",
    "\n",
    "  scaled_x <- (x - median_x) / IQR\n",
    "  return(scaled_x)\n",
    "}\n",
    "\n",
    "df1 <- df %>%\n",
    "  mutate(BMI = robust_scaler(BMI)) %>%\n",
    "  mutate(PhysHlth = robust_scaler(PhysHlth)) %>%\n",
    "  mutate(MentHlth = robust_scaler(MentHlth))"
   ]
  },
  {
   "cell_type": "code",
   "execution_count": 6,
   "metadata": {
    "vscode": {
     "languageId": "r"
    }
   },
   "outputs": [
    {
     "data": {
      "image/png": "[encoded data removed]",
      "text/plain": [
       "Plot with title \"BMI Histogram\""
      ]
     },
     "metadata": {
      "image/png": {
       "height": 420,
       "width": 420
      }
     },
     "output_type": "display_data"
    }
   ],
   "source": [
    "# plot the distribution of BMI, PhysHlth, and MentHlth\n",
    "par(mfrow=c(3,1), bg='white')\n",
    "hist(df1$MentHlth, breaks=31, col='green', main='MentHlth Histogram')\n",
    "hist(df1$PhysHlth, breaks=31, col='blue', main='PhysHlth Histogram')\n",
    "hist(df1$BMI, breaks=84, col='red', main='BMI Histogram')"
   ]
  },
  {
   "cell_type": "code",
   "execution_count": 6,
   "metadata": {
    "vscode": {
     "languageId": "r"
    }
   },
   "outputs": [],
   "source": [
    "write.csv(df1, '../data/clean_outliers.csv', row.names=FALSE)"
   ]
  },
  {
   "cell_type": "markdown",
   "metadata": {},
   "source": [
    "Drop duplicate rows và chia dữ liệu train test cho quá trình xây dựng mô hình "
   ]
  },
  {
   "cell_type": "code",
   "execution_count": 8,
   "metadata": {
    "vscode": {
     "languageId": "r"
    }
   },
   "outputs": [],
   "source": [
    "df2 <-  distinct(df)\n",
    "set.seed(345)\n",
    "train_index <- sample(1:nrow(df2), 0.7*nrow(df2))\n",
    "train <- df2[train_index,]\n",
    "test <- df2[-train_index,]"
   ]
  },
  {
   "cell_type": "code",
   "execution_count": 9,
   "metadata": {
    "vscode": {
     "languageId": "r"
    }
   },
   "outputs": [
    {
     "name": "stdout",
     "output_type": "stream",
     "text": [
      "[1] \"Train data:\"\n",
      "Diabetes_012\n",
      "     0      1      2 \n",
      "133069   3249  24521 \n",
      "[1] \"Test data:\"\n",
      "Diabetes_012\n",
      "    0     1     2 \n",
      "56978  1380 10574 \n"
     ]
    }
   ],
   "source": [
    "print(\"Train data:\")\n",
    "print(with(train, table(Diabetes_012)))\n",
    "print(\"Test data:\")\n",
    "print(with(test, table(Diabetes_012)))"
   ]
  },
  {
   "cell_type": "code",
   "execution_count": 10,
   "metadata": {
    "vscode": {
     "languageId": "r"
    }
   },
   "outputs": [
    {
     "name": "stdout",
     "output_type": "stream",
     "text": [
      "\u001b[90m# A tibble: 3 × 3\u001b[39m\n",
      "  Variable   IQR median\n",
      "  \u001b[3m\u001b[90m<chr>\u001b[39m\u001b[23m    \u001b[3m\u001b[90m<dbl>\u001b[39m\u001b[23m  \u001b[3m\u001b[90m<dbl>\u001b[39m\u001b[23m\n",
      "\u001b[90m1\u001b[39m BMI          8     27\n",
      "\u001b[90m2\u001b[39m MentHlth     2      0\n",
      "\u001b[90m3\u001b[39m PhysHlth     4      0\n"
     ]
    }
   ],
   "source": [
    "train_summary <- train %>%\n",
    "    summarise(\n",
    "        IQR_BMI = IQR(BMI),\n",
    "        median_BMI = median(BMI),\n",
    "        IQR_MentHlth = IQR(MentHlth),\n",
    "        median_MentHlth = median(MentHlth),\n",
    "        IQR_PhysHlth = IQR(PhysHlth),\n",
    "        median_PhysHlth = median(PhysHlth)\n",
    "    ) %>%\n",
    "    pivot_longer(cols = everything(), names_to = \"Metric\", values_to = \"Value\") %>%\n",
    "    separate(Metric, into = c(\"Statistic\", \"Variable\"), sep = \"_\") %>%\n",
    "    pivot_wider(names_from = Statistic, values_from = Value)\n",
    "\n",
    "print(train_summary)"
   ]
  },
  {
   "cell_type": "code",
   "execution_count": 11,
   "metadata": {
    "vscode": {
     "languageId": "r"
    }
   },
   "outputs": [],
   "source": [
    "write.csv(train_summary, file = \"../data/scale_parameters.csv\", row.names = FALSE)"
   ]
  },
  {
   "cell_type": "code",
   "execution_count": 12,
   "metadata": {
    "vscode": {
     "languageId": "r"
    }
   },
   "outputs": [],
   "source": [
    "robust_scaler2 <- function(x, IQR, median) {\n",
    "    scaled_x <- (x - median) / IQR\n",
    "    return(scaled_x)\n",
    "}"
   ]
  },
  {
   "cell_type": "code",
   "execution_count": 13,
   "metadata": {
    "vscode": {
     "languageId": "r"
    }
   },
   "outputs": [],
   "source": [
    "variables <- c(\"BMI\", \"MentHlth\", \"PhysHlth\")\n",
    "for (var in variables) {\n",
    "    median_value <- train_summary %>% filter(Variable == var) %>% pull(median)\n",
    "    IQR_value <- train_summary %>% filter(Variable == var) %>% pull(IQR)\n",
    "    train[[var]] <- robust_scaler2(train[[var]], IQR_value, median_value)\n",
    "    test[[var]] <- robust_scaler2(test[[var]], IQR_value, median_value)\n",
    "}"
   ]
  },
  {
   "cell_type": "code",
   "execution_count": 14,
   "metadata": {
    "vscode": {
     "languageId": "r"
    }
   },
   "outputs": [
    {
     "data": {
      "image/png": "[encoded data removed]",
      "text/plain": [
       "Plot with title \"BMI Histogram\""
      ]
     },
     "metadata": {
      "image/png": {
       "height": 420,
       "width": 420
      }
     },
     "output_type": "display_data"
    }
   ],
   "source": [
    "par(mfrow=c(3,1), bg='white')\n",
    "hist(train$MentHlth, breaks=31, col='green', main='MentHlth Histogram')\n",
    "hist(train$PhysHlth, breaks=31, col='blue', main='PhysHlth Histogram')\n",
    "hist(train$BMI, breaks=84, col='red', main='BMI Histogram')"
   ]
  },
  {
   "cell_type": "code",
   "execution_count": 15,
   "metadata": {
    "vscode": {
     "languageId": "r"
    }
   },
   "outputs": [],
   "source": [
    "write.csv(train, '../data/train_set/train_base.csv', row.names=FALSE)\n",
    "write.csv(test, '../data/testset.csv', row.names=FALSE)"
   ]
  },
  {
   "cell_type": "markdown",
   "metadata": {},
   "source": [
    "### Imbalanced "
   ]
  },
  {
   "cell_type": "code",
   "execution_count": 16,
   "metadata": {
    "vscode": {
     "languageId": "r"
    }
   },
   "outputs": [],
   "source": [
    "train <- read.csv('../data/train_set/train_base.csv')"
   ]
  },
  {
   "cell_type": "markdown",
   "metadata": {},
   "source": [
    "Under Sampling "
   ]
  },
  {
   "cell_type": "code",
   "execution_count": 17,
   "metadata": {
    "vscode": {
     "languageId": "r"
    }
   },
   "outputs": [],
   "source": [
    "under_sampling_3c <- function(data, name_class) {\n",
    "    class_fact <- as.factor(data[, name_class])\n",
    "    data_split <- split(data, class_fact)\n",
    "    n_class <- sapply(data_split, FUN = nrow)\n",
    "    n_minor <- min(n_class)\n",
    "    \n",
    "    new_data <- do.call(rbind, lapply(data_split, function(class_data) {\n",
    "        id_sample <- sample(1:nrow(class_data), size = n_minor, replace = FALSE)\n",
    "        class_data[id_sample, ]\n",
    "    }))\n",
    "    \n",
    "    return(new_data)\n",
    "}\n"
   ]
  },
  {
   "cell_type": "code",
   "execution_count": 18,
   "metadata": {
    "vscode": {
     "languageId": "r"
    }
   },
   "outputs": [
    {
     "data": {
      "text/plain": [
       "Diabetes_012\n",
       "   0    1    2 \n",
       "3249 3249 3249 "
      ]
     },
     "metadata": {},
     "output_type": "display_data"
    }
   ],
   "source": [
    "set.seed(345)\n",
    "train_under <- under_sampling_3c(train, \"Diabetes_012\")\n",
    "with(train_under, table(Diabetes_012))"
   ]
  },
  {
   "cell_type": "code",
   "execution_count": 19,
   "metadata": {
    "vscode": {
     "languageId": "r"
    }
   },
   "outputs": [],
   "source": [
    "# save the under-sampled data to csv \n",
    "write.csv(train_under, '../data/train_set/train_under.csv', row.names=FALSE)"
   ]
  },
  {
   "cell_type": "markdown",
   "metadata": {},
   "source": [
    "Over Sampling"
   ]
  },
  {
   "cell_type": "code",
   "execution_count": 20,
   "metadata": {
    "vscode": {
     "languageId": "r"
    }
   },
   "outputs": [],
   "source": [
    "over_sampling_3c <- function(data, name_class) {\n",
    "    class_fact <- as.factor(data[, name_class])\n",
    "    data_split <- split(data, class_fact)\n",
    "    n_class <- sapply(data_split, FUN = nrow)\n",
    "    n_major <- max(n_class)\n",
    "    \n",
    "    new_data <- do.call(rbind, lapply(data_split, function(class_data) {\n",
    "        id_sample <- sample(1:nrow(class_data), size = n_major, replace = TRUE)\n",
    "        class_data[id_sample, ]\n",
    "    }))\n",
    "    \n",
    "    return(new_data)\n",
    "}"
   ]
  },
  {
   "cell_type": "code",
   "execution_count": 21,
   "metadata": {
    "vscode": {
     "languageId": "r"
    }
   },
   "outputs": [
    {
     "data": {
      "text/plain": [
       "Diabetes_012\n",
       "     0      1      2 \n",
       "133069 133069 133069 "
      ]
     },
     "metadata": {},
     "output_type": "display_data"
    }
   ],
   "source": [
    "set.seed(345)\n",
    "train_over <- over_sampling_3c(train, \"Diabetes_012\")\n",
    "with(train_over, table(Diabetes_012))"
   ]
  },
  {
   "cell_type": "code",
   "execution_count": 22,
   "metadata": {
    "vscode": {
     "languageId": "r"
    }
   },
   "outputs": [],
   "source": [
    "write.csv(train_over, '../data/train_set/train_over.csv', row.names=FALSE)"
   ]
  },
  {
   "cell_type": "markdown",
   "metadata": {},
   "source": [
    "Under + Over Sampling"
   ]
  },
  {
   "cell_type": "code",
   "execution_count": 23,
   "metadata": {
    "vscode": {
     "languageId": "r"
    }
   },
   "outputs": [],
   "source": [
    "# kết hợp under sampling và over sampling cho 3 classes\n",
    "combine_sampling_3c <- function(data, name_class) {\n",
    "    class_fact <- as.factor(data[, name_class])\n",
    "    data_split <- split(data, class_fact)\n",
    "    n_class <- sapply(data_split, FUN = nrow)\n",
    "    \n",
    "    # xác định cỡ mẫu chung cho các class (avg)\n",
    "    n_avg <- round(mean(n_class))\n",
    "\n",
    "    new_data <- do.call(rbind, lapply(data_split, function(class_data) {\n",
    "        n_class_data <- nrow(class_data)\n",
    "        if (n_class_data < n_avg) {\n",
    "            id_sample <- sample(1:n_class_data, size = n_avg - n_class_data, replace = TRUE)\n",
    "            class_data <- rbind(class_data, class_data[id_sample, ])\n",
    "        } else {\n",
    "            id_sample <- sample(1:n_class_data, size = n_avg, replace = FALSE)\n",
    "            class_data <- class_data[id_sample, ]\n",
    "        }\n",
    "        return(class_data)\n",
    "    }))\n",
    "    \n",
    "    return(new_data)\n",
    "}"
   ]
  },
  {
   "cell_type": "code",
   "execution_count": 24,
   "metadata": {
    "vscode": {
     "languageId": "r"
    }
   },
   "outputs": [
    {
     "data": {
      "text/plain": [
       "Diabetes_012\n",
       "    0     1     2 \n",
       "53613 53613 53613 "
      ]
     },
     "metadata": {},
     "output_type": "display_data"
    }
   ],
   "source": [
    "set.seed(345)\n",
    "train_combine <- combine_sampling_3c(train, \"Diabetes_012\")\n",
    "with(train_combine, table(Diabetes_012))"
   ]
  },
  {
   "cell_type": "code",
   "execution_count": 25,
   "metadata": {
    "vscode": {
     "languageId": "r"
    }
   },
   "outputs": [],
   "source": [
    "write.csv(train_combine, '../data/train_set/train_combine.csv', row.names=FALSE)"
   ]
  },
  {
   "cell_type": "markdown",
   "metadata": {},
   "source": [
    "SMOTE"
   ]
  },
  {
   "cell_type": "code",
   "execution_count": 26,
   "metadata": {
    "vscode": {
     "languageId": "r"
    }
   },
   "outputs": [
    {
     "name": "stderr",
     "output_type": "stream",
     "text": [
      "Loading required package: recipes\n",
      "\n",
      "\n",
      "Attaching package: 'recipes'\n",
      "\n",
      "\n",
      "The following object is masked from 'package:stats':\n",
      "\n",
      "    step\n",
      "\n",
      "\n"
     ]
    }
   ],
   "source": [
    "library(themis)"
   ]
  },
  {
   "cell_type": "code",
   "execution_count": 27,
   "metadata": {
    "vscode": {
     "languageId": "r"
    }
   },
   "outputs": [],
   "source": [
    "train$Diabetes_012 <- as.factor(train$Diabetes_012)\n",
    "set.seed(345)\n",
    "train_smote <- smotenc(df= train, var = \"Diabetes_012\", k = 5, over_ratio = 1)"
   ]
  },
  {
   "cell_type": "code",
   "execution_count": 28,
   "metadata": {
    "vscode": {
     "languageId": "r"
    }
   },
   "outputs": [
    {
     "data": {
      "text/plain": [
       "Diabetes_012\n",
       "     0      1      2 \n",
       "133069 133069 133069 "
      ]
     },
     "metadata": {},
     "output_type": "display_data"
    }
   ],
   "source": [
    "with(train_smote, table(Diabetes_012))"
   ]
  },
  {
   "cell_type": "code",
   "execution_count": 29,
   "metadata": {
    "vscode": {
     "languageId": "r"
    }
   },
   "outputs": [],
   "source": [
    "write.csv(train_smote, '../data/train_set/train_smote.csv', row.names=FALSE)"
   ]
  }
 ],
 "metadata": {
  "kernelspec": {
   "display_name": "R",
   "language": "R",
   "name": "ir"
  },
  "language_info": {
   "codemirror_mode": "r",
   "file_extension": ".r",
   "mimetype": "text/x-r-source",
   "name": "R",
   "pygments_lexer": "r",
   "version": "4.4.2"
  }
 },
 "nbformat": 4,
 "nbformat_minor": 2
}
