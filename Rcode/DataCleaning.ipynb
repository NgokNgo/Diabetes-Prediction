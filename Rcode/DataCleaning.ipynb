{
 "cells": [
  {
   "cell_type": "code",
   "execution_count": 2,
   "metadata": {
    "vscode": {
     "languageId": "r"
    }
   },
   "outputs": [],
   "source": [
    "library(ggplot2)\n",
    "library(dplyr)\n",
    "library(readr)\n",
    "library(tidyr)"
   ]
  },
  {
   "cell_type": "markdown",
   "metadata": {},
   "source": [
    "### Outliers"
   ]
  },
  {
   "cell_type": "code",
   "execution_count": null,
   "metadata": {
    "vscode": {
     "languageId": "r"
    }
   },
   "outputs": [],
   "source": [
    "setwd(\"D:/THUCHANH/Diabetes_Prediction/data\")"
   ]
  },
  {
   "cell_type": "code",
   "execution_count": 3,
   "metadata": {
    "vscode": {
     "languageId": "r"
    }
   },
   "outputs": [
    {
     "name": "stderr",
     "output_type": "stream",
     "text": [
      "\u001b[1mRows: \u001b[22m\u001b[34m253680\u001b[39m \u001b[1mColumns: \u001b[22m\u001b[34m22\u001b[39m\n",
      "\u001b[36m──\u001b[39m \u001b[1mColumn specification\u001b[22m \u001b[36m────────────────────────────────────────────────────────\u001b[39m\n",
      "\u001b[1mDelimiter:\u001b[22m \",\"\n",
      "\u001b[32mdbl\u001b[39m (22): Diabetes_012, HighBP, HighChol, CholCheck, BMI, Smoker, Stroke, He...\n",
      "\n",
      "\u001b[36mℹ\u001b[39m Use `spec()` to retrieve the full column specification for this data.\n",
      "\u001b[36mℹ\u001b[39m Specify the column types or set `show_col_types = FALSE` to quiet this message.\n"
     ]
    },
    {
     "data": {
      "text/html": [
       "<table class=\"dataframe\">\n",
       "<caption>A tibble: 6 × 22</caption>\n",
       "<thead>\n",
       "\t<tr><th scope=col>Diabetes_012</th><th scope=col>HighBP</th><th scope=col>HighChol</th><th scope=col>CholCheck</th><th scope=col>BMI</th><th scope=col>Smoker</th><th scope=col>Stroke</th><th scope=col>HeartDiseaseorAttack</th><th scope=col>PhysActivity</th><th scope=col>Fruits</th><th scope=col>⋯</th><th scope=col>AnyHealthcare</th><th scope=col>NoDocbcCost</th><th scope=col>GenHlth</th><th scope=col>MentHlth</th><th scope=col>PhysHlth</th><th scope=col>DiffWalk</th><th scope=col>Sex</th><th scope=col>Age</th><th scope=col>Education</th><th scope=col>Income</th></tr>\n",
       "\t<tr><th scope=col>&lt;dbl&gt;</th><th scope=col>&lt;dbl&gt;</th><th scope=col>&lt;dbl&gt;</th><th scope=col>&lt;dbl&gt;</th><th scope=col>&lt;dbl&gt;</th><th scope=col>&lt;dbl&gt;</th><th scope=col>&lt;dbl&gt;</th><th scope=col>&lt;dbl&gt;</th><th scope=col>&lt;dbl&gt;</th><th scope=col>&lt;dbl&gt;</th><th scope=col>⋯</th><th scope=col>&lt;dbl&gt;</th><th scope=col>&lt;dbl&gt;</th><th scope=col>&lt;dbl&gt;</th><th scope=col>&lt;dbl&gt;</th><th scope=col>&lt;dbl&gt;</th><th scope=col>&lt;dbl&gt;</th><th scope=col>&lt;dbl&gt;</th><th scope=col>&lt;dbl&gt;</th><th scope=col>&lt;dbl&gt;</th><th scope=col>&lt;dbl&gt;</th></tr>\n",
       "</thead>\n",
       "<tbody>\n",
       "\t<tr><td>0</td><td>1</td><td>1</td><td>1</td><td>40</td><td>1</td><td>0</td><td>0</td><td>0</td><td>0</td><td>⋯</td><td>1</td><td>0</td><td>5</td><td>18</td><td>15</td><td>1</td><td>0</td><td> 9</td><td>4</td><td>3</td></tr>\n",
       "\t<tr><td>0</td><td>0</td><td>0</td><td>0</td><td>25</td><td>1</td><td>0</td><td>0</td><td>1</td><td>0</td><td>⋯</td><td>0</td><td>1</td><td>3</td><td> 0</td><td> 0</td><td>0</td><td>0</td><td> 7</td><td>6</td><td>1</td></tr>\n",
       "\t<tr><td>0</td><td>1</td><td>1</td><td>1</td><td>28</td><td>0</td><td>0</td><td>0</td><td>0</td><td>1</td><td>⋯</td><td>1</td><td>1</td><td>5</td><td>30</td><td>30</td><td>1</td><td>0</td><td> 9</td><td>4</td><td>8</td></tr>\n",
       "\t<tr><td>0</td><td>1</td><td>0</td><td>1</td><td>27</td><td>0</td><td>0</td><td>0</td><td>1</td><td>1</td><td>⋯</td><td>1</td><td>0</td><td>2</td><td> 0</td><td> 0</td><td>0</td><td>0</td><td>11</td><td>3</td><td>6</td></tr>\n",
       "\t<tr><td>0</td><td>1</td><td>1</td><td>1</td><td>24</td><td>0</td><td>0</td><td>0</td><td>1</td><td>1</td><td>⋯</td><td>1</td><td>0</td><td>2</td><td> 3</td><td> 0</td><td>0</td><td>0</td><td>11</td><td>5</td><td>4</td></tr>\n",
       "\t<tr><td>0</td><td>1</td><td>1</td><td>1</td><td>25</td><td>1</td><td>0</td><td>0</td><td>1</td><td>1</td><td>⋯</td><td>1</td><td>0</td><td>2</td><td> 0</td><td> 2</td><td>0</td><td>1</td><td>10</td><td>6</td><td>8</td></tr>\n",
       "</tbody>\n",
       "</table>\n"
      ],
      "text/latex": [
       "A tibble: 6 × 22\n",
       "\\begin{tabular}{lllllllllllllllllllll}\n",
       " Diabetes\\_012 & HighBP & HighChol & CholCheck & BMI & Smoker & Stroke & HeartDiseaseorAttack & PhysActivity & Fruits & ⋯ & AnyHealthcare & NoDocbcCost & GenHlth & MentHlth & PhysHlth & DiffWalk & Sex & Age & Education & Income\\\\\n",
       " <dbl> & <dbl> & <dbl> & <dbl> & <dbl> & <dbl> & <dbl> & <dbl> & <dbl> & <dbl> & ⋯ & <dbl> & <dbl> & <dbl> & <dbl> & <dbl> & <dbl> & <dbl> & <dbl> & <dbl> & <dbl>\\\\\n",
       "\\hline\n",
       "\t 0 & 1 & 1 & 1 & 40 & 1 & 0 & 0 & 0 & 0 & ⋯ & 1 & 0 & 5 & 18 & 15 & 1 & 0 &  9 & 4 & 3\\\\\n",
       "\t 0 & 0 & 0 & 0 & 25 & 1 & 0 & 0 & 1 & 0 & ⋯ & 0 & 1 & 3 &  0 &  0 & 0 & 0 &  7 & 6 & 1\\\\\n",
       "\t 0 & 1 & 1 & 1 & 28 & 0 & 0 & 0 & 0 & 1 & ⋯ & 1 & 1 & 5 & 30 & 30 & 1 & 0 &  9 & 4 & 8\\\\\n",
       "\t 0 & 1 & 0 & 1 & 27 & 0 & 0 & 0 & 1 & 1 & ⋯ & 1 & 0 & 2 &  0 &  0 & 0 & 0 & 11 & 3 & 6\\\\\n",
       "\t 0 & 1 & 1 & 1 & 24 & 0 & 0 & 0 & 1 & 1 & ⋯ & 1 & 0 & 2 &  3 &  0 & 0 & 0 & 11 & 5 & 4\\\\\n",
       "\t 0 & 1 & 1 & 1 & 25 & 1 & 0 & 0 & 1 & 1 & ⋯ & 1 & 0 & 2 &  0 &  2 & 0 & 1 & 10 & 6 & 8\\\\\n",
       "\\end{tabular}\n"
      ],
      "text/markdown": [
       "\n",
       "A tibble: 6 × 22\n",
       "\n",
       "| Diabetes_012 &lt;dbl&gt; | HighBP &lt;dbl&gt; | HighChol &lt;dbl&gt; | CholCheck &lt;dbl&gt; | BMI &lt;dbl&gt; | Smoker &lt;dbl&gt; | Stroke &lt;dbl&gt; | HeartDiseaseorAttack &lt;dbl&gt; | PhysActivity &lt;dbl&gt; | Fruits &lt;dbl&gt; | ⋯ ⋯ | AnyHealthcare &lt;dbl&gt; | NoDocbcCost &lt;dbl&gt; | GenHlth &lt;dbl&gt; | MentHlth &lt;dbl&gt; | PhysHlth &lt;dbl&gt; | DiffWalk &lt;dbl&gt; | Sex &lt;dbl&gt; | Age &lt;dbl&gt; | Education &lt;dbl&gt; | Income &lt;dbl&gt; |\n",
       "|---|---|---|---|---|---|---|---|---|---|---|---|---|---|---|---|---|---|---|---|---|\n",
       "| 0 | 1 | 1 | 1 | 40 | 1 | 0 | 0 | 0 | 0 | ⋯ | 1 | 0 | 5 | 18 | 15 | 1 | 0 |  9 | 4 | 3 |\n",
       "| 0 | 0 | 0 | 0 | 25 | 1 | 0 | 0 | 1 | 0 | ⋯ | 0 | 1 | 3 |  0 |  0 | 0 | 0 |  7 | 6 | 1 |\n",
       "| 0 | 1 | 1 | 1 | 28 | 0 | 0 | 0 | 0 | 1 | ⋯ | 1 | 1 | 5 | 30 | 30 | 1 | 0 |  9 | 4 | 8 |\n",
       "| 0 | 1 | 0 | 1 | 27 | 0 | 0 | 0 | 1 | 1 | ⋯ | 1 | 0 | 2 |  0 |  0 | 0 | 0 | 11 | 3 | 6 |\n",
       "| 0 | 1 | 1 | 1 | 24 | 0 | 0 | 0 | 1 | 1 | ⋯ | 1 | 0 | 2 |  3 |  0 | 0 | 0 | 11 | 5 | 4 |\n",
       "| 0 | 1 | 1 | 1 | 25 | 1 | 0 | 0 | 1 | 1 | ⋯ | 1 | 0 | 2 |  0 |  2 | 0 | 1 | 10 | 6 | 8 |\n",
       "\n"
      ],
      "text/plain": [
       "  Diabetes_012 HighBP HighChol CholCheck BMI Smoker Stroke HeartDiseaseorAttack\n",
       "1 0            1      1        1         40  1      0      0                   \n",
       "2 0            0      0        0         25  1      0      0                   \n",
       "3 0            1      1        1         28  0      0      0                   \n",
       "4 0            1      0        1         27  0      0      0                   \n",
       "5 0            1      1        1         24  0      0      0                   \n",
       "6 0            1      1        1         25  1      0      0                   \n",
       "  PhysActivity Fruits ⋯ AnyHealthcare NoDocbcCost GenHlth MentHlth PhysHlth\n",
       "1 0            0      ⋯ 1             0           5       18       15      \n",
       "2 1            0      ⋯ 0             1           3        0        0      \n",
       "3 0            1      ⋯ 1             1           5       30       30      \n",
       "4 1            1      ⋯ 1             0           2        0        0      \n",
       "5 1            1      ⋯ 1             0           2        3        0      \n",
       "6 1            1      ⋯ 1             0           2        0        2      \n",
       "  DiffWalk Sex Age Education Income\n",
       "1 1        0    9  4         3     \n",
       "2 0        0    7  6         1     \n",
       "3 1        0    9  4         8     \n",
       "4 0        0   11  3         6     \n",
       "5 0        0   11  5         4     \n",
       "6 0        1   10  6         8     "
      ]
     },
     "metadata": {},
     "output_type": "display_data"
    }
   ],
   "source": [
    "df <- read_csv('data/diabetes_012_health_indicators_BRFSS2015.csv')\n",
    "head(df)"
   ]
  },
  {
   "cell_type": "markdown",
   "metadata": {},
   "source": [
    "gom nhóm nhãn hiếm cho Education.       \n",
    "1: Less than high school.       \n",
    "2: High School.     \n",
    "3: College.     \n",
    "4: College gradute. "
   ]
  },
  {
   "cell_type": "code",
   "execution_count": 4,
   "metadata": {
    "vscode": {
     "languageId": "r"
    }
   },
   "outputs": [],
   "source": [
    "df <- df %>%\n",
    "  mutate(Education = case_when(\n",
    "    Education %in% c(1,2,3) ~ 1,\n",
    "    Education %in% c(4,5,6) ~ Education\n",
    "  )) %>%\n",
    "  mutate(Education = factor(Education, levels = c(1,4,5,6), labels = c(1,2,3,4)))\n",
    "\n",
    "df$Education <- as.double(as.character(df$Education))"
   ]
  },
  {
   "cell_type": "code",
   "execution_count": 9,
   "metadata": {
    "vscode": {
     "languageId": "r"
    }
   },
   "outputs": [
    {
     "data": {
      "image/png": "[encoded data removed]",
      "text/plain": [
       "plot without title"
      ]
     },
     "metadata": {
      "image/png": {
       "height": 420,
       "width": 420
      }
     },
     "output_type": "display_data"
    }
   ],
   "source": [
    "ggplot(df, aes(x=as.factor(Education), fill=Education)) +\n",
    "    geom_bar() +\n",
    "    labs(title = \"Education Distribution\",\n",
    "         x = \"Education Level\",\n",
    "         y = \"Count\") +\n",
    "    theme_minimal() "
   ]
  },
  {
   "cell_type": "code",
   "execution_count": 10,
   "metadata": {
    "vscode": {
     "languageId": "r"
    }
   },
   "outputs": [],
   "source": [
    "robust_scaler <- function(x) {\n",
    "  Q1 <- quantile(x, 0.25) \n",
    "  Q3 <- quantile(x, 0.75) \n",
    "  IQR <- Q3 - Q1          \n",
    "  median_x <- median(x)   \n",
    "\n",
    "  scaled_x <- (x - median_x) / IQR\n",
    "  return(scaled_x)\n",
    "}\n",
    "\n",
    "df <- df %>%\n",
    "  mutate(BMI = robust_scaler(BMI)) %>%\n",
    "  mutate(PhysHlth = robust_scaler(PhysHlth)) %>%\n",
    "  mutate(MentHlth = robust_scaler(MentHlth))"
   ]
  },
  {
   "cell_type": "code",
   "execution_count": 11,
   "metadata": {
    "vscode": {
     "languageId": "r"
    }
   },
   "outputs": [
    {
     "data": {
      "image/png": "[encoded data removed]",
      "text/plain": [
       "Plot with title \"BMI Histogram\""
      ]
     },
     "metadata": {
      "image/png": {
       "height": 420,
       "width": 420
      }
     },
     "output_type": "display_data"
    }
   ],
   "source": [
    "# plot the distribution of BMI, PhysHlth, and MentHlth\n",
    "par(mfrow=c(3,1), bg='white')\n",
    "hist(df$MentHlth, breaks=31, col='green', main='MentHlth Histogram')\n",
    "hist(df$PhysHlth, breaks=31, col='blue', main='PhysHlth Histogram')\n",
    "hist(df$BMI, breaks=84, col='red', main='BMI Histogram')"
   ]
  },
  {
   "cell_type": "code",
   "execution_count": null,
   "metadata": {
    "vscode": {
     "languageId": "r"
    }
   },
   "outputs": [],
   "source": [
    "write.csv(df, 'data/clean_outliers.csv', row.names=FALSE)"
   ]
  },
  {
   "cell_type": "markdown",
   "metadata": {},
   "source": [
    "### Imbalanced "
   ]
  },
  {
   "cell_type": "code",
   "execution_count": 12,
   "metadata": {
    "vscode": {
     "languageId": "r"
    }
   },
   "outputs": [],
   "source": [
    "df <- read.csv('clean_outliers.csv')"
   ]
  },
  {
   "cell_type": "markdown",
   "metadata": {},
   "source": [
    "Under Sampling "
   ]
  },
  {
   "cell_type": "code",
   "execution_count": 19,
   "metadata": {
    "vscode": {
     "languageId": "r"
    }
   },
   "outputs": [],
   "source": [
    "under_sampling_3c <- function(data, name_class) {\n",
    "    class_fact <- as.factor(data[, name_class])\n",
    "    data_split <- split(data, class_fact)\n",
    "    n_class <- sapply(data_split, FUN = nrow)\n",
    "    n_minor <- min(n_class)\n",
    "    \n",
    "    new_data <- do.call(rbind, lapply(data_split, function(class_data) {\n",
    "        id_sample <- sample(1:nrow(class_data), size = n_minor, replace = FALSE)\n",
    "        class_data[id_sample, ]\n",
    "    }))\n",
    "    \n",
    "    return(new_data)\n",
    "}\n"
   ]
  },
  {
   "cell_type": "code",
   "execution_count": 14,
   "metadata": {
    "vscode": {
     "languageId": "r"
    }
   },
   "outputs": [
    {
     "name": "stdout",
     "output_type": "stream",
     "text": [
      "Rows: 253,680\n",
      "Columns: 22\n",
      "$ Diabetes_012         \u001b[3m\u001b[90m<int>\u001b[39m\u001b[23m 0, 0, 0, 0, 0, 0, 0, 0, 2, 0, 2, 0, 0, 2, 0, 0, 0…\n",
      "$ HighBP               \u001b[3m\u001b[90m<int>\u001b[39m\u001b[23m 1, 0, 1, 1, 1, 1, 1, 1, 1, 0, 0, 1, 0, 1, 0, 1, 1…\n",
      "$ HighChol             \u001b[3m\u001b[90m<int>\u001b[39m\u001b[23m 1, 0, 1, 0, 1, 1, 0, 1, 1, 0, 0, 1, 0, 1, 1, 0, 1…\n",
      "$ CholCheck            \u001b[3m\u001b[90m<int>\u001b[39m\u001b[23m 1, 0, 1, 1, 1, 1, 1, 1, 1, 1, 1, 1, 1, 1, 1, 1, 1…\n",
      "$ BMI                  \u001b[3m\u001b[90m<dbl>\u001b[39m\u001b[23m 1.8571429, -0.2857143, 0.1428571, 0.0000000, -0.4…\n",
      "$ Smoker               \u001b[3m\u001b[90m<int>\u001b[39m\u001b[23m 1, 1, 0, 0, 0, 1, 1, 1, 1, 0, 1, 1, 1, 0, 1, 0, 0…\n",
      "$ Stroke               \u001b[3m\u001b[90m<int>\u001b[39m\u001b[23m 0, 0, 0, 0, 0, 0, 0, 0, 0, 0, 0, 0, 0, 0, 1, 0, 0…\n",
      "$ HeartDiseaseorAttack \u001b[3m\u001b[90m<int>\u001b[39m\u001b[23m 0, 0, 0, 0, 0, 0, 0, 0, 1, 0, 0, 0, 0, 0, 0, 0, 0…\n",
      "$ PhysActivity         \u001b[3m\u001b[90m<int>\u001b[39m\u001b[23m 0, 1, 0, 1, 1, 1, 0, 1, 0, 0, 1, 0, 0, 0, 1, 1, 1…\n",
      "$ Fruits               \u001b[3m\u001b[90m<int>\u001b[39m\u001b[23m 0, 0, 1, 1, 1, 1, 0, 0, 1, 0, 1, 1, 0, 0, 0, 0, 1…\n",
      "$ Veggies              \u001b[3m\u001b[90m<int>\u001b[39m\u001b[23m 1, 0, 0, 1, 1, 1, 0, 1, 1, 1, 1, 1, 1, 1, 1, 0, 1…\n",
      "$ HvyAlcoholConsump    \u001b[3m\u001b[90m<int>\u001b[39m\u001b[23m 0, 0, 0, 0, 0, 0, 0, 0, 0, 0, 0, 0, 0, 0, 0, 0, 0…\n",
      "$ AnyHealthcare        \u001b[3m\u001b[90m<int>\u001b[39m\u001b[23m 1, 0, 1, 1, 1, 1, 1, 1, 1, 1, 1, 1, 1, 1, 1, 1, 1…\n",
      "$ NoDocbcCost          \u001b[3m\u001b[90m<int>\u001b[39m\u001b[23m 0, 1, 1, 0, 0, 0, 0, 0, 0, 0, 0, 0, 0, 0, 1, 0, 0…\n",
      "$ GenHlth              \u001b[3m\u001b[90m<int>\u001b[39m\u001b[23m 5, 3, 5, 2, 2, 2, 3, 3, 5, 2, 3, 3, 3, 4, 4, 2, 3…\n",
      "$ MentHlth             \u001b[3m\u001b[90m<dbl>\u001b[39m\u001b[23m 9.0, 0.0, 15.0, 0.0, 1.5, 0.0, 0.0, 0.0, 15.0, 0.…\n",
      "$ PhysHlth             \u001b[3m\u001b[90m<dbl>\u001b[39m\u001b[23m 5.0000000, 0.0000000, 10.0000000, 0.0000000, 0.00…\n",
      "$ DiffWalk             \u001b[3m\u001b[90m<int>\u001b[39m\u001b[23m 1, 0, 1, 0, 0, 0, 0, 1, 1, 0, 0, 1, 0, 1, 0, 0, 0…\n",
      "$ Sex                  \u001b[3m\u001b[90m<int>\u001b[39m\u001b[23m 0, 0, 0, 0, 0, 1, 0, 0, 0, 1, 1, 0, 0, 0, 0, 0, 0…\n",
      "$ Age                  \u001b[3m\u001b[90m<int>\u001b[39m\u001b[23m 9, 7, 9, 11, 11, 10, 9, 11, 9, 8, 13, 10, 7, 11, …\n",
      "$ Education            \u001b[3m\u001b[90m<int>\u001b[39m\u001b[23m 2, 4, 2, 1, 3, 4, 4, 2, 3, 2, 4, 3, 3, 2, 4, 4, 2…\n",
      "$ Income               \u001b[3m\u001b[90m<int>\u001b[39m\u001b[23m 3, 1, 8, 6, 4, 8, 7, 4, 1, 3, 8, 1, 7, 6, 2, 8, 3…\n"
     ]
    }
   ],
   "source": [
    "glimpse(df)"
   ]
  },
  {
   "cell_type": "code",
   "execution_count": null,
   "metadata": {
    "vscode": {
     "languageId": "r"
    }
   },
   "outputs": [
    {
     "data": {
      "text/plain": [
       "Diabetes_012\n",
       "     0      1      2 \n",
       "213703   4631  35346 "
      ]
     },
     "metadata": {},
     "output_type": "display_data"
    }
   ],
   "source": [
    "with(df, table(Diabetes_012))"
   ]
  },
  {
   "cell_type": "code",
   "execution_count": 20,
   "metadata": {
    "vscode": {
     "languageId": "r"
    }
   },
   "outputs": [
    {
     "data": {
      "text/plain": [
       "Diabetes_012\n",
       "   0    1    2 \n",
       "4631 4631 4631 "
      ]
     },
     "metadata": {},
     "output_type": "display_data"
    }
   ],
   "source": [
    "set.seed(123)\n",
    "df_under <- under_sampling_3c(df, \"Diabetes_012\")\n",
    "with(df_under, table(Diabetes_012))"
   ]
  },
  {
   "cell_type": "code",
   "execution_count": 21,
   "metadata": {
    "vscode": {
     "languageId": "r"
    }
   },
   "outputs": [],
   "source": [
    "# save the under-sampled data to csv \n",
    "write.csv(df_under, 'under_sampled.csv', row.names=FALSE)"
   ]
  },
  {
   "cell_type": "markdown",
   "metadata": {},
   "source": [
    "Over Sampling"
   ]
  },
  {
   "cell_type": "code",
   "execution_count": 22,
   "metadata": {
    "vscode": {
     "languageId": "r"
    }
   },
   "outputs": [],
   "source": [
    "over_sampling_3c <- function(data, name_class) {\n",
    "    class_fact <- as.factor(data[, name_class])\n",
    "    data_split <- split(data, class_fact)\n",
    "    n_class <- sapply(data_split, FUN = nrow)\n",
    "    n_major <- max(n_class)\n",
    "    \n",
    "    new_data <- do.call(rbind, lapply(data_split, function(class_data) {\n",
    "        id_sample <- sample(1:nrow(class_data), size = n_major, replace = TRUE)\n",
    "        class_data[id_sample, ]\n",
    "    }))\n",
    "    \n",
    "    return(new_data)\n",
    "}"
   ]
  },
  {
   "cell_type": "code",
   "execution_count": 23,
   "metadata": {
    "vscode": {
     "languageId": "r"
    }
   },
   "outputs": [
    {
     "data": {
      "text/plain": [
       "Diabetes_012\n",
       "     0      1      2 \n",
       "213703 213703 213703 "
      ]
     },
     "metadata": {},
     "output_type": "display_data"
    }
   ],
   "source": [
    "df_over <- over_sampling_3c(df, \"Diabetes_012\")\n",
    "with(df_over, table(Diabetes_012))"
   ]
  },
  {
   "cell_type": "code",
   "execution_count": 24,
   "metadata": {
    "vscode": {
     "languageId": "r"
    }
   },
   "outputs": [],
   "source": [
    "write.csv(df_over, 'over_sampled.csv', row.names=FALSE)"
   ]
  },
  {
   "cell_type": "markdown",
   "metadata": {},
   "source": [
    "SMOTE"
   ]
  },
  {
   "cell_type": "code",
   "execution_count": 26,
   "metadata": {
    "vscode": {
     "languageId": "r"
    }
   },
   "outputs": [],
   "source": [
    "library(themis)"
   ]
  },
  {
   "cell_type": "code",
   "execution_count": 34,
   "metadata": {
    "vscode": {
     "languageId": "r"
    }
   },
   "outputs": [],
   "source": [
    "df$Diabetes_012 <- as.factor(df$Diabetes_012)\n",
    "set.seed(123)\n",
    "df_smote <- smotenc(df= df, var = \"Diabetes_012\", k = 5, over_ratio = 1)"
   ]
  },
  {
   "cell_type": "code",
   "execution_count": 35,
   "metadata": {
    "vscode": {
     "languageId": "r"
    }
   },
   "outputs": [
    {
     "data": {
      "text/plain": [
       "Diabetes_012\n",
       "     0      1      2 \n",
       "213703 213703 213703 "
      ]
     },
     "metadata": {},
     "output_type": "display_data"
    }
   ],
   "source": [
    "with(df_smote, table(Diabetes_012))"
   ]
  },
  {
   "cell_type": "code",
   "execution_count": 36,
   "metadata": {
    "vscode": {
     "languageId": "r"
    }
   },
   "outputs": [],
   "source": [
    "write.csv(df_smote, 'smote.csv', row.names=FALSE)"
   ]
  }
 ],
 "metadata": {
  "kernelspec": {
   "display_name": "R",
   "language": "R",
   "name": "ir"
  },
  "language_info": {
   "codemirror_mode": "r",
   "file_extension": ".r",
   "mimetype": "text/x-r-source",
   "name": "R",
   "pygments_lexer": "r",
   "version": "4.4.2"
  }
 },
 "nbformat": 4,
 "nbformat_minor": 2
}
