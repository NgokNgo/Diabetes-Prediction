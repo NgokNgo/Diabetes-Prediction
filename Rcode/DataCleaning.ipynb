{
 "cells": [
  {
   "cell_type": "code",
   "execution_count": 2,
   "metadata": {
    "vscode": {
     "languageId": "r"
    }
   },
   "outputs": [],
   "source": [
    "library(ggplot2)\n",
    "library(dplyr)\n",
    "library(readr)\n",
    "library(tidyr)"
   ]
  },
  {
   "cell_type": "markdown",
   "metadata": {},
   "source": [
    "### Outliers"
   ]
  },
  {
   "cell_type": "code",
   "execution_count": 2,
   "metadata": {
    "vscode": {
     "languageId": "r"
    }
   },
   "outputs": [
    {
     "name": "stderr",
     "output_type": "stream",
     "text": [
      "\u001b[1mRows: \u001b[22m\u001b[34m253680\u001b[39m \u001b[1mColumns: \u001b[22m\u001b[34m22\u001b[39m\n",
      "\u001b[36m──\u001b[39m \u001b[1mColumn specification\u001b[22m \u001b[36m────────────────────────────────────────────────────────\u001b[39m\n",
      "\u001b[1mDelimiter:\u001b[22m \",\"\n",
      "\u001b[32mdbl\u001b[39m (22): Diabetes_012, HighBP, HighChol, CholCheck, BMI, Smoker, Stroke, He...\n",
      "\n",
      "\u001b[36mℹ\u001b[39m Use `spec()` to retrieve the full column specification for this data.\n",
      "\u001b[36mℹ\u001b[39m Specify the column types or set `show_col_types = FALSE` to quiet this message.\n"
     ]
    }
   ],
   "source": [
    "df <- read_csv('../data/diabetes_012_health_indicators_BRFSS2015.csv')"
   ]
  },
  {
   "cell_type": "markdown",
   "metadata": {},
   "source": [
    "gom nhóm nhãn hiếm cho Education.       \n",
    "1: Less than high school.       \n",
    "2: High School.     \n",
    "3: College.     \n",
    "4: College gradute. "
   ]
  },
  {
   "cell_type": "code",
   "execution_count": 3,
   "metadata": {
    "vscode": {
     "languageId": "r"
    }
   },
   "outputs": [],
   "source": [
    "df <- df %>%\n",
    "  mutate(Education = case_when(\n",
    "    Education %in% c(1,2,3) ~ 1,\n",
    "    Education %in% c(4,5,6) ~ Education\n",
    "  )) %>%\n",
    "  mutate(Education = factor(Education, levels = c(1,4,5,6), labels = c(1,2,3,4)))\n",
    "\n",
    "df$Education <- as.double(as.character(df$Education))"
   ]
  },
  {
   "cell_type": "code",
   "execution_count": 4,
   "metadata": {
    "vscode": {
     "languageId": "r"
    }
   },
   "outputs": [
    {
     "data": {
      "image/png": "[encoded data removed]",
      "text/plain": [
       "plot without title"
      ]
     },
     "metadata": {
      "image/png": {
       "height": 420,
       "width": 420
      }
     },
     "output_type": "display_data"
    }
   ],
   "source": [
    "ggplot(df, aes(x=as.factor(Education), fill=Education)) +\n",
    "    geom_bar() +\n",
    "    labs(title = \"Education Distribution\",\n",
    "         x = \"Education Level\",\n",
    "         y = \"Count\") +\n",
    "    theme_minimal() "
   ]
  },
  {
   "cell_type": "markdown",
   "metadata": {},
   "source": [
    "Scale lại dữ liệu cho các biến định lượng để giảm ảnh hưởng của outliers. "
   ]
  },
  {
   "cell_type": "code",
   "execution_count": 5,
   "metadata": {
    "vscode": {
     "languageId": "r"
    }
   },
   "outputs": [],
   "source": [
    "robust_scaler <- function(x) {\n",
    "  Q1 <- quantile(x, 0.25) \n",
    "  Q3 <- quantile(x, 0.75) \n",
    "  IQR <- Q3 - Q1          \n",
    "  median_x <- median(x)   \n",
    "\n",
    "  scaled_x <- (x - median_x) / IQR\n",
    "  return(scaled_x)\n",
    "}\n",
    "\n",
    "df <- df %>%\n",
    "  mutate(BMI = robust_scaler(BMI)) %>%\n",
    "  mutate(PhysHlth = robust_scaler(PhysHlth)) %>%\n",
    "  mutate(MentHlth = robust_scaler(MentHlth))"
   ]
  },
  {
   "cell_type": "code",
   "execution_count": 6,
   "metadata": {
    "vscode": {
     "languageId": "r"
    }
   },
   "outputs": [
    {
     "data": {
      "image/png": "[encoded data removed]",
      "text/plain": [
       "Plot with title \"BMI Histogram\""
      ]
     },
     "metadata": {
      "image/png": {
       "height": 420,
       "width": 420
      }
     },
     "output_type": "display_data"
    }
   ],
   "source": [
    "# plot the distribution of BMI, PhysHlth, and MentHlth\n",
    "par(mfrow=c(3,1), bg='white')\n",
    "hist(df$MentHlth, breaks=31, col='green', main='MentHlth Histogram')\n",
    "hist(df$PhysHlth, breaks=31, col='blue', main='PhysHlth Histogram')\n",
    "hist(df$BMI, breaks=84, col='red', main='BMI Histogram')"
   ]
  },
  {
   "cell_type": "code",
   "execution_count": 8,
   "metadata": {
    "vscode": {
     "languageId": "r"
    }
   },
   "outputs": [],
   "source": [
    "write.csv(df, '../data/clean_outliers.csv', row.names=FALSE)"
   ]
  },
  {
   "cell_type": "markdown",
   "metadata": {},
   "source": [
    "### Imbalanced "
   ]
  },
  {
   "cell_type": "code",
   "execution_count": 3,
   "metadata": {
    "vscode": {
     "languageId": "r"
    }
   },
   "outputs": [],
   "source": [
    "df <- read.csv('../data/clean_outliers.csv')"
   ]
  },
  {
   "cell_type": "code",
   "execution_count": 4,
   "metadata": {
    "vscode": {
     "languageId": "r"
    }
   },
   "outputs": [],
   "source": [
    "# split the data into training and testing sets\n",
    "set.seed(345)\n",
    "train_index <- sample(1:nrow(df), 0.7*nrow(df))\n",
    "train <- df[train_index,]\n",
    "test <- df[-train_index,]"
   ]
  },
  {
   "cell_type": "code",
   "execution_count": 5,
   "metadata": {
    "vscode": {
     "languageId": "r"
    }
   },
   "outputs": [
    {
     "data": {
      "text/plain": [
       "Diabetes_012\n",
       "     0      1      2 \n",
       "149578   3232  24766 "
      ]
     },
     "metadata": {},
     "output_type": "display_data"
    }
   ],
   "source": [
    "with(train, table(Diabetes_012))"
   ]
  },
  {
   "cell_type": "markdown",
   "metadata": {},
   "source": [
    "kiểm tra số lượng các quan trắc duy nhất trong nhóm tiền tiểu đường "
   ]
  },
  {
   "cell_type": "code",
   "execution_count": null,
   "metadata": {
    "vscode": {
     "languageId": "r"
    }
   },
   "outputs": [
    {
     "data": {
      "text/plain": [
       "Diabetes_012\n",
       "     0      1      2 \n",
       "135618   3232  24643 "
      ]
     },
     "metadata": {},
     "output_type": "display_data"
    }
   ],
   "source": [
    "with(train %>% distinct(), table(Diabetes_012))"
   ]
  },
  {
   "cell_type": "code",
   "execution_count": 7,
   "metadata": {
    "vscode": {
     "languageId": "r"
    }
   },
   "outputs": [
    {
     "data": {
      "text/plain": [
       "Diabetes_012\n",
       "    0     1     2 \n",
       "64125  1399 10580 "
      ]
     },
     "metadata": {},
     "output_type": "display_data"
    }
   ],
   "source": [
    "with(test, table(Diabetes_012))"
   ]
  },
  {
   "cell_type": "code",
   "execution_count": 6,
   "metadata": {
    "vscode": {
     "languageId": "r"
    }
   },
   "outputs": [],
   "source": [
    "write.csv(train, '../data/training_sets/train_base.csv', row.names=FALSE)"
   ]
  },
  {
   "cell_type": "code",
   "execution_count": 13,
   "metadata": {
    "vscode": {
     "languageId": "r"
    }
   },
   "outputs": [],
   "source": [
    "write.csv(test, '../data/testset.csv', row.names=FALSE)"
   ]
  },
  {
   "cell_type": "markdown",
   "metadata": {},
   "source": [
    "Under Sampling "
   ]
  },
  {
   "cell_type": "code",
   "execution_count": 14,
   "metadata": {
    "vscode": {
     "languageId": "r"
    }
   },
   "outputs": [],
   "source": [
    "under_sampling_3c <- function(data, name_class) {\n",
    "    class_fact <- as.factor(data[, name_class])\n",
    "    data_split <- split(data, class_fact)\n",
    "    n_class <- sapply(data_split, FUN = nrow)\n",
    "    n_minor <- min(n_class)\n",
    "    \n",
    "    new_data <- do.call(rbind, lapply(data_split, function(class_data) {\n",
    "        id_sample <- sample(1:nrow(class_data), size = n_minor, replace = FALSE)\n",
    "        class_data[id_sample, ]\n",
    "    }))\n",
    "    \n",
    "    return(new_data)\n",
    "}\n"
   ]
  },
  {
   "cell_type": "code",
   "execution_count": 15,
   "metadata": {
    "vscode": {
     "languageId": "r"
    }
   },
   "outputs": [
    {
     "data": {
      "text/plain": [
       "Diabetes_012\n",
       "   0    1    2 \n",
       "3232 3232 3232 "
      ]
     },
     "metadata": {},
     "output_type": "display_data"
    }
   ],
   "source": [
    "set.seed(345)\n",
    "train_under <- under_sampling_3c(train, \"Diabetes_012\")\n",
    "with(train_under, table(Diabetes_012))"
   ]
  },
  {
   "cell_type": "code",
   "execution_count": 16,
   "metadata": {
    "vscode": {
     "languageId": "r"
    }
   },
   "outputs": [],
   "source": [
    "# save the under-sampled data to csv \n",
    "write.csv(train_under, '../data/training_sets/train_under.csv', row.names=FALSE)"
   ]
  },
  {
   "cell_type": "markdown",
   "metadata": {},
   "source": [
    "Over Sampling"
   ]
  },
  {
   "cell_type": "code",
   "execution_count": 17,
   "metadata": {
    "vscode": {
     "languageId": "r"
    }
   },
   "outputs": [],
   "source": [
    "over_sampling_3c <- function(data, name_class) {\n",
    "    class_fact <- as.factor(data[, name_class])\n",
    "    data_split <- split(data, class_fact)\n",
    "    n_class <- sapply(data_split, FUN = nrow)\n",
    "    n_major <- max(n_class)\n",
    "    \n",
    "    new_data <- do.call(rbind, lapply(data_split, function(class_data) {\n",
    "        id_sample <- sample(1:nrow(class_data), size = n_major, replace = TRUE)\n",
    "        class_data[id_sample, ]\n",
    "    }))\n",
    "    \n",
    "    return(new_data)\n",
    "}"
   ]
  },
  {
   "cell_type": "code",
   "execution_count": 18,
   "metadata": {
    "vscode": {
     "languageId": "r"
    }
   },
   "outputs": [
    {
     "data": {
      "text/plain": [
       "Diabetes_012\n",
       "     0      1      2 \n",
       "149578 149578 149578 "
      ]
     },
     "metadata": {},
     "output_type": "display_data"
    }
   ],
   "source": [
    "set.seed(345)\n",
    "train_over <- over_sampling_3c(train, \"Diabetes_012\")\n",
    "with(train_over, table(Diabetes_012))"
   ]
  },
  {
   "cell_type": "code",
   "execution_count": 19,
   "metadata": {
    "vscode": {
     "languageId": "r"
    }
   },
   "outputs": [],
   "source": [
    "write.csv(train_over, '../data/training_sets/train_over.csv', row.names=FALSE)"
   ]
  },
  {
   "cell_type": "markdown",
   "metadata": {},
   "source": [
    "Under + Over Sampling"
   ]
  },
  {
   "cell_type": "code",
   "execution_count": 20,
   "metadata": {
    "vscode": {
     "languageId": "r"
    }
   },
   "outputs": [],
   "source": [
    "# kết hợp under sampling và over sampling cho 3 classes\n",
    "combine_sampling_3c <- function(data, name_class) {\n",
    "    class_fact <- as.factor(data[, name_class])\n",
    "    data_split <- split(data, class_fact)\n",
    "    n_class <- sapply(data_split, FUN = nrow)\n",
    "    \n",
    "    # xác định cỡ mẫu chung cho các class (avg)\n",
    "    n_avg <- round(mean(n_class))\n",
    "\n",
    "    new_data <- do.call(rbind, lapply(data_split, function(class_data) {\n",
    "        n_class_data <- nrow(class_data)\n",
    "        if (n_class_data < n_avg) {\n",
    "            id_sample <- sample(1:n_class_data, size = n_avg - n_class_data, replace = TRUE)\n",
    "            class_data <- rbind(class_data, class_data[id_sample, ])\n",
    "        } else {\n",
    "            id_sample <- sample(1:n_class_data, size = n_avg, replace = FALSE)\n",
    "            class_data <- class_data[id_sample, ]\n",
    "        }\n",
    "        return(class_data)\n",
    "    }))\n",
    "    \n",
    "    return(new_data)\n",
    "}"
   ]
  },
  {
   "cell_type": "code",
   "execution_count": 21,
   "metadata": {
    "vscode": {
     "languageId": "r"
    }
   },
   "outputs": [
    {
     "data": {
      "text/plain": [
       "Diabetes_012\n",
       "    0     1     2 \n",
       "59192 59192 59192 "
      ]
     },
     "metadata": {},
     "output_type": "display_data"
    }
   ],
   "source": [
    "set.seed(345)\n",
    "train_combine <- combine_sampling_3c(train, \"Diabetes_012\")\n",
    "with(train_combine, table(Diabetes_012))"
   ]
  },
  {
   "cell_type": "code",
   "execution_count": 22,
   "metadata": {
    "vscode": {
     "languageId": "r"
    }
   },
   "outputs": [],
   "source": [
    "write.csv(train_combine, '../data/training_sets/train_combine.csv', row.names=FALSE)"
   ]
  },
  {
   "cell_type": "markdown",
   "metadata": {},
   "source": [
    "SMOTE"
   ]
  },
  {
   "cell_type": "code",
   "execution_count": 23,
   "metadata": {
    "vscode": {
     "languageId": "r"
    }
   },
   "outputs": [
    {
     "name": "stderr",
     "output_type": "stream",
     "text": [
      "Loading required package: recipes\n",
      "\n",
      "\n",
      "Attaching package: 'recipes'\n",
      "\n",
      "\n",
      "The following object is masked from 'package:stats':\n",
      "\n",
      "    step\n",
      "\n",
      "\n"
     ]
    }
   ],
   "source": [
    "library(themis)"
   ]
  },
  {
   "cell_type": "code",
   "execution_count": 24,
   "metadata": {
    "vscode": {
     "languageId": "r"
    }
   },
   "outputs": [],
   "source": [
    "train$Diabetes_012 <- as.factor(train$Diabetes_012)\n",
    "set.seed(345)\n",
    "train_smote <- smotenc(df= train, var = \"Diabetes_012\", k = 5, over_ratio = 1)"
   ]
  },
  {
   "cell_type": "code",
   "execution_count": 25,
   "metadata": {
    "vscode": {
     "languageId": "r"
    }
   },
   "outputs": [
    {
     "data": {
      "text/plain": [
       "Diabetes_012\n",
       "     0      1      2 \n",
       "149578 149578 149578 "
      ]
     },
     "metadata": {},
     "output_type": "display_data"
    }
   ],
   "source": [
    "with(train_smote, table(Diabetes_012))"
   ]
  },
  {
   "cell_type": "code",
   "execution_count": 26,
   "metadata": {
    "vscode": {
     "languageId": "r"
    }
   },
   "outputs": [],
   "source": [
    "write.csv(train_smote, '../data/training_sets/train_smote.csv', row.names=FALSE)"
   ]
  }
 ],
 "metadata": {
  "kernelspec": {
   "display_name": "R",
   "language": "R",
   "name": "ir"
  },
  "language_info": {
   "codemirror_mode": "r",
   "file_extension": ".r",
   "mimetype": "text/x-r-source",
   "name": "R",
   "pygments_lexer": "r",
   "version": "4.4.2"
  }
 },
 "nbformat": 4,
 "nbformat_minor": 2
}
