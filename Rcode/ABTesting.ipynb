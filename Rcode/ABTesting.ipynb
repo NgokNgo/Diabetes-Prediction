{
 "cells": [
  {
   "cell_type": "code",
   "execution_count": 14,
   "metadata": {
    "vscode": {
     "languageId": "r"
    }
   },
   "outputs": [],
   "source": [
    "library(ggplot2)\n",
    "library(dplyr)\n",
    "library(readr)\n",
    "library(tidyr)\n",
    "library(lmPerm)"
   ]
  },
  {
   "cell_type": "markdown",
   "metadata": {},
   "source": [
    "### Kiểm định"
   ]
  },
  {
   "cell_type": "code",
   "execution_count": 3,
   "metadata": {
    "vscode": {
     "languageId": "r"
    }
   },
   "outputs": [
    {
     "name": "stderr",
     "output_type": "stream",
     "text": [
      "\u001b[1mRows: \u001b[22m\u001b[34m253680\u001b[39m \u001b[1mColumns: \u001b[22m\u001b[34m22\u001b[39m\n",
      "\u001b[36m──\u001b[39m \u001b[1mColumn specification\u001b[22m \u001b[36m────────────────────────────────────────────────────────\u001b[39m\n",
      "\u001b[1mDelimiter:\u001b[22m \",\"\n",
      "\u001b[32mdbl\u001b[39m (22): Diabetes_012, HighBP, HighChol, CholCheck, BMI, Smoker, Stroke, He...\n",
      "\n",
      "\u001b[36mℹ\u001b[39m Use `spec()` to retrieve the full column specification for this data.\n",
      "\u001b[36mℹ\u001b[39m Specify the column types or set `show_col_types = FALSE` to quiet this message.\n"
     ]
    }
   ],
   "source": [
    "df <- read_csv('data/clean_outliers.csv')"
   ]
  },
  {
   "cell_type": "code",
   "execution_count": 4,
   "metadata": {
    "vscode": {
     "languageId": "r"
    }
   },
   "outputs": [
    {
     "data": {
      "text/html": [
       "0"
      ],
      "text/latex": [
       "0"
      ],
      "text/markdown": [
       "0"
      ],
      "text/plain": [
       "[1] 0"
      ]
     },
     "metadata": {},
     "output_type": "display_data"
    }
   ],
   "source": [
    "df <- df %>% distinct()\n",
    "sum(duplicated(df))"
   ]
  },
  {
   "cell_type": "code",
   "execution_count": 6,
   "metadata": {
    "vscode": {
     "languageId": "r"
    }
   },
   "outputs": [],
   "source": [
    "# kiểm định chi-square với monte carlo simulation\n",
    "chisq_test <- function(df, var1, var2) {\n",
    "  observed <- table(df[[var1]], df[[var2]])\n",
    "  chisq <- chisq.test(observed, simulate.p.value = TRUE, B = 5000)\n",
    "  return(chisq)\n",
    "}"
   ]
  },
  {
   "cell_type": "code",
   "execution_count": 8,
   "metadata": {
    "vscode": {
     "languageId": "r"
    }
   },
   "outputs": [],
   "source": [
    "# kiểm định kruskal-wallis\n",
    "kruskal_test <- function(df, var1, var2) {\n",
    "  kruskal <- kruskal.test(df[[var1]] ~ df[[var2]], data = df)\n",
    "  return(kruskal)\n",
    "}"
   ]
  },
  {
   "cell_type": "markdown",
   "metadata": {},
   "source": [
    "#### Biến giải thích với predictor"
   ]
  },
  {
   "cell_type": "code",
   "execution_count": 13,
   "metadata": {
    "vscode": {
     "languageId": "r"
    }
   },
   "outputs": [
    {
     "data": {
      "text/html": [
       "<table class=\"dataframe\">\n",
       "<caption>A data.frame: 11 × 3</caption>\n",
       "<thead>\n",
       "\t<tr><th scope=col>variable</th><th scope=col>p_value</th><th scope=col>reject</th></tr>\n",
       "\t<tr><th scope=col>&lt;chr&gt;</th><th scope=col>&lt;dbl&gt;</th><th scope=col>&lt;lgl&gt;</th></tr>\n",
       "</thead>\n",
       "<tbody>\n",
       "\t<tr><td>HighBP              </td><td>0.00019996</td><td>TRUE</td></tr>\n",
       "\t<tr><td>HighChol            </td><td>0.00019996</td><td>TRUE</td></tr>\n",
       "\t<tr><td>CholCheck           </td><td>0.00019996</td><td>TRUE</td></tr>\n",
       "\t<tr><td>Stroke              </td><td>0.00019996</td><td>TRUE</td></tr>\n",
       "\t<tr><td>HeartDiseaseorAttack</td><td>0.00019996</td><td>TRUE</td></tr>\n",
       "\t<tr><td>PhysActivity        </td><td>0.00019996</td><td>TRUE</td></tr>\n",
       "\t<tr><td>DiffWalk            </td><td>0.00019996</td><td>TRUE</td></tr>\n",
       "\t<tr><td>GenHlth             </td><td>0.00019996</td><td>TRUE</td></tr>\n",
       "\t<tr><td>Age                 </td><td>0.00019996</td><td>TRUE</td></tr>\n",
       "\t<tr><td>Education           </td><td>0.00019996</td><td>TRUE</td></tr>\n",
       "\t<tr><td>Income              </td><td>0.00019996</td><td>TRUE</td></tr>\n",
       "</tbody>\n",
       "</table>\n"
      ],
      "text/latex": [
       "A data.frame: 11 × 3\n",
       "\\begin{tabular}{lll}\n",
       " variable & p\\_value & reject\\\\\n",
       " <chr> & <dbl> & <lgl>\\\\\n",
       "\\hline\n",
       "\t HighBP               & 0.00019996 & TRUE\\\\\n",
       "\t HighChol             & 0.00019996 & TRUE\\\\\n",
       "\t CholCheck            & 0.00019996 & TRUE\\\\\n",
       "\t Stroke               & 0.00019996 & TRUE\\\\\n",
       "\t HeartDiseaseorAttack & 0.00019996 & TRUE\\\\\n",
       "\t PhysActivity         & 0.00019996 & TRUE\\\\\n",
       "\t DiffWalk             & 0.00019996 & TRUE\\\\\n",
       "\t GenHlth              & 0.00019996 & TRUE\\\\\n",
       "\t Age                  & 0.00019996 & TRUE\\\\\n",
       "\t Education            & 0.00019996 & TRUE\\\\\n",
       "\t Income               & 0.00019996 & TRUE\\\\\n",
       "\\end{tabular}\n"
      ],
      "text/markdown": [
       "\n",
       "A data.frame: 11 × 3\n",
       "\n",
       "| variable &lt;chr&gt; | p_value &lt;dbl&gt; | reject &lt;lgl&gt; |\n",
       "|---|---|---|\n",
       "| HighBP               | 0.00019996 | TRUE |\n",
       "| HighChol             | 0.00019996 | TRUE |\n",
       "| CholCheck            | 0.00019996 | TRUE |\n",
       "| Stroke               | 0.00019996 | TRUE |\n",
       "| HeartDiseaseorAttack | 0.00019996 | TRUE |\n",
       "| PhysActivity         | 0.00019996 | TRUE |\n",
       "| DiffWalk             | 0.00019996 | TRUE |\n",
       "| GenHlth              | 0.00019996 | TRUE |\n",
       "| Age                  | 0.00019996 | TRUE |\n",
       "| Education            | 0.00019996 | TRUE |\n",
       "| Income               | 0.00019996 | TRUE |\n",
       "\n"
      ],
      "text/plain": [
       "   variable             p_value    reject\n",
       "1  HighBP               0.00019996 TRUE  \n",
       "2  HighChol             0.00019996 TRUE  \n",
       "3  CholCheck            0.00019996 TRUE  \n",
       "4  Stroke               0.00019996 TRUE  \n",
       "5  HeartDiseaseorAttack 0.00019996 TRUE  \n",
       "6  PhysActivity         0.00019996 TRUE  \n",
       "7  DiffWalk             0.00019996 TRUE  \n",
       "8  GenHlth              0.00019996 TRUE  \n",
       "9  Age                  0.00019996 TRUE  \n",
       "10 Education            0.00019996 TRUE  \n",
       "11 Income               0.00019996 TRUE  "
      ]
     },
     "metadata": {},
     "output_type": "display_data"
    }
   ],
   "source": [
    "vars <- c('HighBP', 'HighChol', 'CholCheck', 'Stroke', 'HeartDiseaseorAttack', \n",
    "        'PhysActivity', 'DiffWalk', 'GenHlth', 'Age', 'Education', 'Income')\n",
    "\n",
    "chi_square_results <- data.frame(variable = character(), p_value = numeric(), reject = logical(), stringsAsFactors = FALSE)\n",
    "\n",
    "for (var in vars) {\n",
    "    chi_square <- chisq_test(df, 'Diabetes_012', var)\n",
    "    reject <- chi_square$p.value < 0.05\n",
    "    chi_square_results <- rbind(chi_square_results, data.frame(variable = var, p_value = chi_square$p.value, reject = reject))\n",
    "}\n",
    "\n",
    "chi_square_results\n"
   ]
  },
  {
   "cell_type": "code",
   "execution_count": 11,
   "metadata": {
    "vscode": {
     "languageId": "r"
    }
   },
   "outputs": [
    {
     "data": {
      "text/plain": [
       "\n",
       "\tPearson's Chi-squared test\n",
       "\n",
       "data:  observed\n",
       "X-squared = 146.18, df = 2, p-value < 2.2e-16\n"
      ]
     },
     "metadata": {},
     "output_type": "display_data"
    }
   ],
   "source": [
    "chisq_test(df, 'Diabetes_012', 'AnyHealthcare')"
   ]
  },
  {
   "cell_type": "code",
   "execution_count": 35,
   "metadata": {
    "vscode": {
     "languageId": "r"
    }
   },
   "outputs": [
    {
     "name": "stdout",
     "output_type": "stream",
     "text": [
      "                         Df Sum Sq Mean Sq F value Pr(>F)    \n",
      "df[[\"Diabetes_012\"]]      1   9709    9709   10816 <2e-16 ***\n",
      "Residuals            229769 206254       1                   \n",
      "---\n",
      "Signif. codes:  0 '***' 0.001 '**' 0.01 '*' 0.05 '.' 0.1 ' ' 1\n",
      "                         Df  Sum Sq Mean Sq F value Pr(>F)    \n",
      "df[[\"Diabetes_012\"]]      1   53820   53820    6075 <2e-16 ***\n",
      "Residuals            229769 2035632       9                   \n",
      "---\n",
      "Signif. codes:  0 '***' 0.001 '**' 0.01 '*' 0.05 '.' 0.1 ' ' 1\n",
      "                         Df  Sum Sq Mean Sq F value Pr(>F)    \n",
      "df[[\"Diabetes_012\"]]      1   11380   11380   767.6 <2e-16 ***\n",
      "Residuals            229769 3406656      15                   \n",
      "---\n",
      "Signif. codes:  0 '***' 0.001 '**' 0.01 '*' 0.05 '.' 0.1 ' ' 1\n"
     ]
    }
   ],
   "source": [
    "vars_quanlity <- c('BMI', 'PhysHlth', 'MentHlth')\n",
    "\n",
    "for (var in vars_quanlity) {\n",
    "   results <- aov(formula=df[[var]] ~ df[['Diabetes_012']], data = df)\n",
    "   print(summary(results))\n",
    "}\n"
   ]
  },
  {
   "cell_type": "code",
   "execution_count": 39,
   "metadata": {
    "vscode": {
     "languageId": "r"
    }
   },
   "outputs": [
    {
     "name": "stdout",
     "output_type": "stream",
     "text": [
      "\n",
      "\tKruskal-Wallis rank sum test\n",
      "\n",
      "data:  df[[var1]] by df[[var2]]\n",
      "Kruskal-Wallis chi-squared = 11827, df = 2, p-value < 2.2e-16\n",
      "\n",
      "\n",
      "\tKruskal-Wallis rank sum test\n",
      "\n",
      "data:  df[[var1]] by df[[var2]]\n",
      "Kruskal-Wallis chi-squared = 4574.4, df = 2, p-value < 2.2e-16\n",
      "\n",
      "\n",
      "\tKruskal-Wallis rank sum test\n",
      "\n",
      "data:  df[[var1]] by df[[var2]]\n",
      "Kruskal-Wallis chi-squared = 125.54, df = 2, p-value < 2.2e-16\n",
      "\n"
     ]
    }
   ],
   "source": [
    "for (var in vars_quanlity) {\n",
    "   results <- kruskal_test(df, var, 'Diabetes_012')\n",
    "   print(results)\n",
    "}"
   ]
  },
  {
   "cell_type": "markdown",
   "metadata": {},
   "source": [
    "#### Biến giải thích với nhau"
   ]
  }
 ],
 "metadata": {
  "kernelspec": {
   "display_name": "R",
   "language": "R",
   "name": "ir"
  },
  "language_info": {
   "codemirror_mode": "r",
   "file_extension": ".r",
   "mimetype": "text/x-r-source",
   "name": "R",
   "pygments_lexer": "r",
   "version": "4.4.2"
  }
 },
 "nbformat": 4,
 "nbformat_minor": 2
}
