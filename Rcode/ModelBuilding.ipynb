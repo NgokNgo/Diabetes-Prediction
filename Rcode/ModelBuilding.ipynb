{
 "cells": [
  {
   "cell_type": "code",
   "execution_count": 2,
   "metadata": {
    "vscode": {
     "languageId": "r"
    }
   },
   "outputs": [],
   "source": [
    "library(ggplot2)\n",
    "library(dplyr)\n",
    "library(readr)\n",
    "library(tidyr)\n",
    "library(nnet)\n",
    "library(glmnet)\n",
    "library(car)\n",
    "library(themis)\n",
    "library(pROC)\n",
    "library(reshape2)"
   ]
  },
  {
   "cell_type": "code",
   "execution_count": 3,
   "metadata": {
    "vscode": {
     "languageId": "r"
    }
   },
   "outputs": [
    {
     "name": "stderr",
     "output_type": "stream",
     "text": [
      "\u001b[1mRows: \u001b[22m\u001b[34m76104\u001b[39m \u001b[1mColumns: \u001b[22m\u001b[34m22\u001b[39m\n",
      "\u001b[36m──\u001b[39m \u001b[1mColumn specification\u001b[22m \u001b[36m────────────────────────────────────────────────────────\u001b[39m\n",
      "\u001b[1mDelimiter:\u001b[22m \",\"\n",
      "\u001b[32mdbl\u001b[39m (22): Diabetes_012, HighBP, HighChol, CholCheck, BMI, Smoker, Stroke, He...\n",
      "\n",
      "\u001b[36mℹ\u001b[39m Use `spec()` to retrieve the full column specification for this data.\n",
      "\u001b[36mℹ\u001b[39m Specify the column types or set `show_col_types = FALSE` to quiet this message.\n"
     ]
    }
   ],
   "source": [
    "test <- read_csv('../data/testset.csv')"
   ]
  },
  {
   "cell_type": "code",
   "execution_count": 4,
   "metadata": {
    "vscode": {
     "languageId": "r"
    }
   },
   "outputs": [
    {
     "name": "stderr",
     "output_type": "stream",
     "text": [
      "\u001b[1mRows: \u001b[22m\u001b[34m9696\u001b[39m \u001b[1mColumns: \u001b[22m\u001b[34m22\u001b[39m\n",
      "\u001b[36m──\u001b[39m \u001b[1mColumn specification\u001b[22m \u001b[36m────────────────────────────────────────────────────────\u001b[39m\n",
      "\u001b[1mDelimiter:\u001b[22m \",\"\n",
      "\u001b[32mdbl\u001b[39m (22): Diabetes_012, HighBP, HighChol, CholCheck, BMI, Smoker, Stroke, He...\n",
      "\n",
      "\u001b[36mℹ\u001b[39m Use `spec()` to retrieve the full column specification for this data.\n",
      "\u001b[36mℹ\u001b[39m Specify the column types or set `show_col_types = FALSE` to quiet this message.\n",
      "\u001b[1mRows: \u001b[22m\u001b[34m448734\u001b[39m \u001b[1mColumns: \u001b[22m\u001b[34m22\u001b[39m\n",
      "\u001b[36m──\u001b[39m \u001b[1mColumn specification\u001b[22m \u001b[36m────────────────────────────────────────────────────────\u001b[39m\n",
      "\u001b[1mDelimiter:\u001b[22m \",\"\n",
      "\u001b[32mdbl\u001b[39m (22): Diabetes_012, HighBP, HighChol, CholCheck, BMI, Smoker, Stroke, He...\n",
      "\n",
      "\u001b[36mℹ\u001b[39m Use `spec()` to retrieve the full column specification for this data.\n",
      "\u001b[36mℹ\u001b[39m Specify the column types or set `show_col_types = FALSE` to quiet this message.\n",
      "\u001b[1mRows: \u001b[22m\u001b[34m177576\u001b[39m \u001b[1mColumns: \u001b[22m\u001b[34m22\u001b[39m\n",
      "\u001b[36m──\u001b[39m \u001b[1mColumn specification\u001b[22m \u001b[36m────────────────────────────────────────────────────────\u001b[39m\n",
      "\u001b[1mDelimiter:\u001b[22m \",\"\n",
      "\u001b[32mdbl\u001b[39m (22): Diabetes_012, HighBP, HighChol, CholCheck, BMI, Smoker, Stroke, He...\n",
      "\n",
      "\u001b[36mℹ\u001b[39m Use `spec()` to retrieve the full column specification for this data.\n",
      "\u001b[36mℹ\u001b[39m Specify the column types or set `show_col_types = FALSE` to quiet this message.\n",
      "\u001b[1mRows: \u001b[22m\u001b[34m448734\u001b[39m \u001b[1mColumns: \u001b[22m\u001b[34m22\u001b[39m\n",
      "\u001b[36m──\u001b[39m \u001b[1mColumn specification\u001b[22m \u001b[36m────────────────────────────────────────────────────────\u001b[39m\n",
      "\u001b[1mDelimiter:\u001b[22m \",\"\n",
      "\u001b[32mdbl\u001b[39m (22): Diabetes_012, HighBP, HighChol, CholCheck, BMI, Smoker, Stroke, He...\n",
      "\n",
      "\u001b[36mℹ\u001b[39m Use `spec()` to retrieve the full column specification for this data.\n",
      "\u001b[36mℹ\u001b[39m Specify the column types or set `show_col_types = FALSE` to quiet this message.\n"
     ]
    }
   ],
   "source": [
    "train_under <- read_csv('../data/training_sets/train_under.csv')\n",
    "train_over <- read_csv('../data/training_sets/train_over.csv')\n",
    "train_combine <- read_csv('../data/training_sets/train_combine.csv')\n",
    "train_smote <- read_csv('../data/training_sets/train_smote.csv')"
   ]
  },
  {
   "cell_type": "code",
   "execution_count": 5,
   "metadata": {
    "vscode": {
     "languageId": "r"
    }
   },
   "outputs": [],
   "source": [
    "eval_multi_class <- function(x) {\n",
    "    cc <- sum(diag(x), na.rm = TRUE)\n",
    "    sc <- sum(x)\n",
    "    pp <- colSums(x)\n",
    "    tt <- rowSums(x)\n",
    "    \n",
    "    prec <- diag(x) / colSums(x)\n",
    "    recall <- diag(x) / rowSums(x)\n",
    "    macro_prec <- mean(prec, na.rm = TRUE)\n",
    "    macro_recall <- mean(recall, na.rm = TRUE)\n",
    "    macro_f1 <- 2 * macro_prec * macro_recall / (macro_prec + macro_recall)\n",
    "    acc <- cc / sc\n",
    "    \n",
    "    denominator <- (sc^2 - sum(pp * tt))\n",
    "    if (denominator != 0) {\n",
    "        kap <- (as.numeric(cc) * as.numeric(sc) - sum(pp * tt)) / denominator\n",
    "    } else {\n",
    "        kap <- NA\n",
    "    }\n",
    "    \n",
    "    return(list(Precision = prec, Recall = recall, Accuracy = acc, Kappa = kap, Macro_F1 = macro_f1))\n",
    "}"
   ]
  },
  {
   "cell_type": "markdown",
   "metadata": {},
   "source": [
    "#### Model với tất cả các biến"
   ]
  },
  {
   "cell_type": "code",
   "execution_count": 7,
   "metadata": {
    "vscode": {
     "languageId": "r"
    }
   },
   "outputs": [
    {
     "name": "stdout",
     "output_type": "stream",
     "text": [
      "# weights:  69 (44 variable)\n",
      "initial  value 10652.144751 \n",
      "iter  10 value 9744.257556\n",
      "iter  20 value 9528.172274\n",
      "iter  30 value 9399.776835\n",
      "iter  40 value 9258.014609\n",
      "iter  50 value 9214.081944\n",
      "final  value 9214.079505 \n",
      "converged\n",
      "# weights:  69 (44 variable)\n",
      "initial  value 492984.686742 \n",
      "iter  10 value 454100.958198\n",
      "iter  20 value 446031.713713\n",
      "iter  30 value 444525.986389\n",
      "iter  40 value 433387.485717\n",
      "iter  50 value 426663.745668\n",
      "final  value 426663.706103 \n",
      "converged\n",
      "# weights:  69 (44 variable)\n",
      "initial  value 195087.175773 \n",
      "iter  10 value 175501.078653\n",
      "iter  20 value 172628.925483\n",
      "iter  30 value 171955.055235\n",
      "iter  40 value 169961.157023\n",
      "iter  50 value 168805.474858\n",
      "final  value 168805.436928 \n",
      "converged\n",
      "# weights:  69 (44 variable)\n",
      "initial  value 492984.686742 \n",
      "iter  10 value 454085.871213\n",
      "iter  20 value 443830.287775\n",
      "iter  30 value 441206.341870\n",
      "iter  40 value 435924.125540\n",
      "iter  50 value 421973.436247\n",
      "final  value 421972.781145 \n",
      "converged\n"
     ]
    }
   ],
   "source": [
    "first_models <- list()\n",
    "\n",
    "for (i in 1:4) {\n",
    "    if (i == 1) {\n",
    "        df <- train_under\n",
    "    } else if (i == 2) {\n",
    "        df <- train_over\n",
    "    } else if (i == 3) {\n",
    "        df <- train_combine\n",
    "    } else {\n",
    "        df <- train_smote\n",
    "    }\n",
    "    \n",
    "    model <- multinom(Diabetes_012 ~ ., data = df, maxit = 1000)\n",
    "    pred_class <- predict(model, test, type = 'class')\n",
    "    \n",
    "    cm <- table(test$Diabetes_012, pred_class)\n",
    "    eval <- eval_multi_class(cm)\n",
    "    \n",
    "    first_models[[i]] <- list(Model = model, Prediction_Class = pred_class, Confusion_Matrix = cm, Evaluation = eval)\n",
    "}\n"
   ]
  },
  {
   "cell_type": "code",
   "execution_count": 8,
   "metadata": {
    "vscode": {
     "languageId": "r"
    }
   },
   "outputs": [
    {
     "name": "stdout",
     "output_type": "stream",
     "text": [
      "Undersampling\n",
      "$Precision\n",
      "         0          1          2 \n",
      "0.95036052 0.03136971 0.34686120 \n",
      "\n",
      "$Recall\n",
      "        0         1         2 \n",
      "0.6577310 0.3102216 0.5864839 \n",
      "\n",
      "$Accuracy\n",
      "[1] 0.641438\n",
      "\n",
      "$Kappa\n",
      "[1] 0.2413317\n",
      "\n",
      "$Macro_F1\n",
      "[1] 0.477556\n",
      "\n",
      "\n",
      "Oversampling\n",
      "$Precision\n",
      "         0          1          2 \n",
      "0.95000225 0.03259091 0.35044630 \n",
      "\n",
      "$Recall\n",
      "        0         1         2 \n",
      "0.6586979 0.3273767 0.5826087 \n",
      "\n",
      "$Accuracy\n",
      "[1] 0.6420293\n",
      "\n",
      "$Kappa\n",
      "[1] 0.2419211\n",
      "\n",
      "$Macro_F1\n",
      "[1] 0.4804311\n",
      "\n",
      "\n",
      "Combine\n",
      "$Precision\n",
      "         0          1          2 \n",
      "0.95012346 0.03209894 0.35050666 \n",
      "\n",
      "$Recall\n",
      "        0         1         2 \n",
      "0.6600858 0.3209435 0.5819471 \n",
      "\n",
      "$Accuracy\n",
      "[1] 0.6429885\n",
      "\n",
      "$Kappa\n",
      "[1] 0.242482\n",
      "\n",
      "$Macro_F1\n",
      "[1] 0.4795663\n",
      "\n",
      "\n",
      "SMOTE\n",
      "$Precision\n",
      "        0         1         2 \n",
      "0.9497741 0.0302553 0.3548675 \n",
      "\n",
      "$Recall\n",
      "        0         1         2 \n",
      "0.6523041 0.3295211 0.5643667 \n",
      "\n",
      "$Accuracy\n",
      "[1] 0.6341454\n",
      "\n",
      "$Kappa\n",
      "[1] 0.2345763\n",
      "\n",
      "$Macro_F1\n",
      "[1] 0.4775988\n",
      "\n",
      "\n"
     ]
    }
   ],
   "source": [
    "# lấy ra các evalution của từng model\n",
    "evaluations <- lapply(first_models, function(x) x$Evaluation)\n",
    "\n",
    "for (i in 1:4) {\n",
    "    if (i == 1) {\n",
    "        cat('Undersampling\\n')\n",
    "    } else if (i == 2) {\n",
    "        cat('Oversampling\\n')\n",
    "    } else if (i == 3) {\n",
    "        cat('Combine\\n')\n",
    "    } else {\n",
    "        cat('SMOTE\\n')\n",
    "    }\n",
    "    \n",
    "    print(evaluations[[i]])\n",
    "    cat('\\n')\n",
    "}"
   ]
  },
  {
   "cell_type": "code",
   "execution_count": 18,
   "metadata": {
    "vscode": {
     "languageId": "r"
    }
   },
   "outputs": [
    {
     "data": {
      "image/png": "[encoded data removed]",
      "text/plain": [
       "plot without title"
      ]
     },
     "metadata": {
      "image/png": {
       "height": 420,
       "width": 420
      }
     },
     "output_type": "display_data"
    },
    {
     "data": {
      "image/png": "[encoded data removed]",
      "text/plain": [
       "plot without title"
      ]
     },
     "metadata": {
      "image/png": {
       "height": 420,
       "width": 420
      }
     },
     "output_type": "display_data"
    },
    {
     "data": {
      "image/png": "[encoded data removed]",
      "text/plain": [
       "plot without title"
      ]
     },
     "metadata": {
      "image/png": {
       "height": 420,
       "width": 420
      }
     },
     "output_type": "display_data"
    },
    {
     "data": {
      "image/png": "[encoded data removed]",
      "text/plain": [
       "plot without title"
      ]
     },
     "metadata": {
      "image/png": {
       "height": 420,
       "width": 420
      }
     },
     "output_type": "display_data"
    }
   ],
   "source": [
    "# vẽ trực quan confusion matrix của từng model\n",
    "sampling_methods <- c(\"Undersampling\", \"Oversampling\", \"Combine\", \"SMOTE\")\n",
    "\n",
    "for (i in 1:4) {    \n",
    "    cm <- first_models[[i]]$Confusion_Matrix\n",
    "    cm_melt <- melt(cm)\n",
    "    colnames(cm_melt) <- c(\"Var1\", \"Var2\", \"value\")\n",
    "    p <- ggplot(data = cm_melt, aes(x = Var2, y = Var1, fill = value)) +\n",
    "        geom_tile() +\n",
    "        geom_text(aes(label = value), color = \"black\") +\n",
    "        scale_fill_gradient(low = \"white\", high = \"blue\") +\n",
    "        labs(x = \"Predicted\", y = \"Actual\", fill = \"Count\") +\n",
    "        ggtitle(paste(\"Confusion Matrix -\", sampling_methods[i])) +\n",
    "        theme_minimal()\n",
    "\n",
    "    print(p)\n",
    "}"
   ]
  },
  {
   "cell_type": "markdown",
   "metadata": {},
   "source": [
    "Model chạy với train_combine có vẻ cho kết quả tốt nhất trong phân loại nhóm 1 và 2."
   ]
  },
  {
   "cell_type": "markdown",
   "metadata": {},
   "source": [
    "#### Chọn biến"
   ]
  },
  {
   "cell_type": "code",
   "execution_count": 9,
   "metadata": {
    "vscode": {
     "languageId": "r"
    }
   },
   "outputs": [],
   "source": [
    "# bỏ bớt các biến đa cộng tuyến\n",
    "formula <- as.formula(\n",
    "    \"Diabetes_012 ~ HighBP + CholCheck + BMI + Stroke + PhysActivity + \n",
    "     Fruits + HvyAlcoholConsump + NoDocbcCost + PhysHlth + Income + Sex + Age\"\n",
    ")"
   ]
  },
  {
   "cell_type": "code",
   "execution_count": 10,
   "metadata": {
    "vscode": {
     "languageId": "r"
    }
   },
   "outputs": [
    {
     "name": "stdout",
     "output_type": "stream",
     "text": [
      "# weights:  42 (26 variable)\n",
      "initial  value 195087.175773 \n",
      "iter  10 value 180460.452659\n",
      "iter  20 value 179021.501422\n",
      "iter  30 value 173814.724955\n",
      "final  value 173800.440546 \n",
      "converged\n"
     ]
    }
   ],
   "source": [
    "# train với train_combine\n",
    "model_finetune1 <- multinom(formula= formula, data = train_combine, maxit = 1000)"
   ]
  },
  {
   "cell_type": "code",
   "execution_count": 20,
   "metadata": {
    "vscode": {
     "languageId": "r"
    }
   },
   "outputs": [
    {
     "name": "stdout",
     "output_type": "stream",
     "text": [
      "$Precision\n",
      "         0          1          2 \n",
      "0.94130224 0.03130574 0.31298568 \n",
      "\n",
      "$Recall\n",
      "        0         1         2 \n",
      "0.6522105 0.2508935 0.6052930 \n",
      "\n",
      "$Accuracy\n",
      "[1] 0.6383107\n",
      "\n",
      "$Kappa\n",
      "[1] 0.2271445\n",
      "\n",
      "$Macro_F1\n",
      "[1] 0.4627039\n",
      "\n"
     ]
    }
   ],
   "source": [
    "prop_pred <- predict(model_finetune1, test, type = 'class')\n",
    "conf_matrix <- table(test$Diabetes_012, prop_pred)\n",
    "print(eval_multi_class(conf_matrix))"
   ]
  },
  {
   "cell_type": "code",
   "execution_count": 21,
   "metadata": {
    "vscode": {
     "languageId": "r"
    }
   },
   "outputs": [
    {
     "data": {
      "image/png": "[encoded data removed]",
      "text/plain": [
       "plot without title"
      ]
     },
     "metadata": {
      "image/png": {
       "height": 420,
       "width": 420
      }
     },
     "output_type": "display_data"
    }
   ],
   "source": [
    "# vẽ biểu đồ confusion matrix\n",
    "cm_melt <- melt(conf_matrix)\n",
    "colnames(cm_melt) <- c(\"Var1\", \"Var2\", \"value\")\n",
    "ggplot(data = cm_melt, aes(x = Var2, y = Var1, fill = value)) +\n",
    "    geom_tile() +\n",
    "    geom_text(aes(label = value), color = \"black\") +\n",
    "    scale_fill_gradient(low = \"white\", high = \"blue\") +\n",
    "    labs(x = \"Predicted\", y = \"Actual\", fill = \"Count\") +\n",
    "    ggtitle(\"Confusion Matrix - Combine\") +\n",
    "    theme_minimal()"
   ]
  },
  {
   "cell_type": "markdown",
   "metadata": {},
   "source": [
    "#### bruh"
   ]
  },
  {
   "cell_type": "code",
   "execution_count": 32,
   "metadata": {
    "vscode": {
     "languageId": "r"
    }
   },
   "outputs": [
    {
     "data": {
      "text/html": [
       "<table class=\"dataframe\">\n",
       "<caption>A data.frame: 6 × 2</caption>\n",
       "<thead>\n",
       "\t<tr><th></th><th scope=col>var1</th><th scope=col>var2</th></tr>\n",
       "\t<tr><th></th><th scope=col>&lt;chr&gt;</th><th scope=col>&lt;chr&gt;</th></tr>\n",
       "</thead>\n",
       "<tbody>\n",
       "\t<tr><th scope=row>1</th><td>HighBP</td><td>HighChol            </td></tr>\n",
       "\t<tr><th scope=row>2</th><td>HighBP</td><td>CholCheck           </td></tr>\n",
       "\t<tr><th scope=row>3</th><td>HighBP</td><td>BMI                 </td></tr>\n",
       "\t<tr><th scope=row>4</th><td>HighBP</td><td>Smoker              </td></tr>\n",
       "\t<tr><th scope=row>5</th><td>HighBP</td><td>Stroke              </td></tr>\n",
       "\t<tr><th scope=row>6</th><td>HighBP</td><td>HeartDiseaseorAttack</td></tr>\n",
       "</tbody>\n",
       "</table>\n"
      ],
      "text/latex": [
       "A data.frame: 6 × 2\n",
       "\\begin{tabular}{r|ll}\n",
       "  & var1 & var2\\\\\n",
       "  & <chr> & <chr>\\\\\n",
       "\\hline\n",
       "\t1 & HighBP & HighChol            \\\\\n",
       "\t2 & HighBP & CholCheck           \\\\\n",
       "\t3 & HighBP & BMI                 \\\\\n",
       "\t4 & HighBP & Smoker              \\\\\n",
       "\t5 & HighBP & Stroke              \\\\\n",
       "\t6 & HighBP & HeartDiseaseorAttack\\\\\n",
       "\\end{tabular}\n"
      ],
      "text/markdown": [
       "\n",
       "A data.frame: 6 × 2\n",
       "\n",
       "| <!--/--> | var1 &lt;chr&gt; | var2 &lt;chr&gt; |\n",
       "|---|---|---|\n",
       "| 1 | HighBP | HighChol             |\n",
       "| 2 | HighBP | CholCheck            |\n",
       "| 3 | HighBP | BMI                  |\n",
       "| 4 | HighBP | Smoker               |\n",
       "| 5 | HighBP | Stroke               |\n",
       "| 6 | HighBP | HeartDiseaseorAttack |\n",
       "\n"
      ],
      "text/plain": [
       "  var1   var2                \n",
       "1 HighBP HighChol            \n",
       "2 HighBP CholCheck           \n",
       "3 HighBP BMI                 \n",
       "4 HighBP Smoker              \n",
       "5 HighBP Stroke              \n",
       "6 HighBP HeartDiseaseorAttack"
      ]
     },
     "metadata": {},
     "output_type": "display_data"
    }
   ],
   "source": [
    "df_interact <- df_balanced %>% select(-Diabetes_012) \n",
    "\n",
    "relations <- data.frame()\n",
    "\n",
    "for (i in 1:(ncol(df_interact)-1)) {\n",
    "    for (j in (i+1):(ncol(df_interact)-1)) {\n",
    "        if (i != j && i != ncol(df_interact) && j != ncol(df_interact)) {\n",
    "            relations <- rbind(relations, c(colnames(df_interact)[i], colnames(df_interact)[j]))\n",
    "        }\n",
    "    }\n",
    "}\n",
    "\n",
    "relations <- as.data.frame(relations)\n",
    "colnames(relations) <- c('var1', 'var2')\n",
    "head(relations)"
   ]
  },
  {
   "cell_type": "code",
   "execution_count": 33,
   "metadata": {
    "vscode": {
     "languageId": "r"
    }
   },
   "outputs": [],
   "source": [
    "formula <- as.formula(paste('Diabetes_012 ~ . +', \n",
    "    paste(paste(relations$var1, relations$var2, sep = \":\"), collapse = \" + \")))"
   ]
  },
  {
   "cell_type": "code",
   "execution_count": 35,
   "metadata": {
    "vscode": {
     "languageId": "r"
    }
   },
   "outputs": [
    {
     "name": "stdout",
     "output_type": "stream",
     "text": [
      "# weights:  639 (424 variable)\n",
      "initial  value 704330.225781 \n",
      "iter  10 value 644270.694792\n",
      "iter  20 value 628077.558169\n",
      "iter  30 value 622778.736384\n",
      "iter  40 value 621193.387410\n",
      "iter  50 value 619734.457212\n",
      "iter  60 value 618600.514710\n",
      "iter  70 value 618014.083285\n",
      "iter  80 value 617702.587476\n",
      "iter  90 value 617433.122569\n",
      "iter 100 value 617148.015049\n",
      "iter 110 value 616851.380789\n",
      "iter 120 value 616594.555137\n",
      "iter 130 value 616128.505170\n",
      "iter 140 value 615404.587297\n",
      "iter 150 value 613813.334930\n",
      "iter 160 value 610078.306994\n",
      "iter 170 value 605814.171901\n",
      "iter 180 value 603084.560217\n",
      "iter 190 value 601314.814332\n",
      "iter 200 value 599938.317785\n",
      "iter 210 value 598303.340392\n",
      "iter 220 value 597178.345863\n",
      "iter 230 value 596220.338304\n",
      "iter 240 value 595496.041180\n",
      "iter 250 value 594726.895661\n",
      "iter 260 value 593846.245643\n",
      "iter 270 value 593236.683907\n",
      "iter 280 value 592926.470571\n",
      "iter 290 value 592705.264185\n",
      "iter 300 value 592591.794613\n",
      "iter 310 value 592383.394585\n",
      "iter 320 value 592142.764056\n",
      "iter 330 value 592015.228866\n",
      "iter 340 value 591955.836165\n",
      "iter 350 value 591927.060569\n",
      "iter 360 value 591895.675002\n",
      "iter 370 value 591880.228796\n",
      "iter 380 value 591876.845966\n",
      "iter 390 value 591873.098176\n",
      "iter 400 value 591872.339353\n",
      "final  value 591870.330865 \n",
      "converged\n"
     ]
    }
   ],
   "source": [
    "model_balanced_formula <- multinom(formula, data = df_balanced, maxit = 1000)"
   ]
  },
  {
   "cell_type": "code",
   "execution_count": 36,
   "metadata": {
    "vscode": {
     "languageId": "r"
    }
   },
   "outputs": [
    {
     "data": {
      "text/plain": [
       "   prop_pred\n",
       "         0      1      2\n",
       "  0 136887  42270  34546\n",
       "  1  48995  86142  78566\n",
       "  2  28339  58311 127053"
      ]
     },
     "metadata": {},
     "output_type": "display_data"
    }
   ],
   "source": [
    "prop_pred <- predict(model_balanced_formula, df_balanced, type = 'class')\n",
    "conf_matrix <- table(df_balanced$Diabetes_012, prop_pred)\n",
    "conf_matrix "
   ]
  },
  {
   "cell_type": "code",
   "execution_count": 37,
   "metadata": {
    "vscode": {
     "languageId": "r"
    }
   },
   "outputs": [
    {
     "name": "stdout",
     "output_type": "stream",
     "text": [
      "$Precision\n",
      "        0         1         2 \n",
      "0.6389990 0.4613358 0.5290238 \n",
      "\n",
      "$Recall\n",
      "        0         1         2 \n",
      "0.6405479 0.4030921 0.5945307 \n",
      "\n",
      "$Accuracy\n",
      "[1] 0.5460569\n",
      "\n",
      "$Kappa\n",
      "[1] 0.3190854\n",
      "\n",
      "$Macro_F1\n",
      "[1] 0.5445843\n",
      "\n"
     ]
    }
   ],
   "source": [
    "print(eval_multi_class(conf_matrix))"
   ]
  },
  {
   "cell_type": "markdown",
   "metadata": {},
   "source": [
    "### Random Forest"
   ]
  },
  {
   "cell_type": "code",
   "execution_count": 7,
   "metadata": {
    "vscode": {
     "languageId": "r"
    }
   },
   "outputs": [],
   "source": [
    "library(randomForest)"
   ]
  },
  {
   "cell_type": "code",
   "execution_count": 10,
   "metadata": {
    "vscode": {
     "languageId": "r"
    }
   },
   "outputs": [],
   "source": [
    "train_smote$Diabetes_012 <- as.factor(train_smote$Diabetes_012)\n",
    "model_rf <- randomForest(Diabetes_012 ~ ., data = train_smote, ntree = 100)"
   ]
  },
  {
   "cell_type": "code",
   "execution_count": 11,
   "metadata": {
    "vscode": {
     "languageId": "r"
    }
   },
   "outputs": [
    {
     "name": "stdout",
     "output_type": "stream",
     "text": [
      "$Precision\n",
      "         0          1          2 \n",
      "0.90300195 0.00571837 0.43081285 \n",
      "\n",
      "$Recall\n",
      "         0          1          2 \n",
      "0.89267270 0.03389831 0.41432597 \n",
      "\n",
      "$Accuracy\n",
      "[1] 0.8208636\n",
      "\n",
      "$Kappa\n",
      "[1] 0.3153912\n",
      "\n",
      "$Macro_F1\n",
      "[1] 0.4467382\n",
      "\n"
     ]
    }
   ],
   "source": [
    "predictions <- predict(model_rf, newdata = test)\n",
    "conf_mt <- table(predicted = predictions, actual = test$Diabetes_012)\n",
    "print(eval_multi_class(conf_mt))"
   ]
  },
  {
   "cell_type": "code",
   "execution_count": 18,
   "metadata": {
    "vscode": {
     "languageId": "r"
    }
   },
   "outputs": [
    {
     "name": "stdout",
     "output_type": "stream",
     "text": [
      "$Precision\n",
      "        0         1         2 \n",
      "0.8927715 0.9674409 0.8678677 \n",
      "\n",
      "$Recall\n",
      "        0         1         2 \n",
      "0.8908730 0.9595891 0.8769367 \n",
      "\n",
      "$Accuracy\n",
      "[1] 0.9094747\n",
      "\n",
      "$Kappa\n",
      "[1] 0.8642105\n",
      "\n",
      "$Macro_F1\n",
      "[1] 0.9092465\n",
      "\n"
     ]
    }
   ],
   "source": [
    "# smote dữ liệu rồi mới chia train test:\n",
    "print(eval_multi_class(conf_mt))"
   ]
  }
 ],
 "metadata": {
  "kernelspec": {
   "display_name": "R",
   "language": "R",
   "name": "ir"
  },
  "language_info": {
   "codemirror_mode": "r",
   "file_extension": ".r",
   "mimetype": "text/x-r-source",
   "name": "R",
   "pygments_lexer": "r",
   "version": "4.4.2"
  }
 },
 "nbformat": 4,
 "nbformat_minor": 2
}
