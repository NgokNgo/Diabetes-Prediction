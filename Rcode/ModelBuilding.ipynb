{
 "cells": [
  {
   "cell_type": "code",
   "execution_count": 1,
   "metadata": {
    "vscode": {
     "languageId": "r"
    }
   },
   "outputs": [
    {
     "name": "stderr",
     "output_type": "stream",
     "text": [
      "\n",
      "Attaching package: 'dplyr'\n",
      "\n",
      "\n",
      "The following objects are masked from 'package:stats':\n",
      "\n",
      "    filter, lag\n",
      "\n",
      "\n",
      "The following objects are masked from 'package:base':\n",
      "\n",
      "    intersect, setdiff, setequal, union\n",
      "\n",
      "\n",
      "Loading required package: Matrix\n",
      "\n",
      "\n",
      "Attaching package: 'Matrix'\n",
      "\n",
      "\n",
      "The following objects are masked from 'package:tidyr':\n",
      "\n",
      "    expand, pack, unpack\n",
      "\n",
      "\n",
      "Loaded glmnet 4.1-8\n",
      "\n",
      "Loading required package: carData\n",
      "\n",
      "\n",
      "Attaching package: 'car'\n",
      "\n",
      "\n",
      "The following object is masked from 'package:dplyr':\n",
      "\n",
      "    recode\n",
      "\n",
      "\n",
      "Type 'citation(\"pROC\")' for a citation.\n",
      "\n",
      "\n",
      "Attaching package: 'pROC'\n",
      "\n",
      "\n",
      "The following objects are masked from 'package:stats':\n",
      "\n",
      "    cov, smooth, var\n",
      "\n",
      "\n",
      "\n",
      "Attaching package: 'reshape2'\n",
      "\n",
      "\n",
      "The following object is masked from 'package:tidyr':\n",
      "\n",
      "    smiths\n",
      "\n",
      "\n",
      "\n",
      "Attaching package: 'MASS'\n",
      "\n",
      "\n",
      "The following object is masked from 'package:dplyr':\n",
      "\n",
      "    select\n",
      "\n",
      "\n"
     ]
    }
   ],
   "source": [
    "library(ggplot2)\n",
    "library(dplyr)\n",
    "library(readr)\n",
    "library(tidyr)\n",
    "library(nnet)\n",
    "library(glmnet)\n",
    "library(car)\n",
    "library(pROC)\n",
    "library(reshape2)\n",
    "library(MASS)"
   ]
  },
  {
   "cell_type": "code",
   "execution_count": 2,
   "metadata": {
    "vscode": {
     "languageId": "r"
    }
   },
   "outputs": [
    {
     "name": "stderr",
     "output_type": "stream",
     "text": [
      "\u001b[1mRows: \u001b[22m\u001b[34m68932\u001b[39m \u001b[1mColumns: \u001b[22m\u001b[34m22\u001b[39m\n",
      "\u001b[36m──\u001b[39m \u001b[1mColumn specification\u001b[22m \u001b[36m────────────────────────────────────────────────────────\u001b[39m\n",
      "\u001b[1mDelimiter:\u001b[22m \",\"\n",
      "\u001b[32mdbl\u001b[39m (22): Diabetes_012, HighBP, HighChol, CholCheck, BMI, Smoker, Stroke, He...\n",
      "\n",
      "\u001b[36mℹ\u001b[39m Use `spec()` to retrieve the full column specification for this data.\n",
      "\u001b[36mℹ\u001b[39m Specify the column types or set `show_col_types = FALSE` to quiet this message.\n"
     ]
    }
   ],
   "source": [
    "test <- read_csv('../data/testset.csv')"
   ]
  },
  {
   "cell_type": "code",
   "execution_count": 3,
   "metadata": {
    "vscode": {
     "languageId": "r"
    }
   },
   "outputs": [
    {
     "name": "stderr",
     "output_type": "stream",
     "text": [
      "\u001b[1mRows: \u001b[22m\u001b[34m160839\u001b[39m \u001b[1mColumns: \u001b[22m\u001b[34m22\u001b[39m\n",
      "\u001b[36m──\u001b[39m \u001b[1mColumn specification\u001b[22m \u001b[36m────────────────────────────────────────────────────────\u001b[39m\n",
      "\u001b[1mDelimiter:\u001b[22m \",\"\n",
      "\u001b[32mdbl\u001b[39m (22): Diabetes_012, HighBP, HighChol, CholCheck, BMI, Smoker, Stroke, He...\n",
      "\n",
      "\u001b[36mℹ\u001b[39m Use `spec()` to retrieve the full column specification for this data.\n",
      "\u001b[36mℹ\u001b[39m Specify the column types or set `show_col_types = FALSE` to quiet this message.\n",
      "\u001b[1mRows: \u001b[22m\u001b[34m9747\u001b[39m \u001b[1mColumns: \u001b[22m\u001b[34m22\u001b[39m\n",
      "\u001b[36m──\u001b[39m \u001b[1mColumn specification\u001b[22m \u001b[36m────────────────────────────────────────────────────────\u001b[39m\n",
      "\u001b[1mDelimiter:\u001b[22m \",\"\n",
      "\u001b[32mdbl\u001b[39m (22): Diabetes_012, HighBP, HighChol, CholCheck, BMI, Smoker, Stroke, He...\n",
      "\n",
      "\u001b[36mℹ\u001b[39m Use `spec()` to retrieve the full column specification for this data.\n",
      "\u001b[36mℹ\u001b[39m Specify the column types or set `show_col_types = FALSE` to quiet this message.\n",
      "\u001b[1mRows: \u001b[22m\u001b[34m399207\u001b[39m \u001b[1mColumns: \u001b[22m\u001b[34m22\u001b[39m\n",
      "\u001b[36m──\u001b[39m \u001b[1mColumn specification\u001b[22m \u001b[36m────────────────────────────────────────────────────────\u001b[39m\n",
      "\u001b[1mDelimiter:\u001b[22m \",\"\n",
      "\u001b[32mdbl\u001b[39m (22): Diabetes_012, HighBP, HighChol, CholCheck, BMI, Smoker, Stroke, He...\n",
      "\n",
      "\u001b[36mℹ\u001b[39m Use `spec()` to retrieve the full column specification for this data.\n",
      "\u001b[36mℹ\u001b[39m Specify the column types or set `show_col_types = FALSE` to quiet this message.\n",
      "\u001b[1mRows: \u001b[22m\u001b[34m160839\u001b[39m \u001b[1mColumns: \u001b[22m\u001b[34m22\u001b[39m\n",
      "\u001b[36m──\u001b[39m \u001b[1mColumn specification\u001b[22m \u001b[36m────────────────────────────────────────────────────────\u001b[39m\n",
      "\u001b[1mDelimiter:\u001b[22m \",\"\n",
      "\u001b[32mdbl\u001b[39m (22): Diabetes_012, HighBP, HighChol, CholCheck, BMI, Smoker, Stroke, He...\n",
      "\n",
      "\u001b[36mℹ\u001b[39m Use `spec()` to retrieve the full column specification for this data.\n",
      "\u001b[36mℹ\u001b[39m Specify the column types or set `show_col_types = FALSE` to quiet this message.\n",
      "\u001b[1mRows: \u001b[22m\u001b[34m399207\u001b[39m \u001b[1mColumns: \u001b[22m\u001b[34m22\u001b[39m\n",
      "\u001b[36m──\u001b[39m \u001b[1mColumn specification\u001b[22m \u001b[36m────────────────────────────────────────────────────────\u001b[39m\n",
      "\u001b[1mDelimiter:\u001b[22m \",\"\n",
      "\u001b[32mdbl\u001b[39m (22): Diabetes_012, HighBP, HighChol, CholCheck, BMI, Smoker, Stroke, He...\n",
      "\n",
      "\u001b[36mℹ\u001b[39m Use `spec()` to retrieve the full column specification for this data.\n",
      "\u001b[36mℹ\u001b[39m Specify the column types or set `show_col_types = FALSE` to quiet this message.\n"
     ]
    }
   ],
   "source": [
    "train_base <- read_csv('../data/train_set/train_base.csv')\n",
    "train_under <- read_csv('../data/train_set/train_under.csv')\n",
    "train_over <- read_csv('../data/train_set/train_over.csv')\n",
    "train_combine <- read_csv('../data/train_set/train_combine.csv')\n",
    "train_smote <- read_csv('../data/train_set/train_smote.csv')"
   ]
  },
  {
   "cell_type": "code",
   "execution_count": 4,
   "metadata": {
    "vscode": {
     "languageId": "r"
    }
   },
   "outputs": [],
   "source": [
    "eval_multi_class <- function(x) {\n",
    "    cc <- sum(diag(x), na.rm = TRUE)\n",
    "    sc <- sum(x)\n",
    "    pp <- colSums(x)\n",
    "    tt <- rowSums(x)\n",
    "    \n",
    "    prec <- diag(x) / colSums(x)\n",
    "    recall <- diag(x) / rowSums(x)\n",
    "    macro_prec <- mean(prec, na.rm = TRUE)\n",
    "    macro_recall <- mean(recall, na.rm = TRUE)\n",
    "    macro_f1 <- 2 * macro_prec * macro_recall / (macro_prec + macro_recall)\n",
    "    acc <- cc / sc\n",
    "    \n",
    "    denominator <- (sc^2 - sum(pp * tt))\n",
    "    if (denominator != 0) {\n",
    "        kap <- (as.numeric(cc) * as.numeric(sc) - sum(pp * tt)) / denominator\n",
    "    } else {\n",
    "        kap <- NA\n",
    "    }\n",
    "    \n",
    "    return(list(Precision = prec, Recall = recall, Accuracy = acc, Kappa = kap, Macro_F1 = macro_f1))\n",
    "}"
   ]
  },
  {
   "cell_type": "markdown",
   "metadata": {},
   "source": [
    "#### Model với tất cả các biến"
   ]
  },
  {
   "cell_type": "code",
   "execution_count": 5,
   "metadata": {
    "vscode": {
     "languageId": "r"
    }
   },
   "outputs": [
    {
     "name": "stdout",
     "output_type": "stream",
     "text": [
      "# weights:  69 (44 variable)\n",
      "initial  value 10708.173978 \n",
      "iter  10 value 10154.355681\n",
      "iter  20 value 9779.331240\n",
      "iter  30 value 9657.395774\n",
      "iter  40 value 9454.511090\n",
      "iter  50 value 9436.455843\n",
      "final  value 9436.454498 \n",
      "converged\n",
      "# weights:  69 (44 variable)\n",
      "initial  value 438573.715922 \n",
      "iter  10 value 411061.861409\n",
      "iter  20 value 393410.541209\n",
      "iter  30 value 390505.034371\n",
      "iter  40 value 388505.798220\n",
      "iter  50 value 385731.166784\n",
      "iter  50 value 385731.166321\n",
      "iter  50 value 385731.166321\n",
      "final  value 385731.166321 \n",
      "converged\n",
      "# weights:  69 (44 variable)\n",
      "initial  value 176699.701898 \n",
      "iter  10 value 168222.388751\n",
      "iter  20 value 161139.910579\n",
      "iter  30 value 159659.888149\n",
      "iter  40 value 157322.391070\n",
      "iter  50 value 155416.733671\n",
      "final  value 155416.724099 \n",
      "converged\n",
      "# weights:  69 (44 variable)\n",
      "initial  value 438573.715922 \n",
      "iter  10 value 412541.925582\n",
      "iter  20 value 394008.718275\n",
      "iter  30 value 390596.390377\n",
      "iter  40 value 389276.208044\n",
      "iter  50 value 381490.278223\n",
      "final  value 381490.115282 \n",
      "converged\n"
     ]
    }
   ],
   "source": [
    "first_models <- list()\n",
    "\n",
    "for (i in 1:4) {\n",
    "    if (i == 1) {\n",
    "        df <- train_under\n",
    "    } else if (i == 2) {\n",
    "        df <- train_over\n",
    "    } else if (i == 3) {\n",
    "        df <- train_combine\n",
    "    } else {\n",
    "        df <- train_smote\n",
    "    }\n",
    "    \n",
    "    model <- multinom(Diabetes_012 ~ ., data = df, maxit = 1000)\n",
    "    pred_class <- predict(model, test, type = 'class')\n",
    "    \n",
    "    cm <- table(test$Diabetes_012, pred_class)\n",
    "    eval <- eval_multi_class(cm)\n",
    "    \n",
    "    first_models[[i]] <- list(Model = model, Prediction_Class = pred_class, Confusion_Matrix = cm, Evaluation = eval)\n",
    "}\n"
   ]
  },
  {
   "cell_type": "code",
   "execution_count": 6,
   "metadata": {
    "vscode": {
     "languageId": "r"
    }
   },
   "outputs": [
    {
     "name": "stdout",
     "output_type": "stream",
     "text": [
      "[1] \"Under Sampling\"\n",
      "[1] 18872.91\n",
      "[1] 18960.91\n",
      "[1] \"Over Sampling\"\n",
      "[1] 771462.3\n",
      "[1] 771550.3\n",
      "[1] \"Combine Sampling\"\n",
      "[1] 310833.4\n",
      "[1] 310921.4\n",
      "[1] \"SMOTE\"\n",
      "[1] 762980.2\n",
      "[1] 763068.2\n"
     ]
    }
   ],
   "source": [
    "# lấy ra Residual Deviance và AIC của mỗi model\n",
    "for (i in 1:4) {\n",
    "    if (i == 1) {\n",
    "        print('Under Sampling')\n",
    "    } else if (i == 2) {\n",
    "        print('Over Sampling')\n",
    "    } else if (i == 3) {\n",
    "        print('Combine Sampling')\n",
    "    } else {\n",
    "        print('SMOTE')\n",
    "    }\n",
    "    print(first_models[[i]]$Model$deviance)\n",
    "    print(first_models[[i]]$Model$AIC)\n",
    "}"
   ]
  },
  {
   "cell_type": "markdown",
   "metadata": {},
   "source": [
    "Các thông số đánh giá cho mỗi model với tập train khác nhau cho kết quả khác nhau do số lượng quan trắc trong mỗi tập dữ liệu train. Do đó chưa thể đánh giá được model với tập dữ liệu nào tốt hơn, nhưng nhìn chung các chỉ số này lớn và gợi ý là có nhiều vấn đề với model trên tập dữ liệu. "
   ]
  },
  {
   "cell_type": "code",
   "execution_count": 7,
   "metadata": {
    "vscode": {
     "languageId": "r"
    }
   },
   "outputs": [
    {
     "data": {
      "text/html": [],
      "text/latex": [],
      "text/markdown": [],
      "text/plain": [
       "integer(0)"
      ]
     },
     "metadata": {},
     "output_type": "display_data"
    }
   ],
   "source": [
    "# tìm outlier dựa trên residuals của model_combine\n",
    "model_combine <- first_models[[3]]$Model\n",
    "residuals <- residuals(model_combine, type = 'deviance')\n",
    "outliers <- which(abs(residuals) > 3)\n",
    "outliers "
   ]
  },
  {
   "cell_type": "code",
   "execution_count": 8,
   "metadata": {
    "vscode": {
     "languageId": "r"
    }
   },
   "outputs": [
    {
     "name": "stdout",
     "output_type": "stream",
     "text": [
      "Undersampling\n",
      "$Precision\n",
      "         0          1          2 \n",
      "0.93892735 0.03114791 0.35924037 \n",
      "\n",
      "$Recall\n",
      "        0         1         2 \n",
      "0.6378602 0.2971014 0.5796293 \n",
      "\n",
      "$Accuracy\n",
      "[1] 0.6221058\n",
      "\n",
      "$Kappa\n",
      "[1] 0.2351128\n",
      "\n",
      "$Macro_F1\n",
      "[1] 0.4719727\n",
      "\n",
      "\n",
      "Oversampling\n",
      "$Precision\n",
      "         0          1          2 \n",
      "0.93965808 0.03104196 0.35825106 \n",
      "\n",
      "$Recall\n",
      "        0         1         2 \n",
      "0.6357015 0.3007246 0.5765084 \n",
      "\n",
      "$Accuracy\n",
      "[1] 0.6199153\n",
      "\n",
      "$Kappa\n",
      "[1] 0.2337357\n",
      "\n",
      "$Macro_F1\n",
      "[1] 0.4716624\n",
      "\n",
      "\n",
      "Combine\n",
      "$Precision\n",
      "         0          1          2 \n",
      "0.93925270 0.03086655 0.35731736 \n",
      "\n",
      "$Recall\n",
      "        0         1         2 \n",
      "0.6366141 0.2934783 0.5809533 \n",
      "\n",
      "$Accuracy\n",
      "[1] 0.6212064\n",
      "\n",
      "$Kappa\n",
      "[1] 0.234513\n",
      "\n",
      "$Macro_F1\n",
      "[1] 0.4711009\n",
      "\n",
      "\n",
      "SMOTE\n",
      "$Precision\n",
      "        0         1         2 \n",
      "0.9389454 0.0295263 0.3617189 \n",
      "\n",
      "$Recall\n",
      "        0         1         2 \n",
      "0.6313138 0.3021739 0.5644033 \n",
      "\n",
      "$Accuracy\n",
      "[1] 0.6144606\n",
      "\n",
      "$Kappa\n",
      "[1] 0.2286073\n",
      "\n",
      "$Macro_F1\n",
      "[1] 0.4696896\n",
      "\n",
      "\n"
     ]
    }
   ],
   "source": [
    "# lấy ra các evalution của từng model\n",
    "evaluations <- lapply(first_models, function(x) x$Evaluation)\n",
    "\n",
    "for (i in 1:4) {\n",
    "    if (i == 1) {\n",
    "        cat('Undersampling\\n')\n",
    "    } else if (i == 2) {\n",
    "        cat('Oversampling\\n')\n",
    "    } else if (i == 3) {\n",
    "        cat('Combine\\n')\n",
    "    } else {\n",
    "        cat('SMOTE\\n')\n",
    "    }\n",
    "    \n",
    "    print(evaluations[[i]])\n",
    "    cat('\\n')\n",
    "}"
   ]
  },
  {
   "cell_type": "code",
   "execution_count": 9,
   "metadata": {
    "vscode": {
     "languageId": "r"
    }
   },
   "outputs": [
    {
     "data": {
      "image/png": "[encoded data removed]",
      "text/plain": [
       "plot without title"
      ]
     },
     "metadata": {
      "image/png": {
       "height": 420,
       "width": 420
      }
     },
     "output_type": "display_data"
    },
    {
     "data": {
      "image/png": "[encoded data removed]",
      "text/plain": [
       "plot without title"
      ]
     },
     "metadata": {
      "image/png": {
       "height": 420,
       "width": 420
      }
     },
     "output_type": "display_data"
    },
    {
     "data": {
      "image/png": "[encoded data removed]",
      "text/plain": [
       "plot without title"
      ]
     },
     "metadata": {
      "image/png": {
       "height": 420,
       "width": 420
      }
     },
     "output_type": "display_data"
    },
    {
     "data": {
      "image/png": "[encoded data removed]",
      "text/plain": [
       "plot without title"
      ]
     },
     "metadata": {
      "image/png": {
       "height": 420,
       "width": 420
      }
     },
     "output_type": "display_data"
    }
   ],
   "source": [
    "# vẽ trực quan confusion matrix của từng model\n",
    "sampling_methods <- c(\"Undersampling\", \"Oversampling\", \"Combine\", \"SMOTE\")\n",
    "\n",
    "for (i in 1:4) {    \n",
    "    cm <- first_models[[i]]$Confusion_Matrix\n",
    "    cm_melt <- melt(cm)\n",
    "    colnames(cm_melt) <- c(\"Var1\", \"Var2\", \"value\")\n",
    "    p <- ggplot(data = cm_melt, aes(x = Var2, y = Var1, fill = value)) +\n",
    "        geom_tile() +\n",
    "        geom_text(aes(label = value), color = \"black\") +\n",
    "        scale_fill_gradient(low = \"white\", high = \"blue\") +\n",
    "        labs(x = \"Predicted\", y = \"Actual\", fill = \"Count\") +\n",
    "        ggtitle(paste(\"Confusion Matrix -\", sampling_methods[i])) +\n",
    "        theme_minimal()\n",
    "\n",
    "    print(p)\n",
    "}"
   ]
  },
  {
   "cell_type": "markdown",
   "metadata": {},
   "source": [
    "Nhận thấy model chạy với train_combine có vẻ cho kết quả tốt nhất trong phân loại nhóm 1 và 2.\n",
    "\n",
    "Tiếp theo, ta sử dụng công cụ tự động lựa chọn biến để xem model tốt nhất giữ lại những biến nào. "
   ]
  },
  {
   "cell_type": "markdown",
   "metadata": {},
   "source": [
    "### Stepwise"
   ]
  },
  {
   "cell_type": "code",
   "execution_count": 10,
   "metadata": {
    "vscode": {
     "languageId": "r"
    }
   },
   "outputs": [
    {
     "name": "stdout",
     "output_type": "stream",
     "text": [
      "# weights:  69 (44 variable)\n",
      "initial  value 176699.701898 \n",
      "iter  10 value 168222.388751\n",
      "iter  20 value 161139.910579\n",
      "iter  30 value 159659.888149\n",
      "iter  40 value 157322.391070\n",
      "iter  50 value 155416.733671\n",
      "final  value 155416.724099 \n",
      "converged\n",
      "Start:  AIC=310921.5\n",
      "Diabetes_012 ~ HighBP + HighChol + CholCheck + BMI + Smoker + \n",
      "    Stroke + HeartDiseaseorAttack + PhysActivity + Fruits + Veggies + \n",
      "    HvyAlcoholConsump + AnyHealthcare + NoDocbcCost + GenHlth + \n",
      "    MentHlth + PhysHlth + DiffWalk + Sex + Age + Education + \n",
      "    Income\n",
      "\n",
      "# weights:  66 (42 variable)\n",
      "initial  value 176699.701898 \n",
      "iter  10 value 168903.806309\n",
      "iter  20 value 162010.561449\n",
      "iter  30 value 160542.097576\n",
      "iter  40 value 157415.445477\n",
      "final  value 156564.393883 \n",
      "converged\n",
      "# weights:  66 (42 variable)\n",
      "initial  value 176699.701898 \n",
      "iter  10 value 168672.801303\n",
      "iter  20 value 161856.866041\n",
      "iter  30 value 160527.886701\n",
      "iter  40 value 157210.533127\n",
      "final  value 156622.416358 \n",
      "converged\n",
      "# weights:  66 (42 variable)\n",
      "initial  value 176699.701898 \n",
      "iter  10 value 168274.343666\n",
      "iter  20 value 161392.467190\n",
      "iter  30 value 160482.391298\n",
      "iter  40 value 156612.008113\n",
      "final  value 155790.458844 \n",
      "converged\n",
      "# weights:  66 (42 variable)\n",
      "initial  value 176699.701898 \n",
      "iter  10 value 169286.956492\n",
      "iter  20 value 165781.647813\n",
      "iter  30 value 165202.515114\n",
      "iter  40 value 159465.226494\n",
      "iter  50 value 157805.601509\n",
      "iter  50 value 157805.601381\n",
      "iter  50 value 157805.601381\n",
      "final  value 157805.601381 \n",
      "converged\n",
      "# weights:  66 (42 variable)\n",
      "initial  value 176699.701898 \n",
      "iter  10 value 168245.223198\n",
      "iter  20 value 161215.198225\n",
      "iter  30 value 159693.814249\n",
      "iter  40 value 156614.418009\n",
      "final  value 155429.688343 \n",
      "converged\n",
      "# weights:  66 (42 variable)\n",
      "initial  value 176699.701898 \n",
      "iter  10 value 168248.840335\n",
      "iter  20 value 161177.001401\n",
      "iter  30 value 159707.122263\n",
      "iter  40 value 157365.037698\n",
      "final  value 155467.189607 \n",
      "converged\n",
      "# weights:  66 (42 variable)\n",
      "initial  value 176699.701898 \n",
      "iter  10 value 168355.330131\n",
      "iter  20 value 161384.615201\n",
      "iter  30 value 159921.808095\n",
      "iter  40 value 157260.456532\n",
      "final  value 155496.997662 \n",
      "converged\n",
      "# weights:  66 (42 variable)\n",
      "initial  value 176699.701898 \n",
      "iter  10 value 168357.919892\n",
      "iter  20 value 161659.888956\n",
      "iter  30 value 160156.334629\n",
      "iter  40 value 156388.073168\n",
      "final  value 155418.500532 \n",
      "converged\n",
      "# weights:  66 (42 variable)\n",
      "initial  value 176699.701898 \n",
      "iter  10 value 168258.098879\n",
      "iter  20 value 161359.656041\n",
      "iter  30 value 160046.516591\n",
      "iter  40 value 155798.555969\n",
      "final  value 155420.949742 \n",
      "converged\n",
      "# weights:  66 (42 variable)\n",
      "initial  value 176699.701898 \n",
      "iter  10 value 168287.087747\n",
      "iter  20 value 161217.179580\n",
      "iter  30 value 159735.478120\n",
      "iter  40 value 156469.289915\n",
      "final  value 155416.746020 \n",
      "converged\n",
      "# weights:  66 (42 variable)\n",
      "initial  value 176699.701898 \n",
      "iter  10 value 168246.099764\n",
      "iter  20 value 161295.596014\n",
      "iter  30 value 159841.814675\n",
      "iter  40 value 156616.829109\n",
      "final  value 155651.687560 \n",
      "converged\n",
      "# weights:  66 (42 variable)\n",
      "initial  value 176699.701898 \n",
      "iter  10 value 168283.289990\n",
      "iter  20 value 160950.981059\n",
      "iter  30 value 159729.923682\n",
      "iter  40 value 156455.125578\n",
      "final  value 155441.529892 \n",
      "converged\n",
      "# weights:  66 (42 variable)\n",
      "initial  value 176699.701898 \n",
      "iter  10 value 168292.240290\n",
      "iter  20 value 161267.327523\n",
      "iter  30 value 159912.046272\n",
      "iter  40 value 157535.326514\n",
      "final  value 155586.075293 \n",
      "converged\n",
      "# weights:  66 (42 variable)\n",
      "initial  value 176699.701898 \n",
      "iter  10 value 169037.319425\n",
      "iter  20 value 162018.025047\n",
      "iter  30 value 161376.482736\n",
      "iter  40 value 158233.338961\n",
      "final  value 157658.975766 \n",
      "converged\n",
      "# weights:  66 (42 variable)\n",
      "initial  value 176699.701898 \n",
      "iter  10 value 167092.049478\n",
      "iter  20 value 162641.588225\n",
      "iter  30 value 162091.159454\n",
      "iter  40 value 156840.555882\n",
      "final  value 155505.289224 \n",
      "converged\n",
      "# weights:  66 (42 variable)\n",
      "initial  value 176699.701898 \n",
      "iter  10 value 165120.932387\n",
      "iter  20 value 159805.154799\n",
      "iter  30 value 159271.982266\n",
      "iter  40 value 156951.567886\n",
      "final  value 155448.420271 \n",
      "converged\n",
      "# weights:  66 (42 variable)\n",
      "initial  value 176699.701898 \n",
      "iter  10 value 168320.739847\n",
      "iter  20 value 161265.126476\n",
      "iter  30 value 159814.213785\n",
      "iter  40 value 156121.402103\n",
      "final  value 155460.275903 \n",
      "converged\n",
      "# weights:  66 (42 variable)\n",
      "initial  value 176699.701898 \n",
      "iter  10 value 168295.329832\n",
      "iter  20 value 161520.260077\n",
      "iter  30 value 160112.914785\n",
      "iter  40 value 156098.816981\n",
      "final  value 155638.514157 \n",
      "converged\n",
      "# weights:  66 (42 variable)\n",
      "initial  value 176699.701898 \n",
      "iter  10 value 169053.169204\n",
      "iter  20 value 164584.902749\n",
      "iter  30 value 164066.042439\n",
      "iter  40 value 159006.705114\n",
      "final  value 157304.851885 \n",
      "converged\n",
      "# weights:  66 (42 variable)\n",
      "initial  value 176699.701898 \n",
      "iter  10 value 168608.818468\n",
      "iter  20 value 160046.517208\n",
      "iter  30 value 159250.343835\n",
      "iter  40 value 156030.613420\n",
      "final  value 155430.963475 \n",
      "converged\n",
      "# weights:  66 (42 variable)\n",
      "initial  value 176699.701898 \n",
      "iter  10 value 168459.517956\n",
      "iter  20 value 161329.988489\n",
      "iter  30 value 160555.229208\n",
      "iter  40 value 156140.816639\n",
      "final  value 155625.913068 \n",
      "converged\n",
      "                       Df    AIC\n",
      "- Veggies               2 310917\n",
      "- PhysActivity          2 310921\n",
      "<none>                    310921\n",
      "- Fruits                2 310926\n",
      "- Smoker                2 310943\n",
      "- Education             2 310946\n",
      "- AnyHealthcare         2 310967\n",
      "- PhysHlth              2 310981\n",
      "- DiffWalk              2 311005\n",
      "- Stroke                2 311018\n",
      "- HeartDiseaseorAttack  2 311078\n",
      "- MentHlth              2 311095\n",
      "- NoDocbcCost           2 311256\n",
      "- Income                2 311336\n",
      "- Sex                   2 311361\n",
      "- HvyAlcoholConsump     2 311387\n",
      "- CholCheck             2 311665\n",
      "- HighBP                2 313213\n",
      "- HighChol              2 313329\n",
      "- Age                   2 314694\n",
      "- GenHlth               2 315402\n",
      "- BMI                   2 315695\n",
      "# weights:  66 (42 variable)\n",
      "initial  value 176699.701898 \n",
      "iter  10 value 168287.087747\n",
      "iter  20 value 161217.179580\n",
      "iter  30 value 159735.478120\n",
      "iter  40 value 156469.289915\n",
      "final  value 155416.746020 \n",
      "converged\n",
      "\n",
      "Step:  AIC=310917.5\n",
      "Diabetes_012 ~ HighBP + HighChol + CholCheck + BMI + Smoker + \n",
      "    Stroke + HeartDiseaseorAttack + PhysActivity + Fruits + HvyAlcoholConsump + \n",
      "    AnyHealthcare + NoDocbcCost + GenHlth + MentHlth + PhysHlth + \n",
      "    DiffWalk + Sex + Age + Education + Income\n",
      "\n",
      "# weights:  63 (40 variable)\n",
      "initial  value 176699.701898 \n",
      "iter  10 value 168967.631825\n",
      "iter  20 value 162736.678065\n",
      "iter  30 value 161193.262947\n",
      "iter  40 value 158367.127439\n",
      "final  value 156564.531607 \n",
      "converged\n",
      "# weights:  63 (40 variable)\n",
      "initial  value 176699.701898 \n",
      "iter  10 value 168735.871172\n",
      "iter  20 value 162406.050216\n",
      "iter  30 value 161157.202700\n",
      "iter  40 value 157287.784723\n",
      "final  value 156622.634937 \n",
      "converged\n",
      "# weights:  63 (40 variable)\n",
      "initial  value 176699.701898 \n",
      "iter  10 value 168340.457626\n",
      "iter  20 value 162322.196495\n",
      "iter  30 value 161328.352266\n",
      "iter  40 value 156671.427200\n",
      "final  value 155790.604957 \n",
      "converged\n",
      "# weights:  63 (40 variable)\n",
      "initial  value 176699.701898 \n",
      "iter  10 value 169333.988835\n",
      "iter  20 value 165766.559530\n",
      "iter  30 value 165225.820974\n",
      "iter  40 value 158918.489979\n",
      "final  value 157805.604005 \n",
      "converged\n",
      "# weights:  63 (40 variable)\n",
      "initial  value 176699.701898 \n",
      "iter  10 value 168309.758871\n",
      "iter  20 value 161365.146882\n",
      "iter  30 value 160244.077003\n",
      "iter  40 value 155628.051788\n",
      "final  value 155429.708250 \n",
      "converged\n",
      "# weights:  63 (40 variable)\n",
      "initial  value 176699.701898 \n",
      "iter  10 value 168313.583301\n",
      "iter  20 value 161266.253167\n",
      "iter  30 value 159796.497663\n",
      "iter  40 value 156522.731296\n",
      "final  value 155467.270601 \n",
      "converged\n",
      "# weights:  63 (40 variable)\n",
      "initial  value 176699.701898 \n",
      "iter  10 value 168419.492140\n",
      "iter  20 value 161685.000431\n",
      "iter  30 value 160189.583895\n",
      "iter  40 value 156417.429731\n",
      "final  value 155496.997791 \n",
      "converged\n",
      "# weights:  63 (40 variable)\n",
      "initial  value 176699.701898 \n",
      "iter  10 value 168429.593826\n",
      "iter  20 value 161283.193814\n",
      "iter  30 value 159857.818953\n",
      "iter  40 value 157142.814940\n",
      "final  value 155418.560883 \n",
      "converged\n",
      "# weights:  63 (40 variable)\n",
      "initial  value 176699.701898 \n",
      "iter  10 value 168329.949504\n",
      "iter  20 value 161544.272057\n",
      "iter  30 value 160167.039141\n",
      "iter  40 value 158296.457314\n",
      "final  value 155421.262158 \n",
      "converged\n",
      "# weights:  63 (40 variable)\n",
      "initial  value 176699.701898 \n",
      "iter  10 value 168310.976075\n",
      "iter  20 value 161367.914594\n",
      "iter  30 value 159914.275614\n",
      "iter  40 value 156928.099942\n",
      "final  value 155651.964577 \n",
      "converged\n",
      "# weights:  63 (40 variable)\n",
      "initial  value 176699.701898 \n",
      "iter  10 value 168348.531963\n",
      "iter  20 value 161284.865923\n",
      "iter  30 value 160014.523311\n",
      "iter  40 value 156077.293551\n",
      "final  value 155441.556944 \n",
      "converged\n",
      "# weights:  63 (40 variable)\n",
      "initial  value 176699.701898 \n",
      "iter  10 value 168357.242993\n",
      "iter  20 value 161325.076153\n",
      "iter  30 value 159987.018090\n",
      "iter  40 value 157288.853473\n",
      "final  value 155586.122225 \n",
      "converged\n",
      "# weights:  63 (40 variable)\n",
      "initial  value 176699.701898 \n",
      "iter  10 value 169088.464992\n",
      "iter  20 value 162374.601530\n",
      "iter  30 value 161684.378071\n",
      "iter  40 value 158267.988588\n",
      "final  value 157659.545657 \n",
      "converged\n",
      "# weights:  63 (40 variable)\n",
      "initial  value 176699.701898 \n",
      "iter  10 value 167415.367744\n",
      "iter  20 value 162826.000642\n",
      "iter  30 value 162328.179849\n",
      "iter  40 value 156461.815984\n",
      "final  value 155505.292874 \n",
      "converged\n",
      "# weights:  63 (40 variable)\n",
      "initial  value 176699.701898 \n",
      "iter  10 value 165201.826359\n",
      "iter  20 value 159840.330545\n",
      "iter  30 value 159354.419445\n",
      "iter  40 value 156506.359526\n",
      "final  value 155448.446637 \n",
      "converged\n",
      "# weights:  63 (40 variable)\n",
      "initial  value 176699.701898 \n",
      "iter  10 value 168385.694054\n",
      "iter  20 value 161392.586228\n",
      "iter  30 value 159963.602428\n",
      "iter  40 value 156330.074125\n",
      "final  value 155460.295835 \n",
      "converged\n",
      "# weights:  63 (40 variable)\n",
      "initial  value 176699.701898 \n",
      "iter  10 value 168361.035804\n",
      "iter  20 value 161569.490716\n",
      "iter  30 value 160400.229042\n",
      "iter  40 value 156734.934353\n",
      "final  value 155639.388852 \n",
      "converged\n",
      "# weights:  63 (40 variable)\n",
      "initial  value 176699.701898 \n",
      "iter  10 value 167021.051915\n",
      "iter  20 value 162804.267199\n",
      "iter  30 value 162420.322522\n",
      "iter  40 value 158086.371458\n",
      "final  value 157304.921352 \n",
      "converged\n",
      "# weights:  63 (40 variable)\n",
      "initial  value 176699.701898 \n",
      "iter  10 value 168689.370882\n",
      "iter  20 value 160182.159153\n",
      "iter  30 value 159489.229389\n",
      "iter  40 value 157014.868150\n",
      "final  value 155431.005868 \n",
      "converged\n",
      "# weights:  63 (40 variable)\n",
      "initial  value 176699.701898 \n",
      "iter  10 value 168448.886317\n",
      "iter  20 value 160993.591621\n",
      "iter  30 value 160348.039866\n",
      "iter  40 value 157887.457336\n",
      "final  value 155626.718672 \n",
      "converged\n",
      "# weights:  69 (44 variable)\n",
      "initial  value 176699.701898 \n",
      "iter  10 value 168222.388751\n",
      "iter  20 value 161139.910579\n",
      "iter  30 value 159659.888149\n",
      "iter  40 value 157322.391070\n",
      "iter  50 value 155416.733671\n",
      "final  value 155416.724099 \n",
      "converged\n",
      "                       Df    AIC\n",
      "- PhysActivity          2 310917\n",
      "<none>                    310917\n",
      "+ Veggies               2 310921\n",
      "- Fruits                2 310923\n",
      "- Smoker                2 310939\n",
      "- Education             2 310942\n",
      "- AnyHealthcare         2 310963\n",
      "- PhysHlth              2 310977\n",
      "- DiffWalk              2 311001\n",
      "- Stroke                2 311015\n",
      "- HeartDiseaseorAttack  2 311074\n",
      "- MentHlth              2 311091\n",
      "- NoDocbcCost           2 311252\n",
      "- Income                2 311333\n",
      "- Sex                   2 311359\n",
      "- HvyAlcoholConsump     2 311384\n",
      "- CholCheck             2 311661\n",
      "- HighBP                2 313209\n",
      "- HighChol              2 313325\n",
      "- Age                   2 314690\n",
      "- GenHlth               2 315399\n",
      "- BMI                   2 315691\n",
      "# weights:  63 (40 variable)\n",
      "initial  value 176699.701898 \n",
      "iter  10 value 168429.593826\n",
      "iter  20 value 161283.193814\n",
      "iter  30 value 159857.818953\n",
      "iter  40 value 157142.814940\n",
      "final  value 155418.560883 \n",
      "converged\n",
      "\n",
      "Step:  AIC=310917.1\n",
      "Diabetes_012 ~ HighBP + HighChol + CholCheck + BMI + Smoker + \n",
      "    Stroke + HeartDiseaseorAttack + Fruits + HvyAlcoholConsump + \n",
      "    AnyHealthcare + NoDocbcCost + GenHlth + MentHlth + PhysHlth + \n",
      "    DiffWalk + Sex + Age + Education + Income\n",
      "\n",
      "# weights:  60 (38 variable)\n",
      "initial  value 176699.701898 \n",
      "iter  10 value 169107.021122\n",
      "iter  20 value 162848.365114\n",
      "iter  30 value 161361.121295\n",
      "iter  40 value 156945.562712\n",
      "final  value 156566.609089 \n",
      "converged\n",
      "# weights:  60 (38 variable)\n",
      "initial  value 176699.701898 \n",
      "iter  10 value 168873.564806\n",
      "iter  20 value 161986.646621\n",
      "iter  30 value 160838.755354\n",
      "iter  40 value 157900.350164\n",
      "final  value 156624.412217 \n",
      "converged\n",
      "# weights:  60 (38 variable)\n",
      "initial  value 176699.701898 \n",
      "iter  10 value 168486.405730\n",
      "iter  20 value 161824.736621\n",
      "iter  30 value 160873.741805\n",
      "iter  40 value 157058.022594\n",
      "final  value 155791.773033 \n",
      "converged\n",
      "# weights:  60 (38 variable)\n",
      "initial  value 176699.701898 \n",
      "iter  10 value 169492.218546\n",
      "iter  20 value 165032.884352\n",
      "iter  30 value 164377.419710\n",
      "iter  40 value 159085.945418\n",
      "final  value 157836.281564 \n",
      "converged\n",
      "# weights:  60 (38 variable)\n",
      "initial  value 176699.701898 \n",
      "iter  10 value 168451.685087\n",
      "iter  20 value 161243.913240\n",
      "iter  30 value 160136.816244\n",
      "iter  40 value 155950.532777\n",
      "final  value 155431.515611 \n",
      "converged\n",
      "# weights:  60 (38 variable)\n",
      "initial  value 176699.701898 \n",
      "iter  10 value 168455.847017\n",
      "iter  20 value 161333.893402\n",
      "iter  30 value 159918.520359\n",
      "iter  40 value 156470.678530\n",
      "final  value 155469.056958 \n",
      "converged\n",
      "# weights:  60 (38 variable)\n",
      "initial  value 176699.701898 \n",
      "iter  10 value 168561.477174\n",
      "iter  20 value 161541.852364\n",
      "iter  30 value 160130.987058\n",
      "iter  40 value 156517.271075\n",
      "final  value 155498.639629 \n",
      "converged\n",
      "# weights:  60 (38 variable)\n",
      "initial  value 176699.701898 \n",
      "iter  10 value 168479.532352\n",
      "iter  20 value 161529.028066\n",
      "iter  30 value 160130.666733\n",
      "iter  40 value 157101.069782\n",
      "final  value 155423.111577 \n",
      "converged\n",
      "# weights:  60 (38 variable)\n",
      "initial  value 176699.701898 \n",
      "iter  10 value 168453.300782\n",
      "iter  20 value 161422.538651\n",
      "iter  30 value 160029.842353\n",
      "iter  40 value 156260.395970\n",
      "final  value 155653.311034 \n",
      "converged\n",
      "# weights:  60 (38 variable)\n",
      "initial  value 176699.701898 \n",
      "iter  10 value 168492.860343\n",
      "iter  20 value 161441.824292\n",
      "iter  30 value 160110.194310\n",
      "iter  40 value 156638.565595\n",
      "final  value 155443.145724 \n",
      "converged\n",
      "# weights:  60 (38 variable)\n",
      "initial  value 176699.701898 \n",
      "iter  10 value 168500.361098\n",
      "iter  20 value 161371.796659\n",
      "iter  30 value 160062.338489\n",
      "iter  40 value 156582.173403\n",
      "final  value 155588.021703 \n",
      "converged\n",
      "# weights:  60 (38 variable)\n",
      "initial  value 176699.701898 \n",
      "iter  10 value 169213.233461\n",
      "iter  20 value 161904.296448\n",
      "iter  30 value 161381.549613\n",
      "iter  40 value 158412.033423\n",
      "final  value 157677.754031 \n",
      "converged\n",
      "# weights:  60 (38 variable)\n",
      "initial  value 176699.701898 \n",
      "iter  10 value 166791.923473\n",
      "iter  20 value 162320.276189\n",
      "iter  30 value 161781.820086\n",
      "iter  40 value 157124.403497\n",
      "final  value 155506.933842 \n",
      "converged\n",
      "# weights:  60 (38 variable)\n",
      "initial  value 176699.701898 \n",
      "iter  10 value 165415.271946\n",
      "iter  20 value 160053.396501\n",
      "iter  30 value 159427.009091\n",
      "iter  40 value 156449.923147\n",
      "final  value 155449.415303 \n",
      "converged\n",
      "# weights:  60 (38 variable)\n",
      "initial  value 176699.701898 \n",
      "iter  10 value 168533.932856\n",
      "iter  20 value 161706.722876\n",
      "iter  30 value 160307.622207\n",
      "iter  40 value 156771.178970\n",
      "final  value 155463.776754 \n",
      "converged\n",
      "# weights:  60 (38 variable)\n",
      "initial  value 176699.701898 \n",
      "iter  10 value 168499.814935\n",
      "iter  20 value 161176.479222\n",
      "iter  30 value 160116.423550\n",
      "iter  40 value 156591.898324\n",
      "final  value 155640.038484 \n",
      "converged\n",
      "# weights:  60 (38 variable)\n",
      "initial  value 176699.701898 \n",
      "iter  10 value 167204.937558\n",
      "iter  20 value 162856.637632\n",
      "iter  30 value 162482.747047\n",
      "iter  40 value 158637.034076\n",
      "final  value 157316.101160 \n",
      "converged\n",
      "# weights:  60 (38 variable)\n",
      "initial  value 176699.701898 \n",
      "iter  10 value 168859.215009\n",
      "iter  20 value 160078.331956\n",
      "iter  30 value 159368.168041\n",
      "iter  40 value 155883.153237\n",
      "final  value 155432.997923 \n",
      "converged\n",
      "# weights:  60 (38 variable)\n",
      "initial  value 176699.701898 \n",
      "iter  10 value 168516.658451\n",
      "iter  20 value 160945.110363\n",
      "iter  30 value 160127.598548\n",
      "iter  40 value 156573.612225\n",
      "final  value 155628.953568 \n",
      "converged\n",
      "# weights:  66 (42 variable)\n",
      "initial  value 176699.701898 \n",
      "iter  10 value 168287.087747\n",
      "iter  20 value 161217.179580\n",
      "iter  30 value 159735.478120\n",
      "iter  40 value 156469.289909\n",
      "final  value 155416.746020 \n",
      "converged\n",
      "# weights:  66 (42 variable)\n",
      "initial  value 176699.701898 \n",
      "iter  10 value 168357.919892\n",
      "iter  20 value 161659.888957\n",
      "iter  30 value 160156.334629\n",
      "iter  40 value 156388.073170\n",
      "final  value 155418.500532 \n",
      "converged\n",
      "                       Df    AIC\n",
      "<none>                    310917\n",
      "+ PhysActivity          2 310917\n",
      "+ Veggies               2 310921\n",
      "- Fruits                2 310922\n",
      "- Smoker                2 310939\n",
      "- Education             2 310942\n",
      "- AnyHealthcare         2 310962\n",
      "- PhysHlth              2 310975\n",
      "- DiffWalk              2 311004\n",
      "- Stroke                2 311014\n",
      "- HeartDiseaseorAttack  2 311073\n",
      "- MentHlth              2 311090\n",
      "- NoDocbcCost           2 311252\n",
      "- Income                2 311334\n",
      "- Sex                   2 311356\n",
      "- HvyAlcoholConsump     2 311383\n",
      "- CholCheck             2 311660\n",
      "- HighBP                2 313209\n",
      "- HighChol              2 313325\n",
      "- Age                   2 314708\n",
      "- GenHlth               2 315432\n",
      "- BMI                   2 315749\n"
     ]
    }
   ],
   "source": [
    "full_model <- multinom(Diabetes_012 ~ ., data = train_combine, maxit = 1500)\n",
    "\n",
    "stepwise_model <- stepAIC(full_model, direction = \"both\", trace = TRUE)"
   ]
  },
  {
   "cell_type": "code",
   "execution_count": 11,
   "metadata": {
    "vscode": {
     "languageId": "r"
    }
   },
   "outputs": [
    {
     "data": {
      "text/plain": [
       "Call:\n",
       "multinom(formula = Diabetes_012 ~ HighBP + HighChol + CholCheck + \n",
       "    BMI + Smoker + Stroke + HeartDiseaseorAttack + Fruits + HvyAlcoholConsump + \n",
       "    AnyHealthcare + NoDocbcCost + GenHlth + MentHlth + PhysHlth + \n",
       "    DiffWalk + Sex + Age + Education + Income, data = train_combine, \n",
       "    maxit = 1500)\n",
       "\n",
       "Coefficients:\n",
       "  (Intercept)    HighBP  HighChol CholCheck        BMI      Smoker     Stroke\n",
       "1   -4.468935 0.4046287 0.5872745 0.9719947 0.05636745 -0.06661170 -0.1131593\n",
       "2   -7.245141 0.7306264 0.6308964 1.3036636 0.07517994 -0.02382283  0.1373392\n",
       "  HeartDiseaseorAttack      Fruits HvyAlcoholConsump AnyHealthcare NoDocbcCost\n",
       "1         -0.003325027 0.037872357        -0.2910353   -0.04894954   0.3939009\n",
       "2          0.198955885 0.008687722        -0.7690503    0.16434634   0.1232023\n",
       "    GenHlth     MentHlth     PhysHlth    DiffWalk       Sex       Age\n",
       "1 0.2739776  0.007532139 -0.004259852 -0.05888316 0.1024558 0.1344332\n",
       "2 0.5711680 -0.002693967 -0.007007294  0.09448288 0.2963787 0.1587945\n",
       "    Education      Income\n",
       "1 -0.03882952 -0.07390481\n",
       "2 -0.01237516 -0.05700941\n",
       "\n",
       "Std. Errors:\n",
       "  (Intercept)     HighBP   HighChol  CholCheck         BMI     Smoker\n",
       "1  0.07364874 0.01427074 0.01368531 0.04720778 0.001118399 0.01362071\n",
       "2  0.08877127 0.01530458 0.01449579 0.06163964 0.001154832 0.01435310\n",
       "      Stroke HeartDiseaseorAttack     Fruits HvyAlcoholConsump AnyHealthcare\n",
       "1 0.03204505           0.02216796 0.01371991        0.03010786    0.03056319\n",
       "2 0.03097158           0.02177445 0.01442826        0.03657467    0.03455993\n",
       "  NoDocbcCost     GenHlth     MentHlth     PhysHlth   DiffWalk        Sex\n",
       "1  0.02321644 0.008054916 0.0009141953 0.0008758331 0.01930583 0.01375945\n",
       "2  0.02523074 0.008675662 0.0009644764 0.0008915054 0.01941987 0.01452064\n",
       "          Age   Education      Income\n",
       "1 0.002664286 0.007659145 0.003665695\n",
       "2 0.002931606 0.008046684 0.003863293\n",
       "\n",
       "Residual Deviance: 310837.1 \n",
       "AIC: 310917.1 "
      ]
     },
     "metadata": {},
     "output_type": "display_data"
    }
   ],
   "source": [
    "summary(stepwise_model)"
   ]
  },
  {
   "cell_type": "markdown",
   "metadata": {},
   "source": [
    "model sau stepwise vẫn giữ lại toàn bộ biến."
   ]
  },
  {
   "cell_type": "code",
   "execution_count": 12,
   "metadata": {
    "vscode": {
     "languageId": "r"
    }
   },
   "outputs": [
    {
     "name": "stderr",
     "output_type": "stream",
     "text": [
      "Warning message in vif.default(stepwise_model):\n",
      "\"No intercept: vifs may not be sensible.\"\n"
     ]
    },
    {
     "data": {
      "text/html": [
       "<style>\n",
       ".dl-inline {width: auto; margin:0; padding: 0}\n",
       ".dl-inline>dt, .dl-inline>dd {float: none; width: auto; display: inline-block}\n",
       ".dl-inline>dt::after {content: \":\\0020\"; padding-right: .5ex}\n",
       ".dl-inline>dt:not(:first-of-type) {padding-left: .5ex}\n",
       "</style><dl class=dl-inline><dt>HighBP</dt><dd>4.38906155194712</dd><dt>HighChol</dt><dd>3.88530317638012</dd><dt>CholCheck</dt><dd>75.8557926450729</dd><dt>BMI</dt><dd>42.3532835156237</dd><dt>Smoker</dt><dd>3.13155282458811</dd><dt>Stroke</dt><dd>2.11144979915206</dd><dt>HeartDiseaseorAttack</dt><dd>2.53464343724914</dd><dt>Fruits</dt><dd>3.92940261237663</dd><dt>HvyAlcoholConsump</dt><dd>1.30491071865896</dd><dt>AnyHealthcare</dt><dd>30.5499019613549</dd><dt>NoDocbcCost</dt><dd>2.22627725530537</dd><dt>GenHlth</dt><dd>22.0108181892493</dd><dt>MentHlth</dt><dd>2.72820043388116</dd><dt>PhysHlth</dt><dd>3.87256155581072</dd><dt>DiffWalk</dt><dd>3.50221073099142</dd><dt>Sex</dt><dd>2.87727166435935</dd><dt>Age</dt><dd>21.5023160605929</dd><dt>Education</dt><dd>18.3666261715674</dd><dt>Income</dt><dd>15.8641691236375</dd></dl>\n"
      ],
      "text/latex": [
       "\\begin{description*}\n",
       "\\item[HighBP] 4.38906155194712\n",
       "\\item[HighChol] 3.88530317638012\n",
       "\\item[CholCheck] 75.8557926450729\n",
       "\\item[BMI] 42.3532835156237\n",
       "\\item[Smoker] 3.13155282458811\n",
       "\\item[Stroke] 2.11144979915206\n",
       "\\item[HeartDiseaseorAttack] 2.53464343724914\n",
       "\\item[Fruits] 3.92940261237663\n",
       "\\item[HvyAlcoholConsump] 1.30491071865896\n",
       "\\item[AnyHealthcare] 30.5499019613549\n",
       "\\item[NoDocbcCost] 2.22627725530537\n",
       "\\item[GenHlth] 22.0108181892493\n",
       "\\item[MentHlth] 2.72820043388116\n",
       "\\item[PhysHlth] 3.87256155581072\n",
       "\\item[DiffWalk] 3.50221073099142\n",
       "\\item[Sex] 2.87727166435935\n",
       "\\item[Age] 21.5023160605929\n",
       "\\item[Education] 18.3666261715674\n",
       "\\item[Income] 15.8641691236375\n",
       "\\end{description*}\n"
      ],
      "text/markdown": [
       "HighBP\n",
       ":   4.38906155194712HighChol\n",
       ":   3.88530317638012CholCheck\n",
       ":   75.8557926450729BMI\n",
       ":   42.3532835156237Smoker\n",
       ":   3.13155282458811Stroke\n",
       ":   2.11144979915206HeartDiseaseorAttack\n",
       ":   2.53464343724914Fruits\n",
       ":   3.92940261237663HvyAlcoholConsump\n",
       ":   1.30491071865896AnyHealthcare\n",
       ":   30.5499019613549NoDocbcCost\n",
       ":   2.22627725530537GenHlth\n",
       ":   22.0108181892493MentHlth\n",
       ":   2.72820043388116PhysHlth\n",
       ":   3.87256155581072DiffWalk\n",
       ":   3.50221073099142Sex\n",
       ":   2.87727166435935Age\n",
       ":   21.5023160605929Education\n",
       ":   18.3666261715674Income\n",
       ":   15.8641691236375\n",
       "\n"
      ],
      "text/plain": [
       "              HighBP             HighChol            CholCheck \n",
       "            4.389062             3.885303            75.855793 \n",
       "                 BMI               Smoker               Stroke \n",
       "           42.353284             3.131553             2.111450 \n",
       "HeartDiseaseorAttack               Fruits    HvyAlcoholConsump \n",
       "            2.534643             3.929403             1.304911 \n",
       "       AnyHealthcare          NoDocbcCost              GenHlth \n",
       "           30.549902             2.226277            22.010818 \n",
       "            MentHlth             PhysHlth             DiffWalk \n",
       "            2.728200             3.872562             3.502211 \n",
       "                 Sex                  Age            Education \n",
       "            2.877272            21.502316            18.366626 \n",
       "              Income \n",
       "           15.864169 "
      ]
     },
     "metadata": {},
     "output_type": "display_data"
    }
   ],
   "source": [
    "vif(stepwise_model)"
   ]
  },
  {
   "cell_type": "markdown",
   "metadata": {},
   "source": [
    "có đa cộng tuyến trong mô hình. "
   ]
  },
  {
   "cell_type": "code",
   "execution_count": 13,
   "metadata": {
    "vscode": {
     "languageId": "r"
    }
   },
   "outputs": [
    {
     "name": "stdout",
     "output_type": "stream",
     "text": [
      "$Precision\n",
      "         0          1          2 \n",
      "0.93914192 0.03107667 0.35759623 \n",
      "\n",
      "$Recall\n",
      "        0         1         2 \n",
      "0.6361929 0.2963768 0.5807641 \n",
      "\n",
      "$Accuracy\n",
      "[1] 0.6208873\n",
      "\n",
      "$Kappa\n",
      "[1] 0.2343052\n",
      "\n",
      "$Macro_F1\n",
      "[1] 0.4715058\n",
      "\n"
     ]
    }
   ],
   "source": [
    "prop_pred <- predict(stepwise_model, test, type = 'class')\n",
    "conf_matrix <- table(test$Diabetes_012, prop_pred)\n",
    "print(eval_multi_class(conf_matrix))"
   ]
  },
  {
   "cell_type": "code",
   "execution_count": 14,
   "metadata": {
    "vscode": {
     "languageId": "r"
    }
   },
   "outputs": [
    {
     "data": {
      "image/png": "[encoded data removed]",
      "text/plain": [
       "plot without title"
      ]
     },
     "metadata": {
      "image/png": {
       "height": 420,
       "width": 420
      }
     },
     "output_type": "display_data"
    }
   ],
   "source": [
    "cm_melt <- melt(conf_matrix)\n",
    "colnames(cm_melt) <- c(\"Var1\", \"Var2\", \"value\")\n",
    "ggplot(data = cm_melt, aes(x = Var2, y = Var1, fill = value)) +\n",
    "    geom_tile() +\n",
    "    geom_text(aes(label = value), color = \"black\") +\n",
    "    scale_fill_gradient(low = \"white\", high = \"blue\") +\n",
    "    labs(x = \"Predicted\", y = \"Actual\", fill = \"Count\") +\n",
    "    ggtitle(\"Confusion Matrix - Combine\") +\n",
    "    theme_minimal()"
   ]
  },
  {
   "cell_type": "markdown",
   "metadata": {},
   "source": [
    "do phát hiện có đa cộng tuyến, mô hình sẽ gặp vấn đề hệ số ước lượng không ổn định nên ta sử dụng phương pháp co hệ số để giảm ảnh hưởng này. "
   ]
  },
  {
   "cell_type": "markdown",
   "metadata": {},
   "source": [
    "### Regularization"
   ]
  },
  {
   "cell_type": "code",
   "execution_count": 15,
   "metadata": {
    "vscode": {
     "languageId": "r"
    }
   },
   "outputs": [],
   "source": [
    "# xài glmnet \n",
    "model_lasso <- glmnet(as.matrix(train_combine[, -1]), as.factor(train_combine$Diabetes_012), family = 'multinomial', alpha = 1)\n",
    "model_ridge <- glmnet(as.matrix(train_combine[, -1]), as.factor(train_combine$Diabetes_012), family = 'multinomial', alpha = 0)\n",
    "model_enet <- glmnet(as.matrix(train_combine[, -1]), as.factor(train_combine$Diabetes_012), family = 'multinomial', alpha = 0.5)"
   ]
  },
  {
   "cell_type": "code",
   "execution_count": 16,
   "metadata": {
    "vscode": {
     "languageId": "r"
    }
   },
   "outputs": [
    {
     "name": "stdout",
     "output_type": "stream",
     "text": [
      "Confusion Matrix for Lasso Model:\n",
      "$Precision\n",
      "         0          1          2 \n",
      "0.93710002 0.02985688 0.35743178 \n",
      "\n",
      "$Recall\n",
      "        0         1         2 \n",
      "0.6450560 0.2630435 0.5933422 \n",
      "\n",
      "$Accuracy\n",
      "[1] 0.6294754\n",
      "\n",
      "$Kappa\n",
      "[1] 0.2393217\n",
      "\n",
      "$Macro_F1\n",
      "[1] 0.4691228\n",
      "\n",
      "\n",
      "Confusion Matrix for Ridge Model:\n",
      "$Precision\n",
      "         0          1          2 \n",
      "0.93849805 0.03070988 0.35713871 \n",
      "\n",
      "$Recall\n",
      "        0         1         2 \n",
      "0.6384745 0.2884058 0.5812370 \n",
      "\n",
      "$Accuracy\n",
      "[1] 0.6226861\n",
      "\n",
      "$Kappa\n",
      "[1] 0.2348471\n",
      "\n",
      "$Macro_F1\n",
      "[1] 0.4704679\n",
      "\n",
      "\n",
      "Confusion Matrix for Elastic Net Model:\n",
      "$Precision\n",
      "         0          1          2 \n",
      "0.93755760 0.03024968 0.35704420 \n",
      "\n",
      "$Recall\n",
      "        0         1         2 \n",
      "0.6427218 0.2739130 0.5867221 \n",
      "\n",
      "$Accuracy\n",
      "[1] 0.6267481\n",
      "\n",
      "$Kappa\n",
      "[1] 0.237209\n",
      "\n",
      "$Macro_F1\n",
      "[1] 0.4694903\n",
      "\n"
     ]
    }
   ],
   "source": [
    "# Predict and evaluate for Lasso model\n",
    "pred_lasso <- predict(model_lasso, newx = as.matrix(test[, -1]), s = 0.01, type = 'class')\n",
    "cm_lasso <- table(test$Diabetes_012, pred_lasso)\n",
    "cat(\"Confusion Matrix for Lasso Model:\\n\")\n",
    "print(eval_multi_class(cm_lasso))\n",
    "\n",
    "# Predict and evaluate for Ridge model\n",
    "pred_ridge <- predict(model_ridge, newx = as.matrix(test[, -1]), s = 0.01, type = 'class')\n",
    "cm_ridge <- table(test$Diabetes_012, pred_ridge)\n",
    "cat(\"\\nConfusion Matrix for Ridge Model:\\n\")\n",
    "print(eval_multi_class(cm_ridge))\n",
    "\n",
    "# Predict and evaluate for Elastic Net model\n",
    "pred_enet <- predict(model_enet, newx = as.matrix(test[, -1]), s = 0.01, type = 'class')\n",
    "cm_enet <- table(test$Diabetes_012, pred_enet)\n",
    "cat(\"\\nConfusion Matrix for Elastic Net Model:\\n\")\n",
    "print(eval_multi_class(cm_enet))"
   ]
  },
  {
   "cell_type": "code",
   "execution_count": 17,
   "metadata": {
    "vscode": {
     "languageId": "r"
    }
   },
   "outputs": [
    {
     "name": "stdout",
     "output_type": "stream",
     "text": [
      "\n",
      "Confusion Matrix for Ridge Model on Train set:\n",
      "$Precision\n",
      "        0         1         2 \n",
      "0.5777466 0.4291457 0.5037590 \n",
      "\n",
      "$Recall\n",
      "        0         1         2 \n",
      "0.6442467 0.3106150 0.5849141 \n",
      "\n",
      "$Accuracy\n",
      "[1] 0.5132586\n",
      "\n",
      "$Kappa\n",
      "[1] 0.2698879\n",
      "\n",
      "$Macro_F1\n",
      "[1] 0.5083582\n",
      "\n"
     ]
    }
   ],
   "source": [
    "# Predict and evaluate for Ridge model on train \n",
    "pred_ridge <- predict(model_ridge, newx = as.matrix(train_combine[, -1]), s = 0.01, type = 'class')\n",
    "cm_ridge <- table(train_combine$Diabetes_012, pred_ridge)\n",
    "cat(\"\\nConfusion Matrix for Ridge Model on Train set:\\n\")\n",
    "print(eval_multi_class(cm_ridge))"
   ]
  },
  {
   "cell_type": "markdown",
   "metadata": {},
   "source": [
    "Model với ridge cho kết quả tốt nhất và cũng khá gần với kết quả có được với stepwise_model.\n",
    "\n",
    "Kết quả sau khi xây dựng mô hình tuyến tính có vẻ chưa quá khả quan trong phân loại, ta có thể nghi ngờ về quan hệ phi tuyến của các biến. Để kiểm tra thử, ta sẽ sử dụng mô hình phi tuyến là Random Forest."
   ]
  },
  {
   "cell_type": "markdown",
   "metadata": {},
   "source": [
    "### Random Forest"
   ]
  },
  {
   "cell_type": "code",
   "execution_count": 18,
   "metadata": {
    "vscode": {
     "languageId": "r"
    }
   },
   "outputs": [
    {
     "name": "stderr",
     "output_type": "stream",
     "text": [
      "randomForest 4.7-1.2\n",
      "\n",
      "Type rfNews() to see new features/changes/bug fixes.\n",
      "\n",
      "\n",
      "Attaching package: 'randomForest'\n",
      "\n",
      "\n",
      "The following object is masked from 'package:dplyr':\n",
      "\n",
      "    combine\n",
      "\n",
      "\n",
      "The following object is masked from 'package:ggplot2':\n",
      "\n",
      "    margin\n",
      "\n",
      "\n"
     ]
    }
   ],
   "source": [
    "library(randomForest)"
   ]
  },
  {
   "cell_type": "code",
   "execution_count": 19,
   "metadata": {
    "vscode": {
     "languageId": "r"
    }
   },
   "outputs": [],
   "source": [
    "train_combine$Diabetes_012 <- as.factor(train_combine$Diabetes_012)\n",
    "set.seed(12)\n",
    "rf_model <- randomForest(Diabetes_012 ~ ., data = train_combine, ntree = 100, maxnodes = 6, importance = TRUE)"
   ]
  },
  {
   "cell_type": "code",
   "execution_count": 20,
   "metadata": {
    "vscode": {
     "languageId": "r"
    }
   },
   "outputs": [
    {
     "name": "stdout",
     "output_type": "stream",
     "text": [
      "\n",
      "Confusion Matrix for Random Forest Model on Train Set:\n",
      "$Precision\n",
      "        0         1         2 \n",
      "0.5556950 0.4610123 0.4375631 \n",
      "\n",
      "$Recall\n",
      "         0          1          2 \n",
      "0.62781415 0.01885737 0.80044019 \n",
      "\n",
      "$Accuracy\n",
      "[1] 0.4823706\n",
      "\n",
      "$Kappa\n",
      "[1] 0.2235559\n",
      "\n",
      "$Macro_F1\n",
      "[1] 0.4835607\n",
      "\n"
     ]
    }
   ],
   "source": [
    "# evaluation trên tập train\n",
    "pred_rf_train <- predict(rf_model, train_combine, type = 'class')\n",
    "cm_rf_train <- table(train_combine$Diabetes_012, pred_rf_train)\n",
    "cat(\"\\nConfusion Matrix for Random Forest Model on Train Set:\\n\")\n",
    "print(eval_multi_class(cm_rf_train))"
   ]
  },
  {
   "cell_type": "code",
   "execution_count": 21,
   "metadata": {
    "vscode": {
     "languageId": "r"
    }
   },
   "outputs": [
    {
     "name": "stdout",
     "output_type": "stream",
     "text": [
      "\n",
      "Confusion Matrix for Random Forest Model:\n",
      "$Precision\n",
      "         0          1          2 \n",
      "0.93415930 0.02143758 0.27971982 \n",
      "\n",
      "$Recall\n",
      "         0          1          2 \n",
      "0.62327565 0.01231884 0.79686022 \n",
      "\n",
      "$Accuracy\n",
      "[1] 0.6376719\n",
      "\n",
      "$Kappa\n",
      "[1] 0.2402035\n",
      "\n",
      "$Macro_F1\n",
      "[1] 0.4422006\n",
      "\n"
     ]
    }
   ],
   "source": [
    "# evaluation trên tập test \n",
    "pred_rf <- predict(rf_model, test, type = 'class')\n",
    "cm_rf <- table(test$Diabetes_012, pred_rf)\n",
    "cat(\"\\nConfusion Matrix for Random Forest Model:\\n\")\n",
    "print(eval_multi_class(cm_rf))"
   ]
  },
  {
   "cell_type": "markdown",
   "metadata": {},
   "source": [
    "### Kết luận"
   ]
  },
  {
   "cell_type": "markdown",
   "metadata": {},
   "source": [
    "Mặc dù model Random Forest cho recall của class 2 khá cao, tuy nhiên recall cho class 1 lại gần như bằng 0. Nếu tuning các tham số cho model thì recall cho 2 class này sẽ tương quan nghịch với nhau, nếu recall class này cao thì buộc class kia phải giảm. \n",
    "\n",
    "Hơn nữa, macro_F1 cũng chỉ đạt 0.45, cũng tương đương với model logistic đã xây dựng ở trên. *Điều này cho thấy cả 2 model tuyến tính và phi tuyến đều không hoạt động tốt trên tập dữ liệu*.\n",
    "\n",
    "**Kết luận:** Có thể vấn đề nằm ở bộ dữ liệu được cung cấp không có đủ thông tin để dự đoán biến mục tiêu hoặc có chứa thông tin nhiễu. Nhất là đối với class 1, khi dữ liệu trong nhóm này rất ít so với 2 class còn lại nên việc dự đoán nhóm này rất khó dù đã có các biện pháp xử lí mất cân bằng. \n",
    "\n",
    "**Giải pháp:** \n",
    "1. Thu thập thêm dữ liệu những người bị tiền tiểu đường (class 1). \n",
    "2. Chuyển qua phân loại nhị phân, dự đoán 1 người bị tiểu đường hoặc không. (loại bỏ hết các quan trắc thuộc class 1 hoặc gom nhãn class 1 và 2). \n",
    "\n",
    "Do tính chất về mức độ bệnh và phương pháp điều trị cho người tiểu đường và tiền tiểu đường là khác nhau nên việc chuyển hướng sang phân loại nhị phân có thể không giải thích được hết vấn đề đặt ra.      \n",
    "Theo khảo sát dân cư ở Mỹ thì số lượng người tiền tiểu đường nhiều hơn số lượng người tiểu đường nên việc dự đoán tiền tiểu đường cũng rất cần thiết. "
   ]
  }
 ],
 "metadata": {
  "kernelspec": {
   "display_name": "R",
   "language": "R",
   "name": "ir"
  },
  "language_info": {
   "codemirror_mode": "r",
   "file_extension": ".r",
   "mimetype": "text/x-r-source",
   "name": "R",
   "pygments_lexer": "r",
   "version": "4.4.2"
  }
 },
 "nbformat": 4,
 "nbformat_minor": 2
}
