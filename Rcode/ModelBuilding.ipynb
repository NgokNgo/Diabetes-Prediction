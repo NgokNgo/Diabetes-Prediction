{
 "cells": [
  {
   "cell_type": "code",
   "execution_count": 2,
   "metadata": {
    "vscode": {
     "languageId": "r"
    }
   },
   "outputs": [],
   "source": [
    "library(ggplot2)\n",
    "library(dplyr)\n",
    "library(readr)\n",
    "library(tidyr)\n",
    "library(nnet)\n",
    "library(glmnet)\n",
    "library(car)\n",
    "library(themis)\n",
    "library(pROC)\n",
    "library(reshape2)\n",
    "library(MASS)"
   ]
  },
  {
   "cell_type": "code",
   "execution_count": 3,
   "metadata": {
    "vscode": {
     "languageId": "r"
    }
   },
   "outputs": [
    {
     "name": "stderr",
     "output_type": "stream",
     "text": [
      "\u001b[1mRows: \u001b[22m\u001b[34m76104\u001b[39m \u001b[1mColumns: \u001b[22m\u001b[34m22\u001b[39m\n",
      "\u001b[36m──\u001b[39m \u001b[1mColumn specification\u001b[22m \u001b[36m────────────────────────────────────────────────────────\u001b[39m\n",
      "\u001b[1mDelimiter:\u001b[22m \",\"\n",
      "\u001b[32mdbl\u001b[39m (22): Diabetes_012, HighBP, HighChol, CholCheck, BMI, Smoker, Stroke, He...\n",
      "\n",
      "\u001b[36mℹ\u001b[39m Use `spec()` to retrieve the full column specification for this data.\n",
      "\u001b[36mℹ\u001b[39m Specify the column types or set `show_col_types = FALSE` to quiet this message.\n"
     ]
    }
   ],
   "source": [
    "test <- read_csv('../data/testset.csv')"
   ]
  },
  {
   "cell_type": "code",
   "execution_count": 4,
   "metadata": {
    "vscode": {
     "languageId": "r"
    }
   },
   "outputs": [
    {
     "name": "stderr",
     "output_type": "stream",
     "text": [
      "\u001b[1mRows: \u001b[22m\u001b[34m177576\u001b[39m \u001b[1mColumns: \u001b[22m\u001b[34m22\u001b[39m\n",
      "\u001b[36m──\u001b[39m \u001b[1mColumn specification\u001b[22m \u001b[36m────────────────────────────────────────────────────────\u001b[39m\n",
      "\u001b[1mDelimiter:\u001b[22m \",\"\n",
      "\u001b[32mdbl\u001b[39m (22): Diabetes_012, HighBP, HighChol, CholCheck, BMI, Smoker, Stroke, He...\n",
      "\n",
      "\u001b[36mℹ\u001b[39m Use `spec()` to retrieve the full column specification for this data.\n",
      "\u001b[36mℹ\u001b[39m Specify the column types or set `show_col_types = FALSE` to quiet this message.\n",
      "\u001b[1mRows: \u001b[22m\u001b[34m9696\u001b[39m \u001b[1mColumns: \u001b[22m\u001b[34m22\u001b[39m\n",
      "\u001b[36m──\u001b[39m \u001b[1mColumn specification\u001b[22m \u001b[36m────────────────────────────────────────────────────────\u001b[39m\n",
      "\u001b[1mDelimiter:\u001b[22m \",\"\n",
      "\u001b[32mdbl\u001b[39m (22): Diabetes_012, HighBP, HighChol, CholCheck, BMI, Smoker, Stroke, He...\n",
      "\n",
      "\u001b[36mℹ\u001b[39m Use `spec()` to retrieve the full column specification for this data.\n",
      "\u001b[36mℹ\u001b[39m Specify the column types or set `show_col_types = FALSE` to quiet this message.\n",
      "\u001b[1mRows: \u001b[22m\u001b[34m448734\u001b[39m \u001b[1mColumns: \u001b[22m\u001b[34m22\u001b[39m\n",
      "\u001b[36m──\u001b[39m \u001b[1mColumn specification\u001b[22m \u001b[36m────────────────────────────────────────────────────────\u001b[39m\n",
      "\u001b[1mDelimiter:\u001b[22m \",\"\n",
      "\u001b[32mdbl\u001b[39m (22): Diabetes_012, HighBP, HighChol, CholCheck, BMI, Smoker, Stroke, He...\n",
      "\n",
      "\u001b[36mℹ\u001b[39m Use `spec()` to retrieve the full column specification for this data.\n",
      "\u001b[36mℹ\u001b[39m Specify the column types or set `show_col_types = FALSE` to quiet this message.\n",
      "\u001b[1mRows: \u001b[22m\u001b[34m177576\u001b[39m \u001b[1mColumns: \u001b[22m\u001b[34m22\u001b[39m\n",
      "\u001b[36m──\u001b[39m \u001b[1mColumn specification\u001b[22m \u001b[36m────────────────────────────────────────────────────────\u001b[39m\n",
      "\u001b[1mDelimiter:\u001b[22m \",\"\n",
      "\u001b[32mdbl\u001b[39m (22): Diabetes_012, HighBP, HighChol, CholCheck, BMI, Smoker, Stroke, He...\n",
      "\n",
      "\u001b[36mℹ\u001b[39m Use `spec()` to retrieve the full column specification for this data.\n",
      "\u001b[36mℹ\u001b[39m Specify the column types or set `show_col_types = FALSE` to quiet this message.\n",
      "\u001b[1mRows: \u001b[22m\u001b[34m448734\u001b[39m \u001b[1mColumns: \u001b[22m\u001b[34m22\u001b[39m\n",
      "\u001b[36m──\u001b[39m \u001b[1mColumn specification\u001b[22m \u001b[36m────────────────────────────────────────────────────────\u001b[39m\n",
      "\u001b[1mDelimiter:\u001b[22m \",\"\n",
      "\u001b[32mdbl\u001b[39m (22): Diabetes_012, HighBP, HighChol, CholCheck, BMI, Smoker, Stroke, He...\n",
      "\n",
      "\u001b[36mℹ\u001b[39m Use `spec()` to retrieve the full column specification for this data.\n",
      "\u001b[36mℹ\u001b[39m Specify the column types or set `show_col_types = FALSE` to quiet this message.\n"
     ]
    }
   ],
   "source": [
    "train_base <- read_csv('../data/training_sets/train_base.csv')\n",
    "train_under <- read_csv('../data/training_sets/train_under.csv')\n",
    "train_over <- read_csv('../data/training_sets/train_over.csv')\n",
    "train_combine <- read_csv('../data/training_sets/train_combine.csv')\n",
    "train_smote <- read_csv('../data/training_sets/train_smote.csv')"
   ]
  },
  {
   "cell_type": "code",
   "execution_count": 5,
   "metadata": {
    "vscode": {
     "languageId": "r"
    }
   },
   "outputs": [],
   "source": [
    "eval_multi_class <- function(x) {\n",
    "    cc <- sum(diag(x), na.rm = TRUE)\n",
    "    sc <- sum(x)\n",
    "    pp <- colSums(x)\n",
    "    tt <- rowSums(x)\n",
    "    \n",
    "    prec <- diag(x) / colSums(x)\n",
    "    recall <- diag(x) / rowSums(x)\n",
    "    macro_prec <- mean(prec, na.rm = TRUE)\n",
    "    macro_recall <- mean(recall, na.rm = TRUE)\n",
    "    macro_f1 <- 2 * macro_prec * macro_recall / (macro_prec + macro_recall)\n",
    "    acc <- cc / sc\n",
    "    \n",
    "    denominator <- (sc^2 - sum(pp * tt))\n",
    "    if (denominator != 0) {\n",
    "        kap <- (as.numeric(cc) * as.numeric(sc) - sum(pp * tt)) / denominator\n",
    "    } else {\n",
    "        kap <- NA\n",
    "    }\n",
    "    \n",
    "    return(list(Precision = prec, Recall = recall, Accuracy = acc, Kappa = kap, Macro_F1 = macro_f1))\n",
    "}"
   ]
  },
  {
   "cell_type": "markdown",
   "metadata": {},
   "source": [
    "#### Model với tất cả các biến"
   ]
  },
  {
   "cell_type": "code",
   "execution_count": 7,
   "metadata": {
    "vscode": {
     "languageId": "r"
    }
   },
   "outputs": [
    {
     "name": "stdout",
     "output_type": "stream",
     "text": [
      "# weights:  69 (44 variable)\n",
      "initial  value 10652.144751 \n",
      "iter  10 value 9744.257556\n",
      "iter  20 value 9528.172274\n",
      "iter  30 value 9399.776835\n",
      "iter  40 value 9258.014609\n",
      "iter  50 value 9214.081944\n",
      "final  value 9214.079505 \n",
      "converged\n",
      "# weights:  69 (44 variable)\n",
      "initial  value 492984.686742 \n",
      "iter  10 value 454100.958198\n",
      "iter  20 value 446031.713713\n",
      "iter  30 value 444525.986389\n",
      "iter  40 value 433387.485717\n",
      "iter  50 value 426663.745668\n",
      "final  value 426663.706103 \n",
      "converged\n",
      "# weights:  69 (44 variable)\n",
      "initial  value 195087.175773 \n",
      "iter  10 value 175501.078653\n",
      "iter  20 value 172628.925483\n",
      "iter  30 value 171955.055235\n",
      "iter  40 value 169961.157023\n",
      "iter  50 value 168805.474858\n",
      "final  value 168805.436928 \n",
      "converged\n",
      "# weights:  69 (44 variable)\n",
      "initial  value 492984.686742 \n",
      "iter  10 value 454085.871213\n",
      "iter  20 value 443830.287775\n",
      "iter  30 value 441206.341870\n",
      "iter  40 value 435924.125540\n",
      "iter  50 value 421973.436247\n",
      "final  value 421972.781145 \n",
      "converged\n"
     ]
    }
   ],
   "source": [
    "first_models <- list()\n",
    "\n",
    "for (i in 1:4) {\n",
    "    if (i == 1) {\n",
    "        df <- train_under\n",
    "    } else if (i == 2) {\n",
    "        df <- train_over\n",
    "    } else if (i == 3) {\n",
    "        df <- train_combine\n",
    "    } else {\n",
    "        df <- train_smote\n",
    "    }\n",
    "    \n",
    "    model <- multinom(Diabetes_012 ~ ., data = df, maxit = 1000)\n",
    "    pred_class <- predict(model, test, type = 'class')\n",
    "    \n",
    "    cm <- table(test$Diabetes_012, pred_class)\n",
    "    eval <- eval_multi_class(cm)\n",
    "    \n",
    "    first_models[[i]] <- list(Model = model, Prediction_Class = pred_class, Confusion_Matrix = cm, Evaluation = eval)\n",
    "}\n"
   ]
  },
  {
   "cell_type": "code",
   "execution_count": 8,
   "metadata": {
    "vscode": {
     "languageId": "r"
    }
   },
   "outputs": [
    {
     "name": "stdout",
     "output_type": "stream",
     "text": [
      "Undersampling\n",
      "$Precision\n",
      "         0          1          2 \n",
      "0.95036052 0.03136971 0.34686120 \n",
      "\n",
      "$Recall\n",
      "        0         1         2 \n",
      "0.6577310 0.3102216 0.5864839 \n",
      "\n",
      "$Accuracy\n",
      "[1] 0.641438\n",
      "\n",
      "$Kappa\n",
      "[1] 0.2413317\n",
      "\n",
      "$Macro_F1\n",
      "[1] 0.477556\n",
      "\n",
      "\n",
      "Oversampling\n",
      "$Precision\n",
      "         0          1          2 \n",
      "0.95000225 0.03259091 0.35044630 \n",
      "\n",
      "$Recall\n",
      "        0         1         2 \n",
      "0.6586979 0.3273767 0.5826087 \n",
      "\n",
      "$Accuracy\n",
      "[1] 0.6420293\n",
      "\n",
      "$Kappa\n",
      "[1] 0.2419211\n",
      "\n",
      "$Macro_F1\n",
      "[1] 0.4804311\n",
      "\n",
      "\n",
      "Combine\n",
      "$Precision\n",
      "         0          1          2 \n",
      "0.95012346 0.03209894 0.35050666 \n",
      "\n",
      "$Recall\n",
      "        0         1         2 \n",
      "0.6600858 0.3209435 0.5819471 \n",
      "\n",
      "$Accuracy\n",
      "[1] 0.6429885\n",
      "\n",
      "$Kappa\n",
      "[1] 0.242482\n",
      "\n",
      "$Macro_F1\n",
      "[1] 0.4795663\n",
      "\n",
      "\n",
      "SMOTE\n",
      "$Precision\n",
      "        0         1         2 \n",
      "0.9497741 0.0302553 0.3548675 \n",
      "\n",
      "$Recall\n",
      "        0         1         2 \n",
      "0.6523041 0.3295211 0.5643667 \n",
      "\n",
      "$Accuracy\n",
      "[1] 0.6341454\n",
      "\n",
      "$Kappa\n",
      "[1] 0.2345763\n",
      "\n",
      "$Macro_F1\n",
      "[1] 0.4775988\n",
      "\n",
      "\n"
     ]
    }
   ],
   "source": [
    "# lấy ra các evalution của từng model\n",
    "evaluations <- lapply(first_models, function(x) x$Evaluation)\n",
    "\n",
    "for (i in 1:4) {\n",
    "    if (i == 1) {\n",
    "        cat('Undersampling\\n')\n",
    "    } else if (i == 2) {\n",
    "        cat('Oversampling\\n')\n",
    "    } else if (i == 3) {\n",
    "        cat('Combine\\n')\n",
    "    } else {\n",
    "        cat('SMOTE\\n')\n",
    "    }\n",
    "    \n",
    "    print(evaluations[[i]])\n",
    "    cat('\\n')\n",
    "}"
   ]
  },
  {
   "cell_type": "code",
   "execution_count": 18,
   "metadata": {
    "vscode": {
     "languageId": "r"
    }
   },
   "outputs": [
    {
     "data": {
      "image/png": "[encoded data removed]",
      "text/plain": [
       "plot without title"
      ]
     },
     "metadata": {
      "image/png": {
       "height": 420,
       "width": 420
      }
     },
     "output_type": "display_data"
    },
    {
     "data": {
      "image/png": "[encoded data removed]",
      "text/plain": [
       "plot without title"
      ]
     },
     "metadata": {
      "image/png": {
       "height": 420,
       "width": 420
      }
     },
     "output_type": "display_data"
    },
    {
     "data": {
      "image/png": "[encoded data removed]",
      "text/plain": [
       "plot without title"
      ]
     },
     "metadata": {
      "image/png": {
       "height": 420,
       "width": 420
      }
     },
     "output_type": "display_data"
    },
    {
     "data": {
      "image/png": "[encoded data removed]",
      "text/plain": [
       "plot without title"
      ]
     },
     "metadata": {
      "image/png": {
       "height": 420,
       "width": 420
      }
     },
     "output_type": "display_data"
    }
   ],
   "source": [
    "# vẽ trực quan confusion matrix của từng model\n",
    "sampling_methods <- c(\"Undersampling\", \"Oversampling\", \"Combine\", \"SMOTE\")\n",
    "\n",
    "for (i in 1:4) {    \n",
    "    cm <- first_models[[i]]$Confusion_Matrix\n",
    "    cm_melt <- melt(cm)\n",
    "    colnames(cm_melt) <- c(\"Var1\", \"Var2\", \"value\")\n",
    "    p <- ggplot(data = cm_melt, aes(x = Var2, y = Var1, fill = value)) +\n",
    "        geom_tile() +\n",
    "        geom_text(aes(label = value), color = \"black\") +\n",
    "        scale_fill_gradient(low = \"white\", high = \"blue\") +\n",
    "        labs(x = \"Predicted\", y = \"Actual\", fill = \"Count\") +\n",
    "        ggtitle(paste(\"Confusion Matrix -\", sampling_methods[i])) +\n",
    "        theme_minimal()\n",
    "\n",
    "    print(p)\n",
    "}"
   ]
  },
  {
   "cell_type": "markdown",
   "metadata": {},
   "source": [
    "Nhận thấy model chạy với train_combine có vẻ cho kết quả tốt nhất trong phân loại nhóm 1 và 2."
   ]
  },
  {
   "cell_type": "markdown",
   "metadata": {},
   "source": [
    "### Stepwise"
   ]
  },
  {
   "cell_type": "code",
   "execution_count": 111,
   "metadata": {
    "vscode": {
     "languageId": "r"
    }
   },
   "outputs": [
    {
     "name": "stdout",
     "output_type": "stream",
     "text": [
      "# weights:  69 (44 variable)\n",
      "initial  value 195087.175773 \n",
      "iter  10 value 175501.078653\n",
      "iter  20 value 172628.925483\n",
      "iter  30 value 171955.055235\n",
      "iter  40 value 169961.157023\n",
      "iter  50 value 168805.474858\n",
      "final  value 168805.436928 \n",
      "converged\n",
      "Start:  AIC=337698.9\n",
      "Diabetes_012 ~ HighBP + HighChol + CholCheck + BMI + Smoker + \n",
      "    Stroke + HeartDiseaseorAttack + PhysActivity + Fruits + Veggies + \n",
      "    HvyAlcoholConsump + AnyHealthcare + NoDocbcCost + GenHlth + \n",
      "    MentHlth + PhysHlth + DiffWalk + Sex + Age + Education + \n",
      "    Income\n",
      "\n",
      "# weights:  66 (42 variable)\n",
      "initial  value 195087.175773 \n",
      "iter  10 value 176998.585675\n",
      "iter  20 value 174168.712045\n",
      "iter  30 value 173473.890567\n",
      "iter  40 value 170669.682067\n",
      "final  value 170001.318097 \n",
      "converged\n",
      "# weights:  66 (42 variable)\n",
      "initial  value 195087.175773 \n",
      "iter  10 value 176650.311943\n",
      "iter  20 value 173909.536104\n",
      "iter  30 value 173129.199126\n",
      "iter  40 value 170672.042924\n",
      "final  value 170004.708914 \n",
      "converged\n",
      "# weights:  66 (42 variable)\n",
      "initial  value 195087.175773 \n",
      "iter  10 value 175600.446849\n",
      "iter  20 value 172975.853319\n",
      "iter  30 value 172657.566937\n",
      "iter  40 value 169820.638004\n",
      "final  value 169172.313189 \n",
      "converged\n",
      "# weights:  66 (42 variable)\n",
      "initial  value 195087.175773 \n",
      "iter  10 value 179265.420771\n",
      "iter  20 value 176822.401705\n",
      "iter  30 value 176273.737043\n",
      "iter  40 value 172944.871970\n",
      "iter  50 value 171808.132583\n",
      "iter  50 value 171808.132312\n",
      "iter  50 value 171808.132311\n",
      "final  value 171808.132311 \n",
      "converged\n",
      "# weights:  66 (42 variable)\n",
      "initial  value 195087.175773 \n",
      "iter  10 value 175518.166275\n",
      "iter  20 value 172624.483239\n",
      "iter  30 value 171935.810536\n",
      "iter  40 value 169908.813039\n",
      "final  value 168811.172437 \n",
      "converged\n",
      "# weights:  66 (42 variable)\n",
      "initial  value 195087.175773 \n",
      "iter  10 value 175542.573540\n",
      "iter  20 value 172642.525628\n",
      "iter  30 value 171963.465586\n",
      "iter  40 value 169880.289490\n",
      "final  value 168837.399277 \n",
      "converged\n",
      "# weights:  66 (42 variable)\n",
      "initial  value 195087.175773 \n",
      "iter  10 value 175843.267030\n",
      "iter  20 value 172702.182695\n",
      "iter  30 value 172094.386182\n",
      "iter  40 value 169548.739385\n",
      "final  value 168991.919909 \n",
      "converged\n",
      "# weights:  66 (42 variable)\n",
      "initial  value 195087.175773 \n",
      "iter  10 value 175565.901288\n",
      "iter  20 value 173074.952351\n",
      "iter  30 value 172307.592211\n",
      "iter  40 value 169999.250919\n",
      "final  value 168823.027387 \n",
      "converged\n",
      "# weights:  66 (42 variable)\n",
      "initial  value 195087.175773 \n",
      "iter  10 value 175482.730629\n",
      "iter  20 value 172642.140264\n",
      "iter  30 value 171951.388051\n",
      "iter  40 value 169482.744558\n",
      "final  value 168808.326254 \n",
      "converged\n",
      "# weights:  66 (42 variable)\n",
      "initial  value 195087.175773 \n",
      "iter  10 value 175534.687944\n",
      "iter  20 value 172800.371717\n",
      "iter  30 value 172080.963733\n",
      "iter  40 value 169410.717794\n",
      "final  value 168809.911123 \n",
      "converged\n",
      "# weights:  66 (42 variable)\n",
      "initial  value 195087.175773 \n",
      "iter  10 value 175641.234880\n",
      "iter  20 value 173134.936251\n",
      "iter  30 value 172545.264874\n",
      "iter  40 value 170345.714520\n",
      "final  value 169170.253712 \n",
      "converged\n",
      "# weights:  66 (42 variable)\n",
      "initial  value 195087.175773 \n",
      "iter  10 value 175625.468483\n",
      "iter  20 value 172937.280558\n",
      "iter  30 value 172160.384665\n",
      "iter  40 value 169404.359678\n",
      "final  value 168853.561495 \n",
      "converged\n",
      "# weights:  66 (42 variable)\n",
      "initial  value 195087.175773 \n",
      "iter  10 value 175654.983055\n",
      "iter  20 value 172736.367093\n",
      "iter  30 value 172077.740488\n",
      "iter  40 value 169859.945252\n",
      "iter  50 value 168971.426562\n",
      "iter  50 value 168971.426518\n",
      "iter  50 value 168971.426518\n",
      "final  value 168971.426518 \n",
      "converged\n",
      "# weights:  66 (42 variable)\n",
      "initial  value 195087.175773 \n",
      "iter  10 value 177464.210833\n",
      "iter  20 value 175211.858866\n",
      "iter  30 value 174882.883221\n",
      "iter  40 value 171932.988395\n",
      "final  value 171425.244891 \n",
      "converged\n",
      "# weights:  66 (42 variable)\n",
      "initial  value 195087.175773 \n",
      "iter  10 value 176266.642572\n",
      "iter  20 value 173640.488952\n",
      "iter  30 value 173180.554824\n",
      "iter  40 value 169386.619930\n",
      "final  value 168871.815302 \n",
      "converged\n",
      "# weights:  66 (42 variable)\n",
      "initial  value 195087.175773 \n",
      "iter  10 value 176831.080921\n",
      "iter  20 value 175103.466669\n",
      "iter  30 value 174571.084663\n",
      "iter  40 value 169242.185564\n",
      "final  value 168846.247841 \n",
      "converged\n",
      "# weights:  66 (42 variable)\n",
      "initial  value 195087.175773 \n",
      "iter  10 value 175587.319546\n",
      "iter  20 value 172650.167187\n",
      "iter  30 value 171953.583804\n",
      "iter  40 value 170150.462367\n",
      "final  value 168846.776602 \n",
      "converged\n",
      "# weights:  66 (42 variable)\n",
      "initial  value 195087.175773 \n",
      "iter  10 value 175603.368619\n",
      "iter  20 value 173070.411626\n",
      "iter  30 value 172379.973714\n",
      "iter  40 value 170209.226954\n",
      "iter  50 value 169009.193639\n",
      "iter  50 value 169009.193467\n",
      "iter  50 value 169009.193467\n",
      "final  value 169009.193467 \n",
      "converged\n",
      "# weights:  66 (42 variable)\n",
      "initial  value 195087.175773 \n",
      "iter  10 value 176995.516157\n",
      "iter  20 value 175159.477061\n",
      "iter  30 value 174885.034079\n",
      "iter  40 value 171674.221298\n",
      "final  value 171036.992955 \n",
      "converged\n",
      "# weights:  66 (42 variable)\n",
      "initial  value 195087.175773 \n",
      "iter  10 value 176736.679118\n",
      "iter  20 value 172714.399718\n",
      "iter  30 value 172286.339133\n",
      "iter  40 value 169303.011175\n",
      "final  value 168864.908730 \n",
      "converged\n",
      "# weights:  66 (42 variable)\n",
      "initial  value 195087.175773 \n",
      "iter  10 value 177908.948821\n",
      "iter  20 value 174410.574199\n",
      "iter  30 value 174000.305289\n",
      "iter  40 value 169954.227635\n",
      "final  value 169005.803103 \n",
      "converged\n",
      "                       Df    AIC\n",
      "<none>                    337699\n",
      "- Fruits                2 337701\n",
      "- Veggies               2 337704\n",
      "- Smoker                2 337706\n",
      "- PhysActivity          2 337730\n",
      "- Stroke                2 337759\n",
      "- PhysHlth              2 337776\n",
      "- DiffWalk              2 337778\n",
      "- AnyHealthcare         2 337791\n",
      "- Education             2 337814\n",
      "- MentHlth              2 337828\n",
      "- NoDocbcCost           2 338027\n",
      "- HeartDiseaseorAttack  2 338068\n",
      "- Income                2 338096\n",
      "- Sex                   2 338102\n",
      "- HvyAlcoholConsump     2 338425\n",
      "- CholCheck             2 338429\n",
      "- HighBP                2 340087\n",
      "- HighChol              2 340093\n",
      "- Age                   2 342158\n",
      "- GenHlth               2 342934\n",
      "- BMI                   2 343700\n"
     ]
    }
   ],
   "source": [
    "full_model <- multinom(Diabetes_012 ~ ., data = train_combine, maxit = 1500)\n",
    "\n",
    "stepwise_model <- stepAIC(full_model, direction = \"both\", trace = TRUE)"
   ]
  },
  {
   "cell_type": "code",
   "execution_count": 112,
   "metadata": {
    "vscode": {
     "languageId": "r"
    }
   },
   "outputs": [
    {
     "data": {
      "text/plain": [
       "Call:\n",
       "multinom(formula = Diabetes_012 ~ HighBP + HighChol + CholCheck + \n",
       "    BMI + Smoker + Stroke + HeartDiseaseorAttack + PhysActivity + \n",
       "    Fruits + Veggies + HvyAlcoholConsump + AnyHealthcare + NoDocbcCost + \n",
       "    GenHlth + MentHlth + PhysHlth + DiffWalk + Sex + Age + Education + \n",
       "    Income, data = train_combine, maxit = 1500)\n",
       "\n",
       "Coefficients:\n",
       "  (Intercept)    HighBP  HighChol CholCheck       BMI     Smoker      Stroke\n",
       "1   -3.000775 0.3542945 0.5742437 0.8797186 0.4469127 0.04187478 -0.03296789\n",
       "2   -5.136497 0.7248228 0.6076740 1.3939894 0.5814397 0.03903293  0.14775921\n",
       "  HeartDiseaseorAttack PhysActivity      Fruits     Veggies HvyAlcoholConsump\n",
       "1          -0.05065952 -0.007640597 -0.01861732 -0.03991802        -0.2041657\n",
       "2           0.25783613 -0.077240968 -0.03471098 -0.04956636        -0.9092267\n",
       "  AnyHealthcare NoDocbcCost   GenHlth     MentHlth    PhysHlth    DiffWalk\n",
       "1    -0.1522961   0.4026448 0.3602264  0.009863420 -0.01810103 -0.02805978\n",
       "2     0.1316126   0.1719549 0.5978567 -0.007706736 -0.02384310  0.10918947\n",
       "        Sex       Age   Education      Income\n",
       "1 0.1270640 0.1509739 -0.07686199 -0.06495984\n",
       "2 0.2810268 0.1620478 -0.02510422 -0.06795563\n",
       "\n",
       "Std. Errors:\n",
       "  (Intercept)     HighBP   HighChol  CholCheck         BMI     Smoker\n",
       "1  0.06476345 0.01382567 0.01323572 0.04580159 0.007808384 0.01316023\n",
       "2  0.08067724 0.01484313 0.01403770 0.06206455 0.008063539 0.01389044\n",
       "      Stroke HeartDiseaseorAttack PhysActivity     Fruits    Veggies\n",
       "1 0.03129586           0.02200197   0.01515596 0.01372410 0.01651570\n",
       "2 0.03070454           0.02154701   0.01568620 0.01445237 0.01719755\n",
       "  HvyAlcoholConsump AnyHealthcare NoDocbcCost     GenHlth    MentHlth\n",
       "1        0.02843259    0.03052478  0.02328375 0.007867906 0.001820199\n",
       "2        0.03612175    0.03437389  0.02506610 0.008446705 0.001910198\n",
       "     PhysHlth   DiffWalk        Sex         Age   Education      Income\n",
       "1 0.002608363 0.01905926 0.01325054 0.002626106 0.007520604 0.003620464\n",
       "2 0.002658049 0.01925663 0.01404241 0.002869408 0.007911080 0.003797465\n",
       "\n",
       "Residual Deviance: 337610.9 \n",
       "AIC: 337698.9 "
      ]
     },
     "metadata": {},
     "output_type": "display_data"
    }
   ],
   "source": [
    "summary(stepwise_model)"
   ]
  },
  {
   "cell_type": "code",
   "execution_count": 113,
   "metadata": {
    "vscode": {
     "languageId": "r"
    }
   },
   "outputs": [
    {
     "name": "stderr",
     "output_type": "stream",
     "text": [
      "Warning message in vif.default(stepwise_model):\n",
      "\"No intercept: vifs may not be sensible.\"\n"
     ]
    },
    {
     "data": {
      "text/html": [
       "<style>\n",
       ".dl-inline {width: auto; margin:0; padding: 0}\n",
       ".dl-inline>dt, .dl-inline>dd {float: none; width: auto; display: inline-block}\n",
       ".dl-inline>dt::after {content: \":\\0020\"; padding-right: .5ex}\n",
       ".dl-inline>dt:not(:first-of-type) {padding-left: .5ex}\n",
       "</style><dl class=dl-inline><dt>HighBP</dt><dd>4.49569005230869</dd><dt>HighChol</dt><dd>3.97352632806813</dd><dt>CholCheck</dt><dd>78.3934989199893</dd><dt>BMI</dt><dd>2.92119795970615</dd><dt>Smoker</dt><dd>3.26391515360915</dd><dt>Stroke</dt><dd>2.31718041555112</dd><dt>HeartDiseaseorAttack</dt><dd>2.69835463464111</dd><dt>PhysActivity</dt><dd>5.99665293937984</dd><dt>Fruits</dt><dd>4.32383778107617</dd><dt>Veggies</dt><dd>8.01685931245613</dd><dt>HvyAlcoholConsump</dt><dd>1.34608561664247</dd><dt>AnyHealthcare</dt><dd>33.4894075678309</dd><dt>NoDocbcCost</dt><dd>2.34122772966915</dd><dt>GenHlth</dt><dd>23.0588199434588</dd><dt>MentHlth</dt><dd>2.85602610709358</dd><dt>PhysHlth</dt><dd>4.07928097939932</dd><dt>DiffWalk</dt><dd>3.74372333495189</dd><dt>Sex</dt><dd>3.01751568623141</dd><dt>Age</dt><dd>23.0997240611208</dd><dt>Education</dt><dd>19.5778065330611</dd><dt>Income</dt><dd>17.318334553985</dd></dl>\n"
      ],
      "text/latex": [
       "\\begin{description*}\n",
       "\\item[HighBP] 4.49569005230869\n",
       "\\item[HighChol] 3.97352632806813\n",
       "\\item[CholCheck] 78.3934989199893\n",
       "\\item[BMI] 2.92119795970615\n",
       "\\item[Smoker] 3.26391515360915\n",
       "\\item[Stroke] 2.31718041555112\n",
       "\\item[HeartDiseaseorAttack] 2.69835463464111\n",
       "\\item[PhysActivity] 5.99665293937984\n",
       "\\item[Fruits] 4.32383778107617\n",
       "\\item[Veggies] 8.01685931245613\n",
       "\\item[HvyAlcoholConsump] 1.34608561664247\n",
       "\\item[AnyHealthcare] 33.4894075678309\n",
       "\\item[NoDocbcCost] 2.34122772966915\n",
       "\\item[GenHlth] 23.0588199434588\n",
       "\\item[MentHlth] 2.85602610709358\n",
       "\\item[PhysHlth] 4.07928097939932\n",
       "\\item[DiffWalk] 3.74372333495189\n",
       "\\item[Sex] 3.01751568623141\n",
       "\\item[Age] 23.0997240611208\n",
       "\\item[Education] 19.5778065330611\n",
       "\\item[Income] 17.318334553985\n",
       "\\end{description*}\n"
      ],
      "text/markdown": [
       "HighBP\n",
       ":   4.49569005230869HighChol\n",
       ":   3.97352632806813CholCheck\n",
       ":   78.3934989199893BMI\n",
       ":   2.92119795970615Smoker\n",
       ":   3.26391515360915Stroke\n",
       ":   2.31718041555112HeartDiseaseorAttack\n",
       ":   2.69835463464111PhysActivity\n",
       ":   5.99665293937984Fruits\n",
       ":   4.32383778107617Veggies\n",
       ":   8.01685931245613HvyAlcoholConsump\n",
       ":   1.34608561664247AnyHealthcare\n",
       ":   33.4894075678309NoDocbcCost\n",
       ":   2.34122772966915GenHlth\n",
       ":   23.0588199434588MentHlth\n",
       ":   2.85602610709358PhysHlth\n",
       ":   4.07928097939932DiffWalk\n",
       ":   3.74372333495189Sex\n",
       ":   3.01751568623141Age\n",
       ":   23.0997240611208Education\n",
       ":   19.5778065330611Income\n",
       ":   17.318334553985\n",
       "\n"
      ],
      "text/plain": [
       "              HighBP             HighChol            CholCheck \n",
       "            4.495690             3.973526            78.393499 \n",
       "                 BMI               Smoker               Stroke \n",
       "            2.921198             3.263915             2.317180 \n",
       "HeartDiseaseorAttack         PhysActivity               Fruits \n",
       "            2.698355             5.996653             4.323838 \n",
       "             Veggies    HvyAlcoholConsump        AnyHealthcare \n",
       "            8.016859             1.346086            33.489408 \n",
       "         NoDocbcCost              GenHlth             MentHlth \n",
       "            2.341228            23.058820             2.856026 \n",
       "            PhysHlth             DiffWalk                  Sex \n",
       "            4.079281             3.743723             3.017516 \n",
       "                 Age            Education               Income \n",
       "           23.099724            19.577807            17.318335 "
      ]
     },
     "metadata": {},
     "output_type": "display_data"
    }
   ],
   "source": [
    "vif(stepwise_model)"
   ]
  },
  {
   "cell_type": "code",
   "execution_count": 114,
   "metadata": {
    "vscode": {
     "languageId": "r"
    }
   },
   "outputs": [
    {
     "name": "stdout",
     "output_type": "stream",
     "text": [
      "$Precision\n",
      "         0          1          2 \n",
      "0.95012346 0.03209894 0.35050666 \n",
      "\n",
      "$Recall\n",
      "        0         1         2 \n",
      "0.6600858 0.3209435 0.5819471 \n",
      "\n",
      "$Accuracy\n",
      "[1] 0.6429885\n",
      "\n",
      "$Kappa\n",
      "[1] 0.242482\n",
      "\n",
      "$Macro_F1\n",
      "[1] 0.4795663\n",
      "\n"
     ]
    }
   ],
   "source": [
    "prop_pred <- predict(stepwise_model, test, type = 'class')\n",
    "conf_matrix <- table(test$Diabetes_012, prop_pred)\n",
    "print(eval_multi_class(conf_matrix))"
   ]
  },
  {
   "cell_type": "code",
   "execution_count": 93,
   "metadata": {
    "vscode": {
     "languageId": "r"
    }
   },
   "outputs": [
    {
     "data": {
      "image/png": "[encoded data removed]",
      "text/plain": [
       "plot without title"
      ]
     },
     "metadata": {
      "image/png": {
       "height": 420,
       "width": 420
      }
     },
     "output_type": "display_data"
    }
   ],
   "source": [
    "cm_melt <- melt(conf_matrix)\n",
    "colnames(cm_melt) <- c(\"Var1\", \"Var2\", \"value\")\n",
    "ggplot(data = cm_melt, aes(x = Var2, y = Var1, fill = value)) +\n",
    "    geom_tile() +\n",
    "    geom_text(aes(label = value), color = \"black\") +\n",
    "    scale_fill_gradient(low = \"white\", high = \"blue\") +\n",
    "    labs(x = \"Predicted\", y = \"Actual\", fill = \"Count\") +\n",
    "    ggtitle(\"Confusion Matrix - Combine\") +\n",
    "    theme_minimal()"
   ]
  },
  {
   "cell_type": "markdown",
   "metadata": {},
   "source": [
    "### Regularization"
   ]
  },
  {
   "cell_type": "code",
   "execution_count": 104,
   "metadata": {
    "vscode": {
     "languageId": "r"
    }
   },
   "outputs": [],
   "source": [
    "# xài glmnet \n",
    "model_lasso <- glmnet(as.matrix(train_combine[, -1]), as.factor(train_combine$Diabetes_012), family = 'multinomial', alpha = 1)\n",
    "model_ridge <- glmnet(as.matrix(train_combine[, -1]), as.factor(train_combine$Diabetes_012), family = 'multinomial', alpha = 0)\n",
    "model_enet <- glmnet(as.matrix(train_combine[, -1]), as.factor(train_combine$Diabetes_012), family = 'multinomial', alpha = 0.5)"
   ]
  },
  {
   "cell_type": "code",
   "execution_count": 105,
   "metadata": {
    "vscode": {
     "languageId": "r"
    }
   },
   "outputs": [
    {
     "name": "stdout",
     "output_type": "stream",
     "text": [
      "Confusion Matrix for Lasso Model:\n",
      "$Precision\n",
      "         0          1          2 \n",
      "0.94827929 0.03274481 0.34847812 \n",
      "\n",
      "$Recall\n",
      "        0         1         2 \n",
      "0.6690526 0.3009292 0.5930057 \n",
      "\n",
      "$Accuracy\n",
      "[1] 0.6517134\n",
      "\n",
      "$Kappa\n",
      "[1] 0.2479099\n",
      "\n",
      "$Macro_F1\n",
      "[1] 0.4789404\n",
      "\n",
      "\n",
      "Confusion Matrix for Ridge Model:\n",
      "$Precision\n",
      "         0          1          2 \n",
      "0.94957796 0.03258492 0.34946603 \n",
      "\n",
      "$Recall\n",
      "        0         1         2 \n",
      "0.6631423 0.3195139 0.5814745 \n",
      "\n",
      "$Accuracy\n",
      "[1] 0.645472\n",
      "\n",
      "$Kappa\n",
      "[1] 0.2436224\n",
      "\n",
      "$Macro_F1\n",
      "[1] 0.4795153\n",
      "\n",
      "\n",
      "Confusion Matrix for Elastic Net Model:\n",
      "$Precision\n",
      "         0          1          2 \n",
      "0.94908518 0.03263245 0.34962638 \n",
      "\n",
      "$Recall\n",
      "        0         1         2 \n",
      "0.6665575 0.3095068 0.5881853 \n",
      "\n",
      "$Accuracy\n",
      "[1] 0.6490986\n",
      "\n",
      "$Kappa\n",
      "[1] 0.2464402\n",
      "\n",
      "$Macro_F1\n",
      "[1] 0.4794767\n",
      "\n"
     ]
    }
   ],
   "source": [
    "# Predict and evaluate for Lasso model\n",
    "pred_lasso <- predict(model_lasso, newx = as.matrix(test[, -1]), s = 0.01, type = 'class')\n",
    "cm_lasso <- table(test$Diabetes_012, pred_lasso)\n",
    "cat(\"Confusion Matrix for Lasso Model:\\n\")\n",
    "print(eval_multi_class(cm_lasso))\n",
    "\n",
    "# Predict and evaluate for Ridge model\n",
    "pred_ridge <- predict(model_ridge, newx = as.matrix(test[, -1]), s = 0.01, type = 'class')\n",
    "cm_ridge <- table(test$Diabetes_012, pred_ridge)\n",
    "cat(\"\\nConfusion Matrix for Ridge Model:\\n\")\n",
    "print(eval_multi_class(cm_ridge))\n",
    "\n",
    "# Predict and evaluate for Elastic Net model\n",
    "pred_enet <- predict(model_enet, newx = as.matrix(test[, -1]), s = 0.01, type = 'class')\n",
    "cm_enet <- table(test$Diabetes_012, pred_enet)\n",
    "cat(\"\\nConfusion Matrix for Elastic Net Model:\\n\")\n",
    "print(eval_multi_class(cm_enet))"
   ]
  },
  {
   "cell_type": "markdown",
   "metadata": {},
   "source": [
    "model với ridge cho kết quả tốt nhất và cũng khá gần với kết quả có được với stepwise_model "
   ]
  },
  {
   "cell_type": "markdown",
   "metadata": {},
   "source": [
    "### Naive Bayes"
   ]
  },
  {
   "cell_type": "code",
   "execution_count": 116,
   "metadata": {
    "vscode": {
     "languageId": "r"
    }
   },
   "outputs": [],
   "source": [
    "library(e1071)"
   ]
  },
  {
   "cell_type": "code",
   "execution_count": 117,
   "metadata": {
    "vscode": {
     "languageId": "r"
    }
   },
   "outputs": [
    {
     "name": "stdout",
     "output_type": "stream",
     "text": [
      "$Precision\n",
      "         0          1          2 \n",
      "0.92917959 0.02557078 0.30789660 \n",
      "\n",
      "$Recall\n",
      "        0         1         2 \n",
      "0.6960624 0.1000715 0.6574669 \n",
      "\n",
      "$Accuracy\n",
      "[1] 0.6797409\n",
      "\n",
      "$Kappa\n",
      "[1] 0.2474398\n",
      "\n",
      "$Macro_F1\n",
      "[1] 0.4504706\n",
      "\n"
     ]
    }
   ],
   "source": [
    "# xài naivebayes \n",
    "model_nb <- naiveBayes(Diabetes_012 ~ ., data = train_combine)\n",
    "pred_nb <- predict(model_nb, test, type = 'class')\n",
    "cm_nb <- table(test$Diabetes_012, pred_nb)\n",
    "print(eval_multi_class(cm_nb))"
   ]
  }
 ],
 "metadata": {
  "kernelspec": {
   "display_name": "R",
   "language": "R",
   "name": "ir"
  },
  "language_info": {
   "codemirror_mode": "r",
   "file_extension": ".r",
   "mimetype": "text/x-r-source",
   "name": "R",
   "pygments_lexer": "r",
   "version": "4.4.2"
  }
 },
 "nbformat": 4,
 "nbformat_minor": 2
}
